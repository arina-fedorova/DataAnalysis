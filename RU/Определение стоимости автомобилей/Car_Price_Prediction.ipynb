{
 "cells": [
  {
   "cell_type": "markdown",
   "metadata": {},
   "source": [
    "# Определение стоимости автомобилей"
   ]
  },
  {
   "cell_type": "markdown",
   "metadata": {},
   "source": [
    "Сервис по продаже автомобилей с пробегом «Не бит, не крашен» разрабатывает приложение для привлечения новых клиентов. В нём можно быстро узнать рыночную стоимость своего автомобиля. В вашем распоряжении исторические данные: технические характеристики, комплектации и цены автомобилей. Вам нужно построить модель для определения стоимости. \n",
    "\n",
    "Заказчику важны:\n",
    "\n",
    "- качество предсказания;\n",
    "- скорость предсказания;\n",
    "- время обучения."
   ]
  },
  {
   "cell_type": "markdown",
   "metadata": {},
   "source": [
    "## Подготовка данных"
   ]
  },
  {
   "cell_type": "code",
   "execution_count": 1,
   "metadata": {},
   "outputs": [],
   "source": [
    "# Импорт библиотек\n",
    "import pandas as pd\n",
    "import numpy as np\n",
    "\n",
    "from sklearn.model_selection import train_test_split\n",
    "from sklearn.linear_model import LinearRegression\n",
    "from sklearn.pipeline import Pipeline\n",
    "from sklearn.compose import ColumnTransformer\n",
    "from sklearn.preprocessing import OneHotEncoder, StandardScaler\n",
    "from sklearn.impute import SimpleImputer\n",
    "from sklearn.linear_model import LinearRegression\n",
    "from sklearn.dummy import DummyRegressor\n",
    "from lightgbm import LGBMRegressor\n",
    "from catboost import CatBoostRegressor\n",
    "import time\n",
    "\n",
    "# Оценка качества моделей\n",
    "from sklearn.metrics import mean_squared_error\n",
    "from math import sqrt\n",
    "\n",
    "import warnings\n",
    "warnings.filterwarnings('ignore')"
   ]
  },
  {
   "cell_type": "code",
   "execution_count": 2,
   "metadata": {},
   "outputs": [],
   "source": [
    "# Константы\n",
    "RANDOM_STATE = 42\n",
    "TEST_SIZE = 0.2\n",
    "VALIDATE_SIZE = 0.25\n",
    "VERBOSE=0"
   ]
  },
  {
   "cell_type": "code",
   "execution_count": 3,
   "metadata": {
    "scrolled": true
   },
   "outputs": [
    {
     "data": {
      "text/html": [
       "<div>\n",
       "<style scoped>\n",
       "    .dataframe tbody tr th:only-of-type {\n",
       "        vertical-align: middle;\n",
       "    }\n",
       "\n",
       "    .dataframe tbody tr th {\n",
       "        vertical-align: top;\n",
       "    }\n",
       "\n",
       "    .dataframe thead th {\n",
       "        text-align: right;\n",
       "    }\n",
       "</style>\n",
       "<table border=\"1\" class=\"dataframe\">\n",
       "  <thead>\n",
       "    <tr style=\"text-align: right;\">\n",
       "      <th></th>\n",
       "      <th>DateCrawled</th>\n",
       "      <th>Price</th>\n",
       "      <th>VehicleType</th>\n",
       "      <th>RegistrationYear</th>\n",
       "      <th>Gearbox</th>\n",
       "      <th>Power</th>\n",
       "      <th>Model</th>\n",
       "      <th>Kilometer</th>\n",
       "      <th>RegistrationMonth</th>\n",
       "      <th>FuelType</th>\n",
       "      <th>Brand</th>\n",
       "      <th>Repaired</th>\n",
       "      <th>DateCreated</th>\n",
       "      <th>NumberOfPictures</th>\n",
       "      <th>PostalCode</th>\n",
       "      <th>LastSeen</th>\n",
       "    </tr>\n",
       "  </thead>\n",
       "  <tbody>\n",
       "    <tr>\n",
       "      <th>0</th>\n",
       "      <td>2016-03-24 11:52:17</td>\n",
       "      <td>480</td>\n",
       "      <td>NaN</td>\n",
       "      <td>1993</td>\n",
       "      <td>manual</td>\n",
       "      <td>0</td>\n",
       "      <td>golf</td>\n",
       "      <td>150000</td>\n",
       "      <td>0</td>\n",
       "      <td>petrol</td>\n",
       "      <td>volkswagen</td>\n",
       "      <td>NaN</td>\n",
       "      <td>2016-03-24 00:00:00</td>\n",
       "      <td>0</td>\n",
       "      <td>70435</td>\n",
       "      <td>2016-04-07 03:16:57</td>\n",
       "    </tr>\n",
       "    <tr>\n",
       "      <th>1</th>\n",
       "      <td>2016-03-24 10:58:45</td>\n",
       "      <td>18300</td>\n",
       "      <td>coupe</td>\n",
       "      <td>2011</td>\n",
       "      <td>manual</td>\n",
       "      <td>190</td>\n",
       "      <td>NaN</td>\n",
       "      <td>125000</td>\n",
       "      <td>5</td>\n",
       "      <td>gasoline</td>\n",
       "      <td>audi</td>\n",
       "      <td>yes</td>\n",
       "      <td>2016-03-24 00:00:00</td>\n",
       "      <td>0</td>\n",
       "      <td>66954</td>\n",
       "      <td>2016-04-07 01:46:50</td>\n",
       "    </tr>\n",
       "    <tr>\n",
       "      <th>2</th>\n",
       "      <td>2016-03-14 12:52:21</td>\n",
       "      <td>9800</td>\n",
       "      <td>suv</td>\n",
       "      <td>2004</td>\n",
       "      <td>auto</td>\n",
       "      <td>163</td>\n",
       "      <td>grand</td>\n",
       "      <td>125000</td>\n",
       "      <td>8</td>\n",
       "      <td>gasoline</td>\n",
       "      <td>jeep</td>\n",
       "      <td>NaN</td>\n",
       "      <td>2016-03-14 00:00:00</td>\n",
       "      <td>0</td>\n",
       "      <td>90480</td>\n",
       "      <td>2016-04-05 12:47:46</td>\n",
       "    </tr>\n",
       "    <tr>\n",
       "      <th>3</th>\n",
       "      <td>2016-03-17 16:54:04</td>\n",
       "      <td>1500</td>\n",
       "      <td>small</td>\n",
       "      <td>2001</td>\n",
       "      <td>manual</td>\n",
       "      <td>75</td>\n",
       "      <td>golf</td>\n",
       "      <td>150000</td>\n",
       "      <td>6</td>\n",
       "      <td>petrol</td>\n",
       "      <td>volkswagen</td>\n",
       "      <td>no</td>\n",
       "      <td>2016-03-17 00:00:00</td>\n",
       "      <td>0</td>\n",
       "      <td>91074</td>\n",
       "      <td>2016-03-17 17:40:17</td>\n",
       "    </tr>\n",
       "    <tr>\n",
       "      <th>4</th>\n",
       "      <td>2016-03-31 17:25:20</td>\n",
       "      <td>3600</td>\n",
       "      <td>small</td>\n",
       "      <td>2008</td>\n",
       "      <td>manual</td>\n",
       "      <td>69</td>\n",
       "      <td>fabia</td>\n",
       "      <td>90000</td>\n",
       "      <td>7</td>\n",
       "      <td>gasoline</td>\n",
       "      <td>skoda</td>\n",
       "      <td>no</td>\n",
       "      <td>2016-03-31 00:00:00</td>\n",
       "      <td>0</td>\n",
       "      <td>60437</td>\n",
       "      <td>2016-04-06 10:17:21</td>\n",
       "    </tr>\n",
       "  </tbody>\n",
       "</table>\n",
       "</div>"
      ],
      "text/plain": [
       "           DateCrawled  Price VehicleType  RegistrationYear Gearbox  Power  \\\n",
       "0  2016-03-24 11:52:17    480         NaN              1993  manual      0   \n",
       "1  2016-03-24 10:58:45  18300       coupe              2011  manual    190   \n",
       "2  2016-03-14 12:52:21   9800         suv              2004    auto    163   \n",
       "3  2016-03-17 16:54:04   1500       small              2001  manual     75   \n",
       "4  2016-03-31 17:25:20   3600       small              2008  manual     69   \n",
       "\n",
       "   Model  Kilometer  RegistrationMonth  FuelType       Brand Repaired  \\\n",
       "0   golf     150000                  0    petrol  volkswagen      NaN   \n",
       "1    NaN     125000                  5  gasoline        audi      yes   \n",
       "2  grand     125000                  8  gasoline        jeep      NaN   \n",
       "3   golf     150000                  6    petrol  volkswagen       no   \n",
       "4  fabia      90000                  7  gasoline       skoda       no   \n",
       "\n",
       "           DateCreated  NumberOfPictures  PostalCode             LastSeen  \n",
       "0  2016-03-24 00:00:00                 0       70435  2016-04-07 03:16:57  \n",
       "1  2016-03-24 00:00:00                 0       66954  2016-04-07 01:46:50  \n",
       "2  2016-03-14 00:00:00                 0       90480  2016-04-05 12:47:46  \n",
       "3  2016-03-17 00:00:00                 0       91074  2016-03-17 17:40:17  \n",
       "4  2016-03-31 00:00:00                 0       60437  2016-04-06 10:17:21  "
      ]
     },
     "execution_count": 3,
     "metadata": {},
     "output_type": "execute_result"
    }
   ],
   "source": [
    "# Загрузка данных\n",
    "data = pd.read_csv('/datasets/autos.csv')\n",
    "data.head()"
   ]
  },
  {
   "cell_type": "code",
   "execution_count": 4,
   "metadata": {
    "collapsed": true,
    "jupyter": {
     "outputs_hidden": true
    }
   },
   "outputs": [
    {
     "name": "stdout",
     "output_type": "stream",
     "text": [
      "<class 'pandas.core.frame.DataFrame'>\n",
      "RangeIndex: 354369 entries, 0 to 354368\n",
      "Data columns (total 16 columns):\n",
      " #   Column             Non-Null Count   Dtype \n",
      "---  ------             --------------   ----- \n",
      " 0   DateCrawled        354369 non-null  object\n",
      " 1   Price              354369 non-null  int64 \n",
      " 2   VehicleType        316879 non-null  object\n",
      " 3   RegistrationYear   354369 non-null  int64 \n",
      " 4   Gearbox            334536 non-null  object\n",
      " 5   Power              354369 non-null  int64 \n",
      " 6   Model              334664 non-null  object\n",
      " 7   Kilometer          354369 non-null  int64 \n",
      " 8   RegistrationMonth  354369 non-null  int64 \n",
      " 9   FuelType           321474 non-null  object\n",
      " 10  Brand              354369 non-null  object\n",
      " 11  Repaired           283215 non-null  object\n",
      " 12  DateCreated        354369 non-null  object\n",
      " 13  NumberOfPictures   354369 non-null  int64 \n",
      " 14  PostalCode         354369 non-null  int64 \n",
      " 15  LastSeen           354369 non-null  object\n",
      "dtypes: int64(7), object(9)\n",
      "memory usage: 43.3+ MB\n"
     ]
    }
   ],
   "source": [
    "# Проверка пропусков и типов данных\n",
    "data.info()"
   ]
  },
  {
   "cell_type": "code",
   "execution_count": 5,
   "metadata": {},
   "outputs": [],
   "source": [
    "# Заполним пропуски дефолтным значением\n",
    "cat_features = ['Gearbox', 'Model', 'FuelType', 'Repaired']\n",
    "for col in cat_features:\n",
    "    data[col] = data[col].fillna('unknown')"
   ]
  },
  {
   "cell_type": "code",
   "execution_count": 6,
   "metadata": {},
   "outputs": [],
   "source": [
    "# Приведем типы RegistrationYear и RegistrationMonth к int\n",
    "data['RegistrationYear'] = data['RegistrationYear'].astype(int)\n",
    "data['RegistrationMonth'] = data['RegistrationMonth'].astype(int)"
   ]
  },
  {
   "cell_type": "code",
   "execution_count": 7,
   "metadata": {},
   "outputs": [
    {
     "data": {
      "text/html": [
       "<div>\n",
       "<style scoped>\n",
       "    .dataframe tbody tr th:only-of-type {\n",
       "        vertical-align: middle;\n",
       "    }\n",
       "\n",
       "    .dataframe tbody tr th {\n",
       "        vertical-align: top;\n",
       "    }\n",
       "\n",
       "    .dataframe thead th {\n",
       "        text-align: right;\n",
       "    }\n",
       "</style>\n",
       "<table border=\"1\" class=\"dataframe\">\n",
       "  <thead>\n",
       "    <tr style=\"text-align: right;\">\n",
       "      <th></th>\n",
       "      <th>count</th>\n",
       "      <th>mean</th>\n",
       "      <th>std</th>\n",
       "      <th>min</th>\n",
       "      <th>25%</th>\n",
       "      <th>50%</th>\n",
       "      <th>75%</th>\n",
       "      <th>max</th>\n",
       "    </tr>\n",
       "  </thead>\n",
       "  <tbody>\n",
       "    <tr>\n",
       "      <th>Price</th>\n",
       "      <td>354369.0</td>\n",
       "      <td>4416.656776</td>\n",
       "      <td>4514.158514</td>\n",
       "      <td>0.0</td>\n",
       "      <td>1050.0</td>\n",
       "      <td>2700.0</td>\n",
       "      <td>6400.0</td>\n",
       "      <td>20000.0</td>\n",
       "    </tr>\n",
       "    <tr>\n",
       "      <th>RegistrationYear</th>\n",
       "      <td>354369.0</td>\n",
       "      <td>2004.234448</td>\n",
       "      <td>90.227958</td>\n",
       "      <td>1000.0</td>\n",
       "      <td>1999.0</td>\n",
       "      <td>2003.0</td>\n",
       "      <td>2008.0</td>\n",
       "      <td>9999.0</td>\n",
       "    </tr>\n",
       "    <tr>\n",
       "      <th>Power</th>\n",
       "      <td>354369.0</td>\n",
       "      <td>110.094337</td>\n",
       "      <td>189.850405</td>\n",
       "      <td>0.0</td>\n",
       "      <td>69.0</td>\n",
       "      <td>105.0</td>\n",
       "      <td>143.0</td>\n",
       "      <td>20000.0</td>\n",
       "    </tr>\n",
       "    <tr>\n",
       "      <th>Kilometer</th>\n",
       "      <td>354369.0</td>\n",
       "      <td>128211.172535</td>\n",
       "      <td>37905.341530</td>\n",
       "      <td>5000.0</td>\n",
       "      <td>125000.0</td>\n",
       "      <td>150000.0</td>\n",
       "      <td>150000.0</td>\n",
       "      <td>150000.0</td>\n",
       "    </tr>\n",
       "    <tr>\n",
       "      <th>RegistrationMonth</th>\n",
       "      <td>354369.0</td>\n",
       "      <td>5.714645</td>\n",
       "      <td>3.726421</td>\n",
       "      <td>0.0</td>\n",
       "      <td>3.0</td>\n",
       "      <td>6.0</td>\n",
       "      <td>9.0</td>\n",
       "      <td>12.0</td>\n",
       "    </tr>\n",
       "    <tr>\n",
       "      <th>NumberOfPictures</th>\n",
       "      <td>354369.0</td>\n",
       "      <td>0.000000</td>\n",
       "      <td>0.000000</td>\n",
       "      <td>0.0</td>\n",
       "      <td>0.0</td>\n",
       "      <td>0.0</td>\n",
       "      <td>0.0</td>\n",
       "      <td>0.0</td>\n",
       "    </tr>\n",
       "    <tr>\n",
       "      <th>PostalCode</th>\n",
       "      <td>354369.0</td>\n",
       "      <td>50508.689087</td>\n",
       "      <td>25783.096248</td>\n",
       "      <td>1067.0</td>\n",
       "      <td>30165.0</td>\n",
       "      <td>49413.0</td>\n",
       "      <td>71083.0</td>\n",
       "      <td>99998.0</td>\n",
       "    </tr>\n",
       "  </tbody>\n",
       "</table>\n",
       "</div>"
      ],
      "text/plain": [
       "                      count           mean           std     min       25%  \\\n",
       "Price              354369.0    4416.656776   4514.158514     0.0    1050.0   \n",
       "RegistrationYear   354369.0    2004.234448     90.227958  1000.0    1999.0   \n",
       "Power              354369.0     110.094337    189.850405     0.0      69.0   \n",
       "Kilometer          354369.0  128211.172535  37905.341530  5000.0  125000.0   \n",
       "RegistrationMonth  354369.0       5.714645      3.726421     0.0       3.0   \n",
       "NumberOfPictures   354369.0       0.000000      0.000000     0.0       0.0   \n",
       "PostalCode         354369.0   50508.689087  25783.096248  1067.0   30165.0   \n",
       "\n",
       "                        50%       75%       max  \n",
       "Price                2700.0    6400.0   20000.0  \n",
       "RegistrationYear     2003.0    2008.0    9999.0  \n",
       "Power                 105.0     143.0   20000.0  \n",
       "Kilometer          150000.0  150000.0  150000.0  \n",
       "RegistrationMonth       6.0       9.0      12.0  \n",
       "NumberOfPictures        0.0       0.0       0.0  \n",
       "PostalCode          49413.0   71083.0   99998.0  "
      ]
     },
     "execution_count": 7,
     "metadata": {},
     "output_type": "execute_result"
    }
   ],
   "source": [
    "# Посмотрим на распределения числовых переменных\n",
    "data.describe().T"
   ]
  },
  {
   "cell_type": "markdown",
   "metadata": {},
   "source": [
    "Анализ распределений и выявление аномалий\n",
    "\n",
    "- `Price`: имеются значения, равные 0 — это неявно отсутствующие значения. Такие случаи искажат распределение и метрику RMSE, поэтому строки с `Price = 0` мы удалим.\n",
    "- `RegistrationYear`: обнаружены нереалистичные значения (1000–9999). Приемлемым диапазоном будем считать 1950–2025. Остальные строки удалим.\n",
    "- `Power`: встречаются значения равные 0 и более 500. Значения вне диапазона 1–500 будем считать аномальными и удалим.\n",
    "- `RegistrationMonth`: значение 0 невалидно — заменим на наиболее частое значение."
   ]
  },
  {
   "cell_type": "code",
   "execution_count": 8,
   "metadata": {},
   "outputs": [],
   "source": [
    "# Удаление строк с отсутствующим значением целевого признака\n",
    "data = data[data['Price'] > 100]\n",
    "\n",
    "# Границы для года регистрации\n",
    "data = data[(data['RegistrationYear'] >= 1950) & (data['RegistrationYear'] <= 2025)]\n",
    "\n",
    "# Границы мощности двигателя\n",
    "data = data[(data['Power'] > 50) & (data['Power'] < 500)]\n",
    "\n",
    "# Замена нулевого месяца на наиболее частый\n",
    "most_common_month = data.loc[data['RegistrationMonth'] != 0, 'RegistrationMonth'].mode()[0]\n",
    "data['RegistrationMonth'] = data['RegistrationMonth'].replace(0, most_common_month)"
   ]
  },
  {
   "cell_type": "code",
   "execution_count": 9,
   "metadata": {},
   "outputs": [
    {
     "data": {
      "text/plain": [
       "2017    7072\n",
       "2018    2748\n",
       "2019       8\n",
       "Name: RegistrationYear, dtype: int64"
      ]
     },
     "execution_count": 9,
     "metadata": {},
     "output_type": "execute_result"
    }
   ],
   "source": [
    "# Сравним RegistrationYear и DateCrawled\n",
    "data['DateCrawled'] = pd.to_datetime(data['DateCrawled'], errors='coerce')\n",
    "mask_future = data['RegistrationYear'] > data['DateCrawled'].dt.year\n",
    "data.loc[mask_future, 'RegistrationYear'].value_counts().sort_index()"
   ]
  },
  {
   "cell_type": "code",
   "execution_count": 10,
   "metadata": {},
   "outputs": [],
   "source": [
    "# Удаляем строки, где дата регистрации позже даты выгрузки объявления\n",
    "data = data[data['RegistrationYear'] <= data['DateCrawled'].dt.year]"
   ]
  },
  {
   "cell_type": "code",
   "execution_count": 11,
   "metadata": {},
   "outputs": [
    {
     "data": {
      "text/plain": [
       "petrol      178596\n",
       "gasoline     86895\n",
       "unknown      14233\n",
       "lpg           4650\n",
       "cng            476\n",
       "hybrid         200\n",
       "other           53\n",
       "electric        31\n",
       "Name: FuelType, dtype: int64"
      ]
     },
     "execution_count": 11,
     "metadata": {},
     "output_type": "execute_result"
    }
   ],
   "source": [
    "# Проверка значений признака FuelType\n",
    "data['FuelType'].value_counts(dropna=False)"
   ]
  },
  {
   "cell_type": "code",
   "execution_count": 12,
   "metadata": {},
   "outputs": [],
   "source": [
    "# Объединим категории petrol и gasoline\n",
    "data['FuelType'] = data['FuelType'].replace({'petrol': 'gasoline'})"
   ]
  },
  {
   "cell_type": "code",
   "execution_count": 13,
   "metadata": {},
   "outputs": [],
   "source": [
    "# Удалим явно неинформативные колонки\n",
    "data = data.drop(['NumberOfPictures', 'DateCrawled', 'DateCreated', 'LastSeen', \n",
    "                  'PostalCode', 'Brand', 'VehicleType', 'RegistrationMonth'], axis=1)"
   ]
  },
  {
   "cell_type": "code",
   "execution_count": 14,
   "metadata": {},
   "outputs": [
    {
     "name": "stdout",
     "output_type": "stream",
     "text": [
      "Дубликатов: 45939\n"
     ]
    }
   ],
   "source": [
    "# Удалим дубликаты\n",
    "print(f\"Дубликатов: {data.duplicated().sum()}\")\n",
    "data = data.drop_duplicates()"
   ]
  },
  {
   "cell_type": "code",
   "execution_count": 15,
   "metadata": {},
   "outputs": [],
   "source": [
    "# Разделение данных на признаки и целевой столбец\n",
    "X = data.drop('Price', axis=1)\n",
    "y = data['Price']"
   ]
  },
  {
   "cell_type": "markdown",
   "metadata": {},
   "source": [
    "**Вывод**\n",
    "\n",
    "- Данные успешно загружены.\n",
    "- Выполнено ознакомление со структурой и распределениями признаков.\n",
    "- Удалены неинформативные столбцы (`NumberOfPictures`, `DateCrawled`, `DateCreated`, `LastSeen`, `PostalCode`, пр.)\n",
    "- Пропущенные значения в категориальных признаках заполнены наиболее частыми.\n",
    "- Обнаружены и удалены аномалии в признаках `Price`, `Power`, `RegistrationYear`, `RegistrationMonth`.\n",
    "- Удалены дубликаты записей\n",
    "- Данные разделены на признаки `X` и целевой столбец `y`, готовы к построению моделей."
   ]
  },
  {
   "cell_type": "markdown",
   "metadata": {},
   "source": [
    "## Обучение моделей"
   ]
  },
  {
   "cell_type": "code",
   "execution_count": 16,
   "metadata": {},
   "outputs": [],
   "source": [
    "# Деление на временную и тестовую выборки\n",
    "X_temp, X_test, y_temp, y_test = train_test_split(\n",
    "    X, y, test_size=TEST_SIZE, random_state=RANDOM_STATE)\n",
    "\n",
    "# Деление временной выборки на тренировочную и валидационную\n",
    "X_train, X_val, y_train, y_val = train_test_split(\n",
    "    X_temp, y_temp, test_size=VALIDATE_SIZE, random_state=RANDOM_STATE)"
   ]
  },
  {
   "cell_type": "code",
   "execution_count": 17,
   "metadata": {},
   "outputs": [],
   "source": [
    "# Категориальные и числовые признаки\n",
    "categorical = ['Gearbox', 'Model', 'FuelType', 'Repaired']\n",
    "numerical = ['RegistrationYear', 'Power', 'Kilometer']\n",
    "\n",
    "# Подпайплайн\n",
    "cat_pipe = Pipeline([\n",
    "    ('encoder', OneHotEncoder(handle_unknown='ignore'))\n",
    "])\n",
    "\n",
    "num_pipe = Pipeline([\n",
    "    ('scaler', StandardScaler())\n",
    "])\n",
    "\n",
    "# ColumnTransformer\n",
    "preprocessor = ColumnTransformer([\n",
    "    ('cat', cat_pipe, categorical),\n",
    "    ('num', num_pipe, numerical)\n",
    "])"
   ]
  },
  {
   "cell_type": "code",
   "execution_count": 18,
   "metadata": {},
   "outputs": [
    {
     "name": "stdout",
     "output_type": "stream",
     "text": [
      "LinearRegression RMSE: 2771.67 | Обучение: 9.96 сек | Предсказание: 0.25 сек\n"
     ]
    }
   ],
   "source": [
    "# Linear Regression пайплайн\n",
    "pipe_lr = Pipeline([('preprocessor', preprocessor), ('model', LinearRegression())])\n",
    "\n",
    "# Время обучения\n",
    "start_train_lr = time.time()\n",
    "pipe_lr.fit(X_train, y_train)\n",
    "train_time_lr = time.time() - start_train_lr\n",
    "\n",
    "# Время предсказания\n",
    "start_pred_lr = time.time()\n",
    "lr_pred = pipe_lr.predict(X_val)\n",
    "pred_time_lr = time.time() - start_pred_lr\n",
    "\n",
    "# Метрика\n",
    "lr_rmse = sqrt(mean_squared_error(y_val, lr_pred))\n",
    "\n",
    "# Вывод\n",
    "print(f\"LinearRegression RMSE: {lr_rmse:.2f} | Обучение: {train_time_lr:.2f} сек | Предсказание: {pred_time_lr:.2f} сек\")"
   ]
  },
  {
   "cell_type": "code",
   "execution_count": 19,
   "metadata": {},
   "outputs": [
    {
     "name": "stdout",
     "output_type": "stream",
     "text": [
      "LightGBM RMSE: 1840.00 | Обучение: 3.84 сек | Предсказание: 0.60 сек\n"
     ]
    }
   ],
   "source": [
    "# LightGBM пайплайн\n",
    "pipe_lgb = Pipeline([('preprocessor', preprocessor), ('model', LGBMRegressor(random_state=RANDOM_STATE, verbose=VERBOSE,\n",
    "                                                                             force_row_wise=True))])\n",
    "\n",
    "# Время обучения\n",
    "start_train_lgb = time.time()\n",
    "pipe_lgb.fit(X_train, y_train)\n",
    "train_time_lgb = time.time() - start_train_lgb\n",
    "\n",
    "# Время предсказания\n",
    "start_pred_lgb = time.time()\n",
    "lgb_pred = pipe_lgb.predict(X_val)\n",
    "pred_time_lgb = time.time() - start_pred_lgb\n",
    "\n",
    "# Метрика\n",
    "lgb_rmse = sqrt(mean_squared_error(y_val, lgb_pred))\n",
    "\n",
    "# Вывод\n",
    "print(f\"LightGBM RMSE: {lgb_rmse:.2f} | Обучение: {train_time_lgb:.2f} сек | Предсказание: {pred_time_lgb:.2f} сек\")"
   ]
  },
  {
   "cell_type": "code",
   "execution_count": 20,
   "metadata": {},
   "outputs": [
    {
     "name": "stdout",
     "output_type": "stream",
     "text": [
      "CatBoost RMSE: 1801.85 | Обучение: 115.41 сек | Предсказание: 0.38 сек\n"
     ]
    }
   ],
   "source": [
    "# CatBoost модель\n",
    "cat_features_index = [X.columns.get_loc(col) for col in categorical]\n",
    "model_cb = CatBoostRegressor(random_state=RANDOM_STATE, verbose=VERBOSE)\n",
    "\n",
    "# Время обучения\n",
    "start_train_cb = time.time()\n",
    "model_cb.fit(X_train, y_train, cat_features=cat_features_index)\n",
    "train_time_cb = time.time() - start_train_cb\n",
    "\n",
    "# Время предсказания\n",
    "start_pred_cb = time.time()\n",
    "cb_pred = model_cb.predict(X_val)\n",
    "pred_time_cb = time.time() - start_pred_cb\n",
    "\n",
    "# Метрика\n",
    "cb_rmse = sqrt(mean_squared_error(y_val, cb_pred))\n",
    "\n",
    "# Вывод\n",
    "print(f\"CatBoost RMSE: {cb_rmse:.2f} | Обучение: {train_time_cb:.2f} сек | Предсказание: {pred_time_cb:.2f} сек\")"
   ]
  },
  {
   "cell_type": "code",
   "execution_count": 21,
   "metadata": {},
   "outputs": [
    {
     "name": "stdout",
     "output_type": "stream",
     "text": [
      "DummyRegressor (mean) RMSE: 4704.06\n"
     ]
    }
   ],
   "source": [
    "# DummyRegressor для оценки качества моделей\n",
    "dummy = DummyRegressor(strategy='mean')\n",
    "dummy.fit(X_train, y_train)\n",
    "dummy_pred = dummy.predict(X_val)\n",
    "rmse_dummy = sqrt(mean_squared_error(y_val, dummy_pred))\n",
    "print(f\"DummyRegressor (mean) RMSE: {rmse_dummy:.2f}\")"
   ]
  },
  {
   "cell_type": "markdown",
   "metadata": {},
   "source": [
    "**Результаты:**\n",
    "\n",
    "| Модель | RMSE | Обучение (сек) | Предсказание (сек) |\n",
    "| --- | --- | --- | --- |\n",
    "| LinearRegression | 2771.67 | 9.96 | 0.25 |\n",
    "| LightGBM | 1840.00 | 3.84 | 0.60 |\n",
    "| CatBoost | 1801.85 | 115.41 | 0.38 |\n",
    "| DummyRegressor | 4704.06 | - | - |"
   ]
  },
  {
   "cell_type": "markdown",
   "metadata": {},
   "source": [
    "С учётом баланса качества предсказания, скорости обучения и скорости инференса была выбрана модель LightGBM. Несмотря на небольшое отставание от CatBoost по RMSE, она в разы быстрее обучается, а предсказания делает с приемлемой задержкой. Это делает её наилучшим вариантом для практического применения в условиях ограничений на время обучения."
   ]
  },
  {
   "cell_type": "code",
   "execution_count": 22,
   "metadata": {},
   "outputs": [
    {
     "name": "stdout",
     "output_type": "stream",
     "text": [
      "Финальное RMSE: 1819.84\n",
      "Время предсказания: 0.59 сек\n"
     ]
    }
   ],
   "source": [
    "# Предсказание на финальной тестовой выборке\n",
    "start_pred = time.time()\n",
    "final_preds = pipe_lgb.predict(X_test)\n",
    "pred_time = time.time() - start_pred\n",
    "\n",
    "# Вычисляем финальный RMSE\n",
    "final_rmse = sqrt(mean_squared_error(y_test, final_preds))\n",
    "\n",
    "# Вывод\n",
    "print(f\"Финальное RMSE: {final_rmse:.2f}\")\n",
    "print(f\"Время предсказания: {pred_time:.2f} сек\")"
   ]
  },
  {
   "cell_type": "markdown",
   "metadata": {},
   "source": [
    "Модель LightGBM была протестирована на ранее не использовавшейся тестовой выборке (`X_test`). Полученные значения:\n",
    "\n",
    "- **RMSE:** 1819.84\n",
    "- **Время предсказания:** 0.59 сек\n",
    "\n",
    "Это подтверждает, что модель сохраняет стабильное качество на новых данных и может быть рекомендована для использования в производственной среде."
   ]
  },
  {
   "cell_type": "markdown",
   "metadata": {},
   "source": [
    "## Анализ моделей"
   ]
  },
  {
   "cell_type": "markdown",
   "metadata": {},
   "source": [
    "### Анализ моделей по критериям заказчика\n",
    "\n",
    "В рамках проекта были обучены и протестированы три модели: **Linear Regression**, **LightGBM** и **CatBoost**. В качестве базовой использовалась **DummyRegressor**. Оценка проводилась по следующим критериям, определённым заказчиком:\n",
    "\n",
    "- Качество предсказания (RMSE)\n",
    "- Время обучения модели\n",
    "- Скорость предсказания\n",
    "\n",
    "\n",
    "#### Качество предсказания (RMSE)\n",
    "\n",
    "На валидационной выборке наилучшее значение RMSE показала модель **CatBoost** (1768.78), немного опередив **LightGBM** (1819.96). Разница между ними составляет менее 3%, что не является критичной. Линейная регрессия дала существенно худший результат (RMSE = 2763.89), но всё равно значительно превзошла Dummy-модель (4711.54).\n",
    "\n",
    "#### Время обучения\n",
    "\n",
    "Наименьшее время обучения продемонстрировала **LightGBM** — всего 3.84 секунды. CatBoost, напротив, обучался около двух минут (115.41 сек). Linear Regression заняла промежуточное положение (9.96 сек). Это делает LightGBM особенно привлекательной с точки зрения времени подготовки модели.\n",
    "\n",
    "#### Скорость предсказания\n",
    "\n",
    "На этапе предсказания все модели показали высокую скорость:\n",
    "\n",
    "- Linear Regression — 0.25 сек\n",
    "- CatBoost — 0.38 сек\n",
    "- LightGBM — 0.60 сек\n",
    "\n",
    "Даже самое \"медленное\" предсказание (LightGBM) укладывается в доли секунды и подходит для приложений с требованиями к производительности.\n",
    "\n",
    "### Общий вывод\n",
    "\n",
    "С учётом всех трёх критериев — **качества предсказания, времени обучения и скорости предсказания** — оптимальным выбором является модель **LightGBM**. Она демонстрирует высокое качество, сравнимое с **CatBoost**, но при этом в десятки раз быстрее обучается, что делает её предпочтительной для практического применения, особенно при необходимости частого переобучения.\n",
    "\n",
    "Модель **CatBoost** может быть выбрана в тех случаях, когда приоритетом является максимальная точность и время обучения не критично.\n",
    "\n",
    "**Linear Regression** не рекомендуется в качестве основной модели, но может использоваться как базовый ориентир для оценки более сложных алгоритмов."
   ]
  }
 ],
 "metadata": {
  "ExecuteTimeLog": [
   {
    "duration": 1322,
    "start_time": "2025-05-10T03:07:39.527Z"
   },
   {
    "duration": 3,
    "start_time": "2025-05-10T03:08:04.556Z"
   },
   {
    "duration": 880,
    "start_time": "2025-05-10T03:08:25.442Z"
   },
   {
    "duration": 143,
    "start_time": "2025-05-10T03:08:36.962Z"
   },
   {
    "duration": 30,
    "start_time": "2025-05-10T03:08:55.114Z"
   },
   {
    "duration": 122,
    "start_time": "2025-05-10T03:09:03.819Z"
   },
   {
    "duration": 7,
    "start_time": "2025-05-10T03:09:22.379Z"
   },
   {
    "duration": 28,
    "start_time": "2025-05-10T03:09:34.739Z"
   },
   {
    "duration": 88,
    "start_time": "2025-05-10T03:09:51.731Z"
   },
   {
    "duration": 6,
    "start_time": "2025-05-10T03:10:03.411Z"
   },
   {
    "duration": 45399,
    "start_time": "2025-05-10T03:10:24.694Z"
   },
   {
    "duration": 150623,
    "start_time": "2025-05-10T03:11:30.444Z"
   },
   {
    "duration": 294389,
    "start_time": "2025-05-10T03:14:09.733Z"
   },
   {
    "duration": 79,
    "start_time": "2025-05-10T03:21:06.175Z"
   },
   {
    "duration": 24,
    "start_time": "2025-05-10T03:21:59.463Z"
   },
   {
    "duration": 5,
    "start_time": "2025-05-10T03:23:11.501Z"
   },
   {
    "duration": 1301,
    "start_time": "2025-05-10T03:28:21.848Z"
   },
   {
    "duration": 2,
    "start_time": "2025-05-10T03:28:23.151Z"
   },
   {
    "duration": 902,
    "start_time": "2025-05-10T03:28:23.155Z"
   },
   {
    "duration": 184,
    "start_time": "2025-05-10T03:28:24.058Z"
   },
   {
    "duration": 29,
    "start_time": "2025-05-10T03:28:24.245Z"
   },
   {
    "duration": 149,
    "start_time": "2025-05-10T03:28:24.276Z"
   },
   {
    "duration": 11,
    "start_time": "2025-05-10T03:28:24.427Z"
   },
   {
    "duration": 71,
    "start_time": "2025-05-10T03:28:24.439Z"
   },
   {
    "duration": 119,
    "start_time": "2025-05-10T03:28:24.512Z"
   },
   {
    "duration": 13,
    "start_time": "2025-05-10T03:28:24.633Z"
   },
   {
    "duration": 66,
    "start_time": "2025-05-10T03:28:24.648Z"
   },
   {
    "duration": 21,
    "start_time": "2025-05-10T03:28:24.716Z"
   },
   {
    "duration": 1434,
    "start_time": "2025-05-10T03:28:24.738Z"
   },
   {
    "duration": 0,
    "start_time": "2025-05-10T03:28:26.174Z"
   },
   {
    "duration": 0,
    "start_time": "2025-05-10T03:28:26.176Z"
   },
   {
    "duration": 1358,
    "start_time": "2025-05-10T03:28:47.068Z"
   },
   {
    "duration": 8,
    "start_time": "2025-05-10T03:28:48.428Z"
   },
   {
    "duration": 906,
    "start_time": "2025-05-10T03:28:48.437Z"
   },
   {
    "duration": 143,
    "start_time": "2025-05-10T03:28:49.344Z"
   },
   {
    "duration": 28,
    "start_time": "2025-05-10T03:28:49.490Z"
   },
   {
    "duration": 114,
    "start_time": "2025-05-10T03:28:49.536Z"
   },
   {
    "duration": 5,
    "start_time": "2025-05-10T03:28:49.652Z"
   },
   {
    "duration": 87,
    "start_time": "2025-05-10T03:28:49.659Z"
   },
   {
    "duration": 116,
    "start_time": "2025-05-10T03:28:49.747Z"
   },
   {
    "duration": 14,
    "start_time": "2025-05-10T03:28:49.864Z"
   },
   {
    "duration": 79,
    "start_time": "2025-05-10T03:28:49.879Z"
   },
   {
    "duration": 5,
    "start_time": "2025-05-10T03:28:49.959Z"
   },
   {
    "duration": 34791,
    "start_time": "2025-05-10T03:28:49.965Z"
   },
   {
    "duration": 208020,
    "start_time": "2025-05-10T03:29:24.759Z"
   },
   {
    "duration": 250845,
    "start_time": "2025-05-10T03:32:52.836Z"
   },
   {
    "duration": 5,
    "start_time": "2025-05-10T04:44:26.606Z"
   },
   {
    "duration": 6,
    "start_time": "2025-05-10T04:45:21.669Z"
   },
   {
    "duration": 1343,
    "start_time": "2025-05-10T04:46:11.401Z"
   },
   {
    "duration": 2,
    "start_time": "2025-05-10T04:46:12.746Z"
   },
   {
    "duration": 908,
    "start_time": "2025-05-10T04:46:12.750Z"
   },
   {
    "duration": 166,
    "start_time": "2025-05-10T04:46:13.660Z"
   },
   {
    "duration": 33,
    "start_time": "2025-05-10T04:46:13.828Z"
   },
   {
    "duration": 153,
    "start_time": "2025-05-10T04:46:13.863Z"
   },
   {
    "duration": 18,
    "start_time": "2025-05-10T04:46:14.018Z"
   },
   {
    "duration": 81,
    "start_time": "2025-05-10T04:46:14.037Z"
   },
   {
    "duration": 127,
    "start_time": "2025-05-10T04:46:14.119Z"
   },
   {
    "duration": 13,
    "start_time": "2025-05-10T04:46:14.248Z"
   },
   {
    "duration": 82,
    "start_time": "2025-05-10T04:46:14.262Z"
   },
   {
    "duration": 4,
    "start_time": "2025-05-10T04:46:14.346Z"
   },
   {
    "duration": 32101,
    "start_time": "2025-05-10T04:46:14.351Z"
   },
   {
    "duration": 189497,
    "start_time": "2025-05-10T04:46:46.454Z"
   },
   {
    "duration": 248573,
    "start_time": "2025-05-10T04:49:55.953Z"
   },
   {
    "duration": 7,
    "start_time": "2025-05-10T04:54:04.540Z"
   },
   {
    "duration": 54,
    "start_time": "2025-05-11T03:07:51.355Z"
   },
   {
    "duration": 1398,
    "start_time": "2025-05-11T03:07:57.071Z"
   },
   {
    "duration": 3,
    "start_time": "2025-05-11T03:07:58.471Z"
   },
   {
    "duration": 1029,
    "start_time": "2025-05-11T03:07:58.475Z"
   },
   {
    "duration": 174,
    "start_time": "2025-05-11T03:07:59.505Z"
   },
   {
    "duration": 217,
    "start_time": "2025-05-11T03:08:03.250Z"
   },
   {
    "duration": 76,
    "start_time": "2025-05-11T03:08:19.388Z"
   },
   {
    "duration": 70,
    "start_time": "2025-05-11T03:08:55.651Z"
   },
   {
    "duration": 71,
    "start_time": "2025-05-11T03:11:33.435Z"
   },
   {
    "duration": 4,
    "start_time": "2025-05-11T03:11:49.352Z"
   },
   {
    "duration": 40,
    "start_time": "2025-05-11T03:11:49.358Z"
   },
   {
    "duration": 1028,
    "start_time": "2025-05-11T03:11:49.400Z"
   },
   {
    "duration": 161,
    "start_time": "2025-05-11T03:11:50.430Z"
   },
   {
    "duration": 136,
    "start_time": "2025-05-11T03:11:50.593Z"
   },
   {
    "duration": 6,
    "start_time": "2025-05-11T03:11:50.731Z"
   },
   {
    "duration": 119,
    "start_time": "2025-05-11T03:11:50.738Z"
   },
   {
    "duration": 184,
    "start_time": "2025-05-11T03:11:50.859Z"
   },
   {
    "duration": 130,
    "start_time": "2025-05-11T03:11:57.587Z"
   },
   {
    "duration": 32,
    "start_time": "2025-05-11T03:12:57.349Z"
   },
   {
    "duration": 63,
    "start_time": "2025-05-11T03:13:33.085Z"
   },
   {
    "duration": 33,
    "start_time": "2025-05-11T03:16:52.807Z"
   },
   {
    "duration": 68,
    "start_time": "2025-05-11T03:17:24.895Z"
   },
   {
    "duration": 35,
    "start_time": "2025-05-11T04:04:09.201Z"
   },
   {
    "duration": 35,
    "start_time": "2025-05-11T04:06:33.681Z"
   },
   {
    "duration": 315,
    "start_time": "2025-05-11T04:08:05.474Z"
   },
   {
    "duration": 606,
    "start_time": "2025-05-11T04:08:12.018Z"
   },
   {
    "duration": 4,
    "start_time": "2025-05-11T04:08:22.636Z"
   },
   {
    "duration": 53,
    "start_time": "2025-05-11T04:08:22.643Z"
   },
   {
    "duration": 908,
    "start_time": "2025-05-11T04:08:22.698Z"
   },
   {
    "duration": 157,
    "start_time": "2025-05-11T04:08:23.608Z"
   },
   {
    "duration": 141,
    "start_time": "2025-05-11T04:08:23.768Z"
   },
   {
    "duration": 7,
    "start_time": "2025-05-11T04:08:23.912Z"
   },
   {
    "duration": 108,
    "start_time": "2025-05-11T04:08:23.921Z"
   },
   {
    "duration": 129,
    "start_time": "2025-05-11T04:08:24.032Z"
   },
   {
    "duration": 85,
    "start_time": "2025-05-11T04:08:24.163Z"
   },
   {
    "duration": 0,
    "start_time": "2025-05-11T04:08:24.250Z"
   },
   {
    "duration": 0,
    "start_time": "2025-05-11T04:08:24.251Z"
   },
   {
    "duration": 0,
    "start_time": "2025-05-11T04:08:24.252Z"
   },
   {
    "duration": 0,
    "start_time": "2025-05-11T04:08:24.253Z"
   },
   {
    "duration": 0,
    "start_time": "2025-05-11T04:08:24.254Z"
   },
   {
    "duration": 97,
    "start_time": "2025-05-11T04:09:51.002Z"
   },
   {
    "duration": 1485,
    "start_time": "2025-05-11T04:10:12.093Z"
   },
   {
    "duration": 3,
    "start_time": "2025-05-11T04:10:13.580Z"
   },
   {
    "duration": 1042,
    "start_time": "2025-05-11T04:10:13.586Z"
   },
   {
    "duration": 178,
    "start_time": "2025-05-11T04:10:14.631Z"
   },
   {
    "duration": 141,
    "start_time": "2025-05-11T04:10:14.812Z"
   },
   {
    "duration": 7,
    "start_time": "2025-05-11T04:10:14.956Z"
   },
   {
    "duration": 125,
    "start_time": "2025-05-11T04:10:14.966Z"
   },
   {
    "duration": 182,
    "start_time": "2025-05-11T04:10:15.093Z"
   },
   {
    "duration": 111,
    "start_time": "2025-05-11T04:10:15.277Z"
   },
   {
    "duration": 71,
    "start_time": "2025-05-11T04:10:15.390Z"
   },
   {
    "duration": 47,
    "start_time": "2025-05-11T04:10:15.462Z"
   },
   {
    "duration": 179,
    "start_time": "2025-05-11T04:10:15.510Z"
   },
   {
    "duration": 104,
    "start_time": "2025-05-11T04:10:15.691Z"
   },
   {
    "duration": 0,
    "start_time": "2025-05-11T04:10:15.797Z"
   },
   {
    "duration": 128,
    "start_time": "2025-05-11T04:10:27.893Z"
   },
   {
    "duration": 12,
    "start_time": "2025-05-11T04:10:53.036Z"
   },
   {
    "duration": 215,
    "start_time": "2025-05-11T04:10:55.395Z"
   },
   {
    "duration": 11,
    "start_time": "2025-05-11T04:10:58.171Z"
   },
   {
    "duration": 1373,
    "start_time": "2025-05-11T04:11:39.577Z"
   },
   {
    "duration": 3,
    "start_time": "2025-05-11T04:11:40.952Z"
   },
   {
    "duration": 976,
    "start_time": "2025-05-11T04:11:40.956Z"
   },
   {
    "duration": 156,
    "start_time": "2025-05-11T04:11:41.933Z"
   },
   {
    "duration": 130,
    "start_time": "2025-05-11T04:11:42.091Z"
   },
   {
    "duration": 6,
    "start_time": "2025-05-11T04:11:42.223Z"
   },
   {
    "duration": 159,
    "start_time": "2025-05-11T04:11:42.231Z"
   },
   {
    "duration": 187,
    "start_time": "2025-05-11T04:11:42.391Z"
   },
   {
    "duration": 130,
    "start_time": "2025-05-11T04:11:42.579Z"
   },
   {
    "duration": 64,
    "start_time": "2025-05-11T04:11:42.711Z"
   },
   {
    "duration": 47,
    "start_time": "2025-05-11T04:11:42.777Z"
   },
   {
    "duration": 34,
    "start_time": "2025-05-11T04:11:42.825Z"
   },
   {
    "duration": 23,
    "start_time": "2025-05-11T04:11:42.860Z"
   },
   {
    "duration": 121,
    "start_time": "2025-05-11T04:11:48.551Z"
   },
   {
    "duration": 5,
    "start_time": "2025-05-11T04:12:08.172Z"
   },
   {
    "duration": 11,
    "start_time": "2025-05-11T04:12:08.179Z"
   },
   {
    "duration": 935,
    "start_time": "2025-05-11T04:12:08.192Z"
   },
   {
    "duration": 157,
    "start_time": "2025-05-11T04:12:09.128Z"
   },
   {
    "duration": 142,
    "start_time": "2025-05-11T04:12:09.287Z"
   },
   {
    "duration": 6,
    "start_time": "2025-05-11T04:12:09.432Z"
   },
   {
    "duration": 139,
    "start_time": "2025-05-11T04:12:09.439Z"
   },
   {
    "duration": 142,
    "start_time": "2025-05-11T04:12:09.580Z"
   },
   {
    "duration": 114,
    "start_time": "2025-05-11T04:12:09.724Z"
   },
   {
    "duration": 66,
    "start_time": "2025-05-11T04:12:09.840Z"
   },
   {
    "duration": 34,
    "start_time": "2025-05-11T04:12:09.908Z"
   },
   {
    "duration": 119,
    "start_time": "2025-05-11T04:12:09.943Z"
   },
   {
    "duration": 20,
    "start_time": "2025-05-11T04:12:10.064Z"
   },
   {
    "duration": 135,
    "start_time": "2025-05-11T04:12:12.110Z"
   },
   {
    "duration": 147,
    "start_time": "2025-05-11T04:14:01.943Z"
   },
   {
    "duration": 148,
    "start_time": "2025-05-11T04:14:15.032Z"
   },
   {
    "duration": 57,
    "start_time": "2025-05-11T04:14:52.798Z"
   },
   {
    "duration": 0,
    "start_time": "2025-05-11T04:14:52.857Z"
   },
   {
    "duration": 0,
    "start_time": "2025-05-11T04:14:52.858Z"
   },
   {
    "duration": 0,
    "start_time": "2025-05-11T04:14:52.859Z"
   },
   {
    "duration": 0,
    "start_time": "2025-05-11T04:14:52.860Z"
   },
   {
    "duration": 0,
    "start_time": "2025-05-11T04:14:52.861Z"
   },
   {
    "duration": 0,
    "start_time": "2025-05-11T04:14:52.862Z"
   },
   {
    "duration": 0,
    "start_time": "2025-05-11T04:14:52.863Z"
   },
   {
    "duration": 1430,
    "start_time": "2025-05-11T04:15:14.908Z"
   },
   {
    "duration": 2,
    "start_time": "2025-05-11T04:15:16.340Z"
   },
   {
    "duration": 1032,
    "start_time": "2025-05-11T04:15:16.345Z"
   },
   {
    "duration": 180,
    "start_time": "2025-05-11T04:15:17.379Z"
   },
   {
    "duration": 164,
    "start_time": "2025-05-11T04:15:17.562Z"
   },
   {
    "duration": 6,
    "start_time": "2025-05-11T04:15:17.728Z"
   },
   {
    "duration": 133,
    "start_time": "2025-05-11T04:15:17.736Z"
   },
   {
    "duration": 183,
    "start_time": "2025-05-11T04:15:17.871Z"
   },
   {
    "duration": 114,
    "start_time": "2025-05-11T04:15:18.056Z"
   },
   {
    "duration": 83,
    "start_time": "2025-05-11T04:15:18.172Z"
   },
   {
    "duration": 35,
    "start_time": "2025-05-11T04:15:18.257Z"
   },
   {
    "duration": 35,
    "start_time": "2025-05-11T04:15:18.306Z"
   },
   {
    "duration": 19,
    "start_time": "2025-05-11T04:15:18.343Z"
   },
   {
    "duration": 118,
    "start_time": "2025-05-11T04:15:18.365Z"
   },
   {
    "duration": 110,
    "start_time": "2025-05-11T04:15:20.862Z"
   },
   {
    "duration": 4,
    "start_time": "2025-05-11T04:15:36.193Z"
   },
   {
    "duration": 207,
    "start_time": "2025-05-11T04:15:42.536Z"
   },
   {
    "duration": 5,
    "start_time": "2025-05-11T04:15:44.848Z"
   },
   {
    "duration": 1355,
    "start_time": "2025-05-11T04:25:19.328Z"
   },
   {
    "duration": 2,
    "start_time": "2025-05-11T04:25:20.685Z"
   },
   {
    "duration": 1004,
    "start_time": "2025-05-11T04:25:20.689Z"
   },
   {
    "duration": 172,
    "start_time": "2025-05-11T04:25:21.694Z"
   },
   {
    "duration": 169,
    "start_time": "2025-05-11T04:25:21.868Z"
   },
   {
    "duration": 6,
    "start_time": "2025-05-11T04:25:22.039Z"
   },
   {
    "duration": 147,
    "start_time": "2025-05-11T04:25:22.046Z"
   },
   {
    "duration": 165,
    "start_time": "2025-05-11T04:25:22.195Z"
   },
   {
    "duration": 107,
    "start_time": "2025-05-11T04:25:22.362Z"
   },
   {
    "duration": 75,
    "start_time": "2025-05-11T04:25:22.471Z"
   },
   {
    "duration": 35,
    "start_time": "2025-05-11T04:25:22.547Z"
   },
   {
    "duration": 46,
    "start_time": "2025-05-11T04:25:22.584Z"
   },
   {
    "duration": 16,
    "start_time": "2025-05-11T04:25:22.632Z"
   },
   {
    "duration": 293,
    "start_time": "2025-05-11T04:25:22.651Z"
   },
   {
    "duration": 9,
    "start_time": "2025-05-11T04:25:22.946Z"
   },
   {
    "duration": 38,
    "start_time": "2025-05-11T04:25:22.957Z"
   },
   {
    "duration": 9,
    "start_time": "2025-05-11T04:25:22.997Z"
   },
   {
    "duration": 1194,
    "start_time": "2025-05-11T04:25:23.007Z"
   },
   {
    "duration": 0,
    "start_time": "2025-05-11T04:25:24.202Z"
   },
   {
    "duration": 0,
    "start_time": "2025-05-11T04:25:24.203Z"
   },
   {
    "duration": 0,
    "start_time": "2025-05-11T04:25:24.204Z"
   },
   {
    "duration": 1421,
    "start_time": "2025-05-11T04:26:42.780Z"
   },
   {
    "duration": 4,
    "start_time": "2025-05-11T04:26:44.203Z"
   },
   {
    "duration": 988,
    "start_time": "2025-05-11T04:26:44.209Z"
   },
   {
    "duration": 167,
    "start_time": "2025-05-11T04:26:45.199Z"
   },
   {
    "duration": 94,
    "start_time": "2025-05-11T04:26:45.368Z"
   },
   {
    "duration": 6,
    "start_time": "2025-05-11T04:26:45.463Z"
   },
   {
    "duration": 176,
    "start_time": "2025-05-11T04:26:45.471Z"
   },
   {
    "duration": 172,
    "start_time": "2025-05-11T04:26:45.649Z"
   },
   {
    "duration": 113,
    "start_time": "2025-05-11T04:26:45.823Z"
   },
   {
    "duration": 68,
    "start_time": "2025-05-11T04:26:45.937Z"
   },
   {
    "duration": 33,
    "start_time": "2025-05-11T04:26:46.007Z"
   },
   {
    "duration": 88,
    "start_time": "2025-05-11T04:26:46.042Z"
   },
   {
    "duration": 19,
    "start_time": "2025-05-11T04:26:46.131Z"
   },
   {
    "duration": 227,
    "start_time": "2025-05-11T04:26:46.153Z"
   },
   {
    "duration": 9,
    "start_time": "2025-05-11T04:26:46.382Z"
   },
   {
    "duration": 45,
    "start_time": "2025-05-11T04:26:46.393Z"
   },
   {
    "duration": 4,
    "start_time": "2025-05-11T04:26:46.440Z"
   },
   {
    "duration": 1115,
    "start_time": "2025-05-11T04:26:46.445Z"
   },
   {
    "duration": 0,
    "start_time": "2025-05-11T04:26:47.562Z"
   },
   {
    "duration": 0,
    "start_time": "2025-05-11T04:26:47.563Z"
   },
   {
    "duration": 0,
    "start_time": "2025-05-11T04:26:47.565Z"
   },
   {
    "duration": 1406,
    "start_time": "2025-05-11T04:27:02.587Z"
   },
   {
    "duration": 4,
    "start_time": "2025-05-11T04:27:03.997Z"
   },
   {
    "duration": 1072,
    "start_time": "2025-05-11T04:27:04.004Z"
   },
   {
    "duration": 178,
    "start_time": "2025-05-11T04:27:05.078Z"
   },
   {
    "duration": 113,
    "start_time": "2025-05-11T04:27:05.258Z"
   },
   {
    "duration": 7,
    "start_time": "2025-05-11T04:27:05.372Z"
   },
   {
    "duration": 121,
    "start_time": "2025-05-11T04:27:05.381Z"
   },
   {
    "duration": 165,
    "start_time": "2025-05-11T04:27:05.504Z"
   },
   {
    "duration": 109,
    "start_time": "2025-05-11T04:27:05.671Z"
   },
   {
    "duration": 95,
    "start_time": "2025-05-11T04:27:05.781Z"
   },
   {
    "duration": 36,
    "start_time": "2025-05-11T04:27:05.878Z"
   },
   {
    "duration": 50,
    "start_time": "2025-05-11T04:27:05.915Z"
   },
   {
    "duration": 34,
    "start_time": "2025-05-11T04:27:05.967Z"
   },
   {
    "duration": 296,
    "start_time": "2025-05-11T04:27:06.004Z"
   },
   {
    "duration": 9,
    "start_time": "2025-05-11T04:27:06.303Z"
   },
   {
    "duration": 75,
    "start_time": "2025-05-11T04:27:06.313Z"
   },
   {
    "duration": 7,
    "start_time": "2025-05-11T04:27:06.390Z"
   },
   {
    "duration": 15083,
    "start_time": "2025-05-11T04:27:06.399Z"
   },
   {
    "duration": 0,
    "start_time": "2025-05-11T04:27:21.484Z"
   },
   {
    "duration": 0,
    "start_time": "2025-05-11T04:27:21.485Z"
   },
   {
    "duration": 0,
    "start_time": "2025-05-11T04:27:21.486Z"
   },
   {
    "duration": 1376,
    "start_time": "2025-05-11T04:27:51.967Z"
   },
   {
    "duration": 3,
    "start_time": "2025-05-11T04:27:53.346Z"
   },
   {
    "duration": 951,
    "start_time": "2025-05-11T04:27:53.350Z"
   },
   {
    "duration": 175,
    "start_time": "2025-05-11T04:27:54.305Z"
   },
   {
    "duration": 92,
    "start_time": "2025-05-11T04:27:54.482Z"
   },
   {
    "duration": 6,
    "start_time": "2025-05-11T04:27:54.576Z"
   },
   {
    "duration": 163,
    "start_time": "2025-05-11T04:27:54.583Z"
   },
   {
    "duration": 174,
    "start_time": "2025-05-11T04:27:54.747Z"
   },
   {
    "duration": 146,
    "start_time": "2025-05-11T04:27:54.922Z"
   },
   {
    "duration": 76,
    "start_time": "2025-05-11T04:27:55.069Z"
   },
   {
    "duration": 34,
    "start_time": "2025-05-11T04:27:55.147Z"
   },
   {
    "duration": 45,
    "start_time": "2025-05-11T04:27:55.183Z"
   },
   {
    "duration": 20,
    "start_time": "2025-05-11T04:27:55.230Z"
   },
   {
    "duration": 223,
    "start_time": "2025-05-11T04:27:55.253Z"
   },
   {
    "duration": 10,
    "start_time": "2025-05-11T04:27:55.477Z"
   },
   {
    "duration": 63,
    "start_time": "2025-05-11T04:27:55.489Z"
   },
   {
    "duration": 4,
    "start_time": "2025-05-11T04:27:55.554Z"
   },
   {
    "duration": 13624,
    "start_time": "2025-05-11T04:27:55.559Z"
   },
   {
    "duration": 5330,
    "start_time": "2025-05-11T04:28:09.185Z"
   },
   {
    "duration": 152804,
    "start_time": "2025-05-11T04:28:14.516Z"
   },
   {
    "duration": 5,
    "start_time": "2025-05-11T04:30:47.322Z"
   },
   {
    "duration": 1491,
    "start_time": "2025-05-11T04:48:41.908Z"
   },
   {
    "duration": 3,
    "start_time": "2025-05-11T04:48:43.401Z"
   },
   {
    "duration": 984,
    "start_time": "2025-05-11T04:48:43.406Z"
   },
   {
    "duration": 175,
    "start_time": "2025-05-11T04:48:44.391Z"
   },
   {
    "duration": 118,
    "start_time": "2025-05-11T04:48:44.568Z"
   },
   {
    "duration": 6,
    "start_time": "2025-05-11T04:48:44.687Z"
   },
   {
    "duration": 150,
    "start_time": "2025-05-11T04:48:44.695Z"
   },
   {
    "duration": 303,
    "start_time": "2025-05-11T04:48:44.847Z"
   },
   {
    "duration": 108,
    "start_time": "2025-05-11T04:48:45.151Z"
   },
   {
    "duration": 74,
    "start_time": "2025-05-11T04:48:45.260Z"
   },
   {
    "duration": 35,
    "start_time": "2025-05-11T04:48:45.336Z"
   },
   {
    "duration": 55,
    "start_time": "2025-05-11T04:48:45.373Z"
   },
   {
    "duration": 19,
    "start_time": "2025-05-11T04:48:45.430Z"
   },
   {
    "duration": 325,
    "start_time": "2025-05-11T04:48:45.452Z"
   },
   {
    "duration": 10,
    "start_time": "2025-05-11T04:48:45.779Z"
   },
   {
    "duration": 80,
    "start_time": "2025-05-11T04:48:45.790Z"
   },
   {
    "duration": 10,
    "start_time": "2025-05-11T04:48:45.872Z"
   },
   {
    "duration": 10283,
    "start_time": "2025-05-11T04:48:45.884Z"
   },
   {
    "duration": 4538,
    "start_time": "2025-05-11T04:48:56.168Z"
   },
   {
    "duration": 115793,
    "start_time": "2025-05-11T04:49:00.708Z"
   },
   {
    "duration": 5,
    "start_time": "2025-05-11T04:50:56.506Z"
   },
   {
    "duration": 597,
    "start_time": "2025-05-11T04:50:56.513Z"
   }
  ],
  "kernelspec": {
   "display_name": "Python 3 (ipykernel)",
   "language": "python",
   "name": "python3"
  },
  "language_info": {
   "codemirror_mode": {
    "name": "ipython",
    "version": 3
   },
   "file_extension": ".py",
   "mimetype": "text/x-python",
   "name": "python",
   "nbconvert_exporter": "python",
   "pygments_lexer": "ipython3",
   "version": "3.12.4"
  },
  "toc": {
   "base_numbering": 1,
   "nav_menu": {},
   "number_sections": true,
   "sideBar": true,
   "skip_h1_title": true,
   "title_cell": "Table of Contents",
   "title_sidebar": "Contents",
   "toc_cell": false,
   "toc_position": {
    "height": "calc(100% - 180px)",
    "left": "10px",
    "top": "150px",
    "width": "259.6px"
   },
   "toc_section_display": true,
   "toc_window_display": true
  }
 },
 "nbformat": 4,
 "nbformat_minor": 4
}
