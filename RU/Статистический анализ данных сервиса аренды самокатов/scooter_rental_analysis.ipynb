{
 "cells": [
  {
   "cell_type": "markdown",
   "id": "d69b9849",
   "metadata": {},
   "source": [
    "# Статистический анализ данных сервиса аренды самокатов GoFast"
   ]
  },
  {
   "cell_type": "markdown",
   "id": "1bb7138f",
   "metadata": {},
   "source": [
    "- **Описание**: Цель проекта — провести статистический анализ данных пользователей и их поездок для сервиса аренды самокатов GoFast. В рамках исследования анализируются данные о подписках, поездках и пользователях из разных городов. Основной задачей является выявление паттернов поведения пользователей и проверка гипотез, чтобы помочь бизнесу повысить доходность и оптимизировать маркетинговые стратегии.\n",
    "- **Задачи исследования**:\n",
    "    1. Исследовать демографические данные пользователей и их поведенческие паттерны.\n",
    "    2. Сравнить пользователей с подпиской и без подписки по ключевым показателям (выручка, время и расстояние поездок).\n",
    "    3. Оценить сезонные колебания выручки для оптимизации маркетинговых активностей.\n",
    "    4. Проверить гипотезы о поведении пользователей с подпиской и без подписки.\n",
    "    5. Определить оптимальные параметры для рассылок промокодов и push-уведомлений."
   ]
  },
  {
   "cell_type": "code",
   "execution_count": 1,
   "id": "72576667",
   "metadata": {},
   "outputs": [],
   "source": [
    "import pandas as pd\n",
    "import matplotlib.pyplot as plt\n",
    "import seaborn as sns\n",
    "from scipy import stats\n",
    "from scipy.stats import binom\n",
    "from scipy.stats import norm"
   ]
  },
  {
   "cell_type": "markdown",
   "id": "c42cbe00",
   "metadata": {},
   "source": [
    "## Загрузка данных"
   ]
  },
  {
   "cell_type": "markdown",
   "id": "59bbadf5",
   "metadata": {},
   "source": [
    "- Загрузим каждый CSV-файл в отдельный датафрейм, используя библиотеку pandas.\n",
    "- Выведем первые строки каждого датафрейма для знакомства с данными.\n",
    "- Получим общую информацию о каждом датафрейме, чтобы понять структуру и типы данных.\n",
    "\n",
    "**Описание данных**:\n",
    "\n",
    "В основных данных есть информация о пользователях, их поездках и подписках.\n",
    "\n",
    "- **Пользователи — `users_go.csv`**:\n",
    "    - `user_id` — уникальный идентификатор пользователя.\n",
    "    - `name` — имя пользователя.\n",
    "    - `age` — возраст пользователя.\n",
    "    - `city` — город проживания пользователя.\n",
    "    - `subscription_type` — тип подписки (free или ultra).\n",
    "- **Поездки — `rides_go.csv`**:\n",
    "    - `user_id` — уникальный идентификатор пользователя.\n",
    "    - `distance` — расстояние поездки (в метрах).\n",
    "    - `duration` — продолжительность поездки (в минутах).\n",
    "    - `date` — дата поездки.\n",
    "- **Подписки** — **`subscriptions_go.csv`**:\n",
    "    - `subscription_type` — тип подписки.\n",
    "    - `minute_price` — стоимость одной минуты поездки для данного типа подписки.\n",
    "    - `start_ride_price` — стоимость начала поездки.\n",
    "    - `subscription_fee` — ежемесячная плата за подписку."
   ]
  },
  {
   "cell_type": "code",
   "execution_count": 2,
   "id": "fda13df5",
   "metadata": {},
   "outputs": [],
   "source": [
    "# Загрузим данные из датасетов\n",
    "users = pd.read_csv('/datasets/users_go.csv')\n",
    "rides = pd.read_csv('/datasets/rides_go.csv')\n",
    "subscriptions = pd.read_csv('/datasets/subscriptions_go.csv')"
   ]
  },
  {
   "cell_type": "code",
   "execution_count": 3,
   "id": "ec66e9ef",
   "metadata": {},
   "outputs": [
    {
     "data": {
      "text/html": [
       "<div>\n",
       "<style scoped>\n",
       "    .dataframe tbody tr th:only-of-type {\n",
       "        vertical-align: middle;\n",
       "    }\n",
       "\n",
       "    .dataframe tbody tr th {\n",
       "        vertical-align: top;\n",
       "    }\n",
       "\n",
       "    .dataframe thead th {\n",
       "        text-align: right;\n",
       "    }\n",
       "</style>\n",
       "<table border=\"1\" class=\"dataframe\">\n",
       "  <thead>\n",
       "    <tr style=\"text-align: right;\">\n",
       "      <th></th>\n",
       "      <th>user_id</th>\n",
       "      <th>name</th>\n",
       "      <th>age</th>\n",
       "      <th>city</th>\n",
       "      <th>subscription_type</th>\n",
       "    </tr>\n",
       "  </thead>\n",
       "  <tbody>\n",
       "    <tr>\n",
       "      <th>0</th>\n",
       "      <td>1</td>\n",
       "      <td>Кира</td>\n",
       "      <td>22</td>\n",
       "      <td>Тюмень</td>\n",
       "      <td>ultra</td>\n",
       "    </tr>\n",
       "    <tr>\n",
       "      <th>1</th>\n",
       "      <td>2</td>\n",
       "      <td>Станислав</td>\n",
       "      <td>31</td>\n",
       "      <td>Омск</td>\n",
       "      <td>ultra</td>\n",
       "    </tr>\n",
       "    <tr>\n",
       "      <th>2</th>\n",
       "      <td>3</td>\n",
       "      <td>Алексей</td>\n",
       "      <td>20</td>\n",
       "      <td>Москва</td>\n",
       "      <td>ultra</td>\n",
       "    </tr>\n",
       "    <tr>\n",
       "      <th>3</th>\n",
       "      <td>4</td>\n",
       "      <td>Константин</td>\n",
       "      <td>26</td>\n",
       "      <td>Ростов-на-Дону</td>\n",
       "      <td>ultra</td>\n",
       "    </tr>\n",
       "    <tr>\n",
       "      <th>4</th>\n",
       "      <td>5</td>\n",
       "      <td>Адель</td>\n",
       "      <td>28</td>\n",
       "      <td>Омск</td>\n",
       "      <td>ultra</td>\n",
       "    </tr>\n",
       "  </tbody>\n",
       "</table>\n",
       "</div>"
      ],
      "text/plain": [
       "   user_id        name  age            city subscription_type\n",
       "0        1        Кира   22          Тюмень             ultra\n",
       "1        2   Станислав   31            Омск             ultra\n",
       "2        3     Алексей   20          Москва             ultra\n",
       "3        4  Константин   26  Ростов-на-Дону             ultra\n",
       "4        5       Адель   28            Омск             ultra"
      ]
     },
     "execution_count": 3,
     "metadata": {},
     "output_type": "execute_result"
    }
   ],
   "source": [
    "# Взглянем на первые строки датафрейма users\n",
    "users.head()"
   ]
  },
  {
   "cell_type": "code",
   "execution_count": 4,
   "id": "e10f96b5",
   "metadata": {},
   "outputs": [
    {
     "data": {
      "text/html": [
       "<div>\n",
       "<style scoped>\n",
       "    .dataframe tbody tr th:only-of-type {\n",
       "        vertical-align: middle;\n",
       "    }\n",
       "\n",
       "    .dataframe tbody tr th {\n",
       "        vertical-align: top;\n",
       "    }\n",
       "\n",
       "    .dataframe thead th {\n",
       "        text-align: right;\n",
       "    }\n",
       "</style>\n",
       "<table border=\"1\" class=\"dataframe\">\n",
       "  <thead>\n",
       "    <tr style=\"text-align: right;\">\n",
       "      <th></th>\n",
       "      <th>user_id</th>\n",
       "      <th>distance</th>\n",
       "      <th>duration</th>\n",
       "      <th>date</th>\n",
       "    </tr>\n",
       "  </thead>\n",
       "  <tbody>\n",
       "    <tr>\n",
       "      <th>0</th>\n",
       "      <td>1</td>\n",
       "      <td>4409.919140</td>\n",
       "      <td>25.599769</td>\n",
       "      <td>2021-01-01</td>\n",
       "    </tr>\n",
       "    <tr>\n",
       "      <th>1</th>\n",
       "      <td>1</td>\n",
       "      <td>2617.592153</td>\n",
       "      <td>15.816871</td>\n",
       "      <td>2021-01-18</td>\n",
       "    </tr>\n",
       "    <tr>\n",
       "      <th>2</th>\n",
       "      <td>1</td>\n",
       "      <td>754.159807</td>\n",
       "      <td>6.232113</td>\n",
       "      <td>2021-04-20</td>\n",
       "    </tr>\n",
       "    <tr>\n",
       "      <th>3</th>\n",
       "      <td>1</td>\n",
       "      <td>2694.783254</td>\n",
       "      <td>18.511000</td>\n",
       "      <td>2021-08-11</td>\n",
       "    </tr>\n",
       "    <tr>\n",
       "      <th>4</th>\n",
       "      <td>1</td>\n",
       "      <td>4028.687306</td>\n",
       "      <td>26.265803</td>\n",
       "      <td>2021-08-28</td>\n",
       "    </tr>\n",
       "  </tbody>\n",
       "</table>\n",
       "</div>"
      ],
      "text/plain": [
       "   user_id     distance   duration        date\n",
       "0        1  4409.919140  25.599769  2021-01-01\n",
       "1        1  2617.592153  15.816871  2021-01-18\n",
       "2        1   754.159807   6.232113  2021-04-20\n",
       "3        1  2694.783254  18.511000  2021-08-11\n",
       "4        1  4028.687306  26.265803  2021-08-28"
      ]
     },
     "execution_count": 4,
     "metadata": {},
     "output_type": "execute_result"
    }
   ],
   "source": [
    "# Взглянем на первые строки датафрейма rides\n",
    "rides.head()"
   ]
  },
  {
   "cell_type": "code",
   "execution_count": 5,
   "id": "0f81ffea",
   "metadata": {},
   "outputs": [
    {
     "data": {
      "text/html": [
       "<div>\n",
       "<style scoped>\n",
       "    .dataframe tbody tr th:only-of-type {\n",
       "        vertical-align: middle;\n",
       "    }\n",
       "\n",
       "    .dataframe tbody tr th {\n",
       "        vertical-align: top;\n",
       "    }\n",
       "\n",
       "    .dataframe thead th {\n",
       "        text-align: right;\n",
       "    }\n",
       "</style>\n",
       "<table border=\"1\" class=\"dataframe\">\n",
       "  <thead>\n",
       "    <tr style=\"text-align: right;\">\n",
       "      <th></th>\n",
       "      <th>subscription_type</th>\n",
       "      <th>minute_price</th>\n",
       "      <th>start_ride_price</th>\n",
       "      <th>subscription_fee</th>\n",
       "    </tr>\n",
       "  </thead>\n",
       "  <tbody>\n",
       "    <tr>\n",
       "      <th>0</th>\n",
       "      <td>free</td>\n",
       "      <td>8</td>\n",
       "      <td>50</td>\n",
       "      <td>0</td>\n",
       "    </tr>\n",
       "    <tr>\n",
       "      <th>1</th>\n",
       "      <td>ultra</td>\n",
       "      <td>6</td>\n",
       "      <td>0</td>\n",
       "      <td>199</td>\n",
       "    </tr>\n",
       "  </tbody>\n",
       "</table>\n",
       "</div>"
      ],
      "text/plain": [
       "  subscription_type  minute_price  start_ride_price  subscription_fee\n",
       "0              free             8                50                 0\n",
       "1             ultra             6                 0               199"
      ]
     },
     "execution_count": 5,
     "metadata": {},
     "output_type": "execute_result"
    }
   ],
   "source": [
    "# Взглянем на первые строки датайрейма subscriptions\n",
    "subscriptions.head()"
   ]
  },
  {
   "cell_type": "code",
   "execution_count": 6,
   "id": "721189f9",
   "metadata": {},
   "outputs": [
    {
     "name": "stdout",
     "output_type": "stream",
     "text": [
      "<class 'pandas.core.frame.DataFrame'>\n",
      "RangeIndex: 1565 entries, 0 to 1564\n",
      "Data columns (total 5 columns):\n",
      " #   Column             Non-Null Count  Dtype \n",
      "---  ------             --------------  ----- \n",
      " 0   user_id            1565 non-null   int64 \n",
      " 1   name               1565 non-null   object\n",
      " 2   age                1565 non-null   int64 \n",
      " 3   city               1565 non-null   object\n",
      " 4   subscription_type  1565 non-null   object\n",
      "dtypes: int64(2), object(3)\n",
      "memory usage: 61.3+ KB\n"
     ]
    }
   ],
   "source": [
    "# Изучим общую информацию о датафрейме users\n",
    "users.info()"
   ]
  },
  {
   "cell_type": "code",
   "execution_count": 7,
   "id": "d8f44376",
   "metadata": {},
   "outputs": [
    {
     "name": "stdout",
     "output_type": "stream",
     "text": [
      "<class 'pandas.core.frame.DataFrame'>\n",
      "RangeIndex: 18068 entries, 0 to 18067\n",
      "Data columns (total 4 columns):\n",
      " #   Column    Non-Null Count  Dtype  \n",
      "---  ------    --------------  -----  \n",
      " 0   user_id   18068 non-null  int64  \n",
      " 1   distance  18068 non-null  float64\n",
      " 2   duration  18068 non-null  float64\n",
      " 3   date      18068 non-null  object \n",
      "dtypes: float64(2), int64(1), object(1)\n",
      "memory usage: 564.8+ KB\n"
     ]
    }
   ],
   "source": [
    "# Изучим общую информацию о датафрейме rides\n",
    "rides.info()"
   ]
  },
  {
   "cell_type": "code",
   "execution_count": 8,
   "id": "9baaef1c",
   "metadata": {},
   "outputs": [
    {
     "name": "stdout",
     "output_type": "stream",
     "text": [
      "<class 'pandas.core.frame.DataFrame'>\n",
      "RangeIndex: 2 entries, 0 to 1\n",
      "Data columns (total 4 columns):\n",
      " #   Column             Non-Null Count  Dtype \n",
      "---  ------             --------------  ----- \n",
      " 0   subscription_type  2 non-null      object\n",
      " 1   minute_price       2 non-null      int64 \n",
      " 2   start_ride_price   2 non-null      int64 \n",
      " 3   subscription_fee   2 non-null      int64 \n",
      "dtypes: int64(3), object(1)\n",
      "memory usage: 192.0+ bytes\n"
     ]
    }
   ],
   "source": [
    "# Изучим общую информацию о датафрейме subscriptions\n",
    "subscriptions.info()"
   ]
  },
  {
   "cell_type": "markdown",
   "id": "c86ccdcf",
   "metadata": {},
   "source": [
    "После загрузки данных мы изучили структуру каждого из датасетов (`users`, `rides`, `subscriptions`) для лучшего понимания информации, с которой будем работать.\n",
    "\n",
    "Датасет `users`:\n",
    "\n",
    "- Содержит информацию о пользователях: уникальный идентификатор, имя, возраст, город и тип подписки.\n",
    "- **Количество записей**: 1565.\n",
    "- **Пропущенные значения**: Нет пропущенных значений.\n",
    "- **Типы данных**: числовые (`int64`) для идентификатора и возраста, текстовые (`object`) для имени, города и типа подписки.\n",
    "\n",
    "Датасет `rides`:\n",
    "\n",
    "- Включает данные о поездках: идентификатор пользователя, пройденное расстояние, продолжительность поездки и дату.\n",
    "- **Количество записей**: 18,068.\n",
    "- **Пропущенные значения**: Нет пропущенных значений.\n",
    "- **Типы данных**: числовые (`float64` для расстояния и продолжительности, `int64` для идентификатора), текстовый формат для даты (`object`), который требует преобразования для удобства временного анализа.\n",
    "\n",
    "Датасет `subscriptions`:\n",
    "\n",
    "- Содержит условия подписки, включая тип подписки, стоимость минуты, стоимость начала поездки и ежемесячную плату.\n",
    "- **Количество записей**: 2, так как в сервисе доступны только два типа подписки (free и ultra).\n",
    "- **Пропущенные значения**: Нет пропущенных значений.\n",
    "- **Типы данных**: числовые (`int64`) для стоимости минуты, стоимости начала поездки и ежемесячной платы, текстовый формат (`object`) для типа подписки.\n",
    "\n",
    "**Общие наблюдения**\n",
    "\n",
    "- Датасет `rides` включает большое количество записей.\n",
    "- Формат даты в `rides` требует преобразования для дальнейшего анализа.\n",
    "- Данные в `subscriptions` статичны (только 2 типа подписки), что упрощает анализ и использование информации при расчетах выручки."
   ]
  },
  {
   "cell_type": "markdown",
   "id": "e95ebca7",
   "metadata": {},
   "source": [
    "## Предобработка данных"
   ]
  },
  {
   "cell_type": "markdown",
   "id": "965e8f53",
   "metadata": {},
   "source": [
    "### Приведем столбец date к типу даты pandas."
   ]
  },
  {
   "cell_type": "code",
   "execution_count": 9,
   "id": "16940d51",
   "metadata": {},
   "outputs": [],
   "source": [
    "# Преобразуем тип колонки date датафрейма rides в datetime\n",
    "rides['date'] = pd.to_datetime(rides['date'], format='%Y-%m-%d')"
   ]
  },
  {
   "cell_type": "code",
   "execution_count": 10,
   "id": "fc44737c",
   "metadata": {},
   "outputs": [
    {
     "name": "stdout",
     "output_type": "stream",
     "text": [
      "<class 'pandas.core.frame.DataFrame'>\n",
      "RangeIndex: 18068 entries, 0 to 18067\n",
      "Data columns (total 4 columns):\n",
      " #   Column    Non-Null Count  Dtype         \n",
      "---  ------    --------------  -----         \n",
      " 0   user_id   18068 non-null  int64         \n",
      " 1   distance  18068 non-null  float64       \n",
      " 2   duration  18068 non-null  float64       \n",
      " 3   date      18068 non-null  datetime64[ns]\n",
      "dtypes: datetime64[ns](1), float64(2), int64(1)\n",
      "memory usage: 564.8 KB\n"
     ]
    }
   ],
   "source": [
    "# Проверим результат\n",
    "rides.info()"
   ]
  },
  {
   "cell_type": "markdown",
   "id": "bd4ced87",
   "metadata": {},
   "source": [
    "### Создадим новый столбец с номером месяца на основе столбца date."
   ]
  },
  {
   "cell_type": "code",
   "execution_count": 11,
   "id": "ae99a979",
   "metadata": {},
   "outputs": [
    {
     "name": "stdout",
     "output_type": "stream",
     "text": [
      "Уникальные годы в данных: [2021]\n"
     ]
    }
   ],
   "source": [
    "# Проверим уникальные годы в данных\n",
    "rides['year'] = rides['date'].dt.year  # Создаем столбец с годом\n",
    "unique_years = rides['year'].unique()\n",
    "print(\"Уникальные годы в данных:\", unique_years)"
   ]
  },
  {
   "cell_type": "markdown",
   "id": "38b04aae",
   "metadata": {},
   "source": [
    "В датасете представлены данные только за один год - 2021. Мы можем безопасно использовать столбец `month` для анализа помесячных тенденций."
   ]
  },
  {
   "cell_type": "code",
   "execution_count": 12,
   "id": "38d16f1a",
   "metadata": {},
   "outputs": [],
   "source": [
    "# Добавим новый столбец содержащий информацию о месяце\n",
    "rides['month'] = rides['date'].dt.month"
   ]
  },
  {
   "cell_type": "code",
   "execution_count": 13,
   "id": "46a5e029",
   "metadata": {},
   "outputs": [
    {
     "data": {
      "text/html": [
       "<div>\n",
       "<style scoped>\n",
       "    .dataframe tbody tr th:only-of-type {\n",
       "        vertical-align: middle;\n",
       "    }\n",
       "\n",
       "    .dataframe tbody tr th {\n",
       "        vertical-align: top;\n",
       "    }\n",
       "\n",
       "    .dataframe thead th {\n",
       "        text-align: right;\n",
       "    }\n",
       "</style>\n",
       "<table border=\"1\" class=\"dataframe\">\n",
       "  <thead>\n",
       "    <tr style=\"text-align: right;\">\n",
       "      <th></th>\n",
       "      <th>user_id</th>\n",
       "      <th>distance</th>\n",
       "      <th>duration</th>\n",
       "      <th>date</th>\n",
       "      <th>year</th>\n",
       "      <th>month</th>\n",
       "    </tr>\n",
       "  </thead>\n",
       "  <tbody>\n",
       "    <tr>\n",
       "      <th>0</th>\n",
       "      <td>1</td>\n",
       "      <td>4409.919140</td>\n",
       "      <td>25.599769</td>\n",
       "      <td>2021-01-01</td>\n",
       "      <td>2021</td>\n",
       "      <td>1</td>\n",
       "    </tr>\n",
       "    <tr>\n",
       "      <th>1</th>\n",
       "      <td>1</td>\n",
       "      <td>2617.592153</td>\n",
       "      <td>15.816871</td>\n",
       "      <td>2021-01-18</td>\n",
       "      <td>2021</td>\n",
       "      <td>1</td>\n",
       "    </tr>\n",
       "    <tr>\n",
       "      <th>2</th>\n",
       "      <td>1</td>\n",
       "      <td>754.159807</td>\n",
       "      <td>6.232113</td>\n",
       "      <td>2021-04-20</td>\n",
       "      <td>2021</td>\n",
       "      <td>4</td>\n",
       "    </tr>\n",
       "    <tr>\n",
       "      <th>3</th>\n",
       "      <td>1</td>\n",
       "      <td>2694.783254</td>\n",
       "      <td>18.511000</td>\n",
       "      <td>2021-08-11</td>\n",
       "      <td>2021</td>\n",
       "      <td>8</td>\n",
       "    </tr>\n",
       "    <tr>\n",
       "      <th>4</th>\n",
       "      <td>1</td>\n",
       "      <td>4028.687306</td>\n",
       "      <td>26.265803</td>\n",
       "      <td>2021-08-28</td>\n",
       "      <td>2021</td>\n",
       "      <td>8</td>\n",
       "    </tr>\n",
       "  </tbody>\n",
       "</table>\n",
       "</div>"
      ],
      "text/plain": [
       "   user_id     distance   duration       date  year  month\n",
       "0        1  4409.919140  25.599769 2021-01-01  2021      1\n",
       "1        1  2617.592153  15.816871 2021-01-18  2021      1\n",
       "2        1   754.159807   6.232113 2021-04-20  2021      4\n",
       "3        1  2694.783254  18.511000 2021-08-11  2021      8\n",
       "4        1  4028.687306  26.265803 2021-08-28  2021      8"
      ]
     },
     "execution_count": 13,
     "metadata": {},
     "output_type": "execute_result"
    }
   ],
   "source": [
    "# Проверим результат\n",
    "rides.head()"
   ]
  },
  {
   "cell_type": "markdown",
   "id": "cd4a1f71",
   "metadata": {},
   "source": [
    "### Проверим наличие пропущенных значений"
   ]
  },
  {
   "cell_type": "code",
   "execution_count": 14,
   "id": "d0e585d9",
   "metadata": {},
   "outputs": [
    {
     "data": {
      "text/plain": [
       "user_id              0\n",
       "name                 0\n",
       "age                  0\n",
       "city                 0\n",
       "subscription_type    0\n",
       "dtype: int64"
      ]
     },
     "execution_count": 14,
     "metadata": {},
     "output_type": "execute_result"
    }
   ],
   "source": [
    "# Проверим наличие пропусков в датафрейме users\n",
    "users.isna().sum()"
   ]
  },
  {
   "cell_type": "code",
   "execution_count": 15,
   "id": "ab692cce",
   "metadata": {},
   "outputs": [
    {
     "data": {
      "text/plain": [
       "user_id     0\n",
       "distance    0\n",
       "duration    0\n",
       "date        0\n",
       "year        0\n",
       "month       0\n",
       "dtype: int64"
      ]
     },
     "execution_count": 15,
     "metadata": {},
     "output_type": "execute_result"
    }
   ],
   "source": [
    "# Проверим наличие пропусков в датафрейме rides\n",
    "rides.isna().sum()"
   ]
  },
  {
   "cell_type": "code",
   "execution_count": 16,
   "id": "6bca7488",
   "metadata": {},
   "outputs": [
    {
     "data": {
      "text/plain": [
       "subscription_type    0\n",
       "minute_price         0\n",
       "start_ride_price     0\n",
       "subscription_fee     0\n",
       "dtype: int64"
      ]
     },
     "execution_count": 16,
     "metadata": {},
     "output_type": "execute_result"
    }
   ],
   "source": [
    "# Проверим наоичие пропусков в датафрейме subscriptions\n",
    "subscriptions.isna().sum()"
   ]
  },
  {
   "cell_type": "markdown",
   "id": "1d3317f0",
   "metadata": {},
   "source": [
    "Ни в одном из датафреймов не было обнаружено пропущенных значений."
   ]
  },
  {
   "cell_type": "markdown",
   "id": "b19b1199",
   "metadata": {},
   "source": [
    "### Проверим наличие дубликатов"
   ]
  },
  {
   "cell_type": "code",
   "execution_count": 17,
   "id": "b64e7c16",
   "metadata": {},
   "outputs": [
    {
     "name": "stdout",
     "output_type": "stream",
     "text": [
      "Количество дубликатов в датафрейме users: 31\n",
      "Количество дубликатов в датафрейме rides: 0\n",
      "Количество дубликатов в датафрейме subscriptions: 0\n"
     ]
    }
   ],
   "source": [
    "# Проверим наличие дубликатов в датафреймах\n",
    "print(f'Количество дубликатов в датафрейме users: {users.duplicated().sum()}')\n",
    "print(f'Количество дубликатов в датафрейме rides: {rides.duplicated().sum()}')\n",
    "print(f'Количество дубликатов в датафрейме subscriptions: {subscriptions.duplicated().sum()}')"
   ]
  },
  {
   "cell_type": "markdown",
   "id": "1dd9afe2",
   "metadata": {},
   "source": [
    "Дубликаты присустствуют только в датафрейме users. Избавимся от явных дубликатов в этом датасете"
   ]
  },
  {
   "cell_type": "code",
   "execution_count": 18,
   "id": "f3da4fb0",
   "metadata": {},
   "outputs": [],
   "source": [
    "# Избавимся от явных дубликатов в датафрейме users\n",
    "users = users.drop_duplicates()"
   ]
  },
  {
   "cell_type": "code",
   "execution_count": 19,
   "id": "40df847d",
   "metadata": {},
   "outputs": [
    {
     "data": {
      "text/plain": [
       "0"
      ]
     },
     "execution_count": 19,
     "metadata": {},
     "output_type": "execute_result"
    }
   ],
   "source": [
    "# Проверим результат\n",
    "users.duplicated().sum()"
   ]
  },
  {
   "cell_type": "markdown",
   "id": "a15681e2",
   "metadata": {},
   "source": [
    "На этом шаге мы выполнили основные пункты предобработки данных:\n",
    "- Сконвертировали столбец date в датафрейме rides в datetime\n",
    "- Добавили новую колонку с порядковым номером месяца\n",
    "- Проверили наличие пропусков и дубликатов. Избавились от явных дубликатов в данных."
   ]
  },
  {
   "cell_type": "markdown",
   "id": "212593c7",
   "metadata": {},
   "source": [
    "## Исследовательский анализ данных"
   ]
  },
  {
   "cell_type": "markdown",
   "id": "90592d8c",
   "metadata": {},
   "source": [
    "### Частота встречаемости городов\n",
    "\n",
    "Для начала подсчитаем, сколько пользователей зарегистрировано в каждом городе. Это поможет понять, где сервис GoFast наиболее популярен."
   ]
  },
  {
   "cell_type": "code",
   "execution_count": 20,
   "id": "0d4cecac",
   "metadata": {},
   "outputs": [
    {
     "data": {
      "image/png": "[encoded data removed]",
      "text/plain": [
       "<Figure size 720x432 with 1 Axes>"
      ]
     },
     "metadata": {
      "needs_background": "light"
     },
     "output_type": "display_data"
    }
   ],
   "source": [
    "# Подсчет количества пользователей в каждом городе\n",
    "city_counts = users['city'].value_counts()\n",
    "\n",
    "# Визуализация: столбчатая диаграмма для частоты встречаемости городов\n",
    "plt.figure(figsize=(10, 6))\n",
    "sns.barplot(x=city_counts.index, y=city_counts.values, color='skyblue')\n",
    "plt.title(\"Частота встречаемости городов\")\n",
    "plt.xlabel(\"Город\")\n",
    "plt.ylabel(\"Количество пользователей\")\n",
    "plt.xticks(rotation=45)\n",
    "plt.show()"
   ]
  },
  {
   "cell_type": "markdown",
   "id": "422f25ae",
   "metadata": {},
   "source": [
    "Сервис GoFast имеет стабильное количество пользователей в разных городах, при этом наиболее популярным городом оказался Пятигорск (примерно 220 пользователей), а наименьшая концентрация пользователей наблюдается в Москве (примерно 175 пользователей), что неожиданно, учитывая количество населения в Пятигорске и Москве. Возможно, сервису удалось лучше закрепиться в Пятигорске как раз за счет небольшого размера и меньшей конкуренции по сравнению с Москвой и другими крупными городами. Это может говорить о потенциале для расширения сервиса в крупных городах миллионниках."
   ]
  },
  {
   "cell_type": "markdown",
   "id": "72695282",
   "metadata": {},
   "source": [
    "##### Соотношение пользователей с подпиской и без подписки\n",
    "\n",
    "Изучим, какое количество пользователей выбрало подписку Ultra, а какое пользуется сервисом без подписки."
   ]
  },
  {
   "cell_type": "code",
   "execution_count": 21,
   "id": "6cbb1625",
   "metadata": {},
   "outputs": [
    {
     "data": {
      "image/png": "[encoded data removed]",
      "text/plain": [
       "<Figure size 432x432 with 1 Axes>"
      ]
     },
     "metadata": {},
     "output_type": "display_data"
    }
   ],
   "source": [
    "# Подсчет количества пользователей с разными типами подписок\n",
    "subscription_counts = users['subscription_type'].value_counts()\n",
    "\n",
    "# Визуализация: круговая диаграмма для соотношения пользователей с подпиской и без подписки\n",
    "plt.figure(figsize=(6, 6))\n",
    "plt.pie(subscription_counts, labels=subscription_counts.index, autopct='%1.1f%%', startangle=140)\n",
    "plt.title(\"Соотношение пользователей с подпиской и без подписки\")\n",
    "plt.show()"
   ]
  },
  {
   "cell_type": "markdown",
   "id": "7ad22688",
   "metadata": {},
   "source": [
    "Сейчас 45.6% пользователей сервиса используют подписку Ultra, тогда как 54.4% предпочитают пользоваться сервисом без подписки. Это может говорить о  потенциале для роста числа подписчиков при правильном маркетинговом подходе. Возможно, следует более активно продвигать преимущества подписки."
   ]
  },
  {
   "cell_type": "markdown",
   "id": "8a74c597",
   "metadata": {},
   "source": [
    "##### Возраст пользователей\n",
    "\n",
    "Проанализируем возрастную структуру пользователей сервиса, чтобы понять, в каких возрастных группах GoFast наиболее популярен."
   ]
  },
  {
   "cell_type": "code",
   "execution_count": 22,
   "id": "f089f0a5",
   "metadata": {},
   "outputs": [
    {
     "data": {
      "image/png": "[encoded data removed]",
      "text/plain": [
       "<Figure size 720x432 with 1 Axes>"
      ]
     },
     "metadata": {
      "needs_background": "light"
     },
     "output_type": "display_data"
    }
   ],
   "source": [
    "# Визуализация: гистограмма для распределения возраста пользователей\n",
    "plt.figure(figsize=(10, 6))\n",
    "sns.histplot(users['age'], bins=15, kde=True)\n",
    "plt.title(\"Распределение возраста пользователей\")\n",
    "plt.xlabel(\"Возраст\")\n",
    "plt.ylabel(\"Количество пользователей\")\n",
    "plt.show()"
   ]
  },
  {
   "cell_type": "markdown",
   "id": "b9cee641",
   "metadata": {},
   "source": [
    "Большинство пользователей сервиса GoFast находятся в возрастной группе от 20 до 30 лет, что делает её основной целевой аудиторией. Это открывает возможности для более точного маркетинга, направленного на молодёжь и студентов, которые активно пользуются транспортными услугами для перемещений по городу."
   ]
  },
  {
   "cell_type": "markdown",
   "id": "dc6f7d94",
   "metadata": {},
   "source": [
    "##### Расстояние, которое пользователь преодолел за одну поездку\n",
    "\n",
    "Изучим распределения расстояний за одну поездку. Это даст возможность понять, как далеко обычно ездят пользователи за сессию."
   ]
  },
  {
   "cell_type": "code",
   "execution_count": 23,
   "id": "f2214c7b",
   "metadata": {},
   "outputs": [
    {
     "data": {
      "image/png": "[encoded data removed]",
      "text/plain": [
       "<Figure size 720x432 with 1 Axes>"
      ]
     },
     "metadata": {
      "needs_background": "light"
     },
     "output_type": "display_data"
    }
   ],
   "source": [
    "# Визуализация: гистограмма для распределения расстояния за одну поездку\n",
    "plt.figure(figsize=(10, 6))\n",
    "sns.histplot(rides['distance'], bins=20, kde=True)\n",
    "plt.title(\"Распределение расстояния за одну поездку\")\n",
    "plt.xlabel(\"Расстояние (метры)\")\n",
    "plt.ylabel(\"Количество поездок\")\n",
    "plt.show()"
   ]
  },
  {
   "cell_type": "markdown",
   "id": "14949b73",
   "metadata": {},
   "source": [
    "Можем наблюдать два пика: первый пик на расстоянии примерно 500 метров, второй на расстоянии 3 км. Это может указывать как на 2 разные модели поведения пользователей, так и на потенциальные ошибки или вбросы, а так же на возможные проблемы с использованием самокатов (например, если пользователи часто начинают и сразу завершают поездку из-за технических проблем). В дальнейшем анализе стоит рассмотреть этот момент подробнее. \n",
    "Если отталкиваться от теории разного поведения пользователей на разных дистанциях, можно слелать вывод, что пользователи достаточно часто используют самокаты, чтобы проехать небольшие расстояния как 500 метров (возможно, когда опаздывают), меньше используют самокаты на расстояниях от 1 до 2 километров и активно используют сервис для поездок на расстояния около 3 км."
   ]
  },
  {
   "cell_type": "markdown",
   "id": "9fa67ca4",
   "metadata": {},
   "source": [
    "##### Продолжительность поездок\n",
    "\n",
    "Изучим продолжительность поездок чтобы понять, сколько времени пользователи обычно проводят в движении, что важно для ценообразования и планирования сервиса."
   ]
  },
  {
   "cell_type": "code",
   "execution_count": 24,
   "id": "94ee2119",
   "metadata": {},
   "outputs": [
    {
     "data": {
      "image/png": "[encoded data removed]",
      "text/plain": [
       "<Figure size 720x432 with 1 Axes>"
      ]
     },
     "metadata": {
      "needs_background": "light"
     },
     "output_type": "display_data"
    }
   ],
   "source": [
    "# Визуализация: гистограмма для распределения продолжительности поездок\n",
    "plt.figure(figsize=(10, 6))\n",
    "sns.histplot(rides['duration'], bins=20, kde=True)\n",
    "plt.title(\"Распределение продолжительности поездок\")\n",
    "plt.xlabel(\"Продолжительность (минуты)\")\n",
    "plt.ylabel(\"Количество поездок\")\n",
    "plt.show()"
   ]
  },
  {
   "cell_type": "markdown",
   "id": "7efa199e",
   "metadata": {},
   "source": [
    "Продолжительность поездок на самокатах GoFast распределяется практически нормально, в основном от 10 до 20 минут, без дополнительных аномальных пиков. Это может говорить о стабильности времени поездок для большинства пользователей. Однако, учитывая гипотезу о коротких поездках на 500 метров, можно предположить, что некоторые пользователи тратят больше времени на короткие дистанции из-за, возможно, разряженных самокатов или других технических факторов. Этот момент может быть полезно дополнительно исследовать, чтобы улучшить пользовательский опыт."
   ]
  },
  {
   "cell_type": "markdown",
   "id": "ac06c888",
   "metadata": {},
   "source": [
    "##### Промежуточный вывод\n",
    "\n",
    "Анализ данных о пользователях и поездках GoFast дает интересные и ценные наблюдения о поведении клиентов и особенностях использования сервиса. Давайте подведем итоги по каждому аспекту:\n",
    "\n",
    "1. **Города**: Количество пользователей распределено относительно равномерно по городам, но наибольшая концентрация наблюдается в Пятигорске, а наименьшая — в Москве. Это может указывать на хороший уровень проникновения сервиса в небольших городах и потенциальные возможности для роста в крупных мегаполисах. Особенно стоит обратить внимание на привлечение новых пользователей в Москве, где сервис пока недостаточно популярен.\n",
    "2. **Подписка**: Почти половина пользователей (45.6%) выбрала подписку Ultra, тогда как большинство (54.4%) продолжает пользоваться сервисом без подписки. Это указывает на высокий потенциал для роста числа подписчиков, если активно продвигать преимущества подписки. Возможно, стоит рассмотреть маркетинговые кампании, которые акцентируют выгоды подписки.\n",
    "3. **Возраст**: Основная возрастная группа пользователей — это люди от 20 до 30 лет. Это закономерный и ожидаемый результат, так как именно молодые люди чаще всего используют мобильные и удобные виды транспорта для коротких поездок по городу. Эта возрастная группа должна стать основной целевой аудиторией при продвижении сервиса и подписок.\n",
    "4. **Расстояние поездок**: Распределение расстояний поездок имеет два пика — на 500 метров и около 3 км. Первый пик может указывать на частое использование самокатов для очень коротких поездок, что может быть связано с необходимостью быстро преодолеть короткую дистанцию. Однако стоит проверить, не является ли это результатом технических проблем или ошибок в данных. Второй пик на 3 км отражает типичное использование самокатов для средних по длине поездок, что делает сервис удобным и привлекательным для перемещений по городу.\n",
    "5. **Продолжительность поездок**: Продолжительность поездок имеет нормальное распределение, в основном от 10 до 20 минут. Это говорит о том, что большинство пользователей стабильно укладываются в этот временной интервал. Однако предполагается, что короткие поездки на 500 метров могут иногда занимать больше времени, чем ожидалось, возможно, из-за технических ограничений, таких как низкий заряд самокатов. Этот аспект стоит дополнительно изучить, чтобы улучшить качество обслуживания.\n",
    "\n",
    "##### Итог:\n",
    "\n",
    "Анализ показал, что у сервиса GoFast есть устойчивая база пользователей с определенными предпочтениями и паттернами поведения. Основная целевая аудитория — это молодые люди, которые активно пользуются самокатами для поездок от 2,5 до 4 км и продолжительностью 10-20 минут. При этом есть потенциал для роста в крупных городах и для увеличения числа подписчиков. Важно также обратить внимание на технические аспекты, чтобы исключить ситуации, когда пользователи вынуждены тратить больше времени на короткие поездки из-за проблем с оборудованием."
   ]
  },
  {
   "cell_type": "markdown",
   "id": "4ef51331",
   "metadata": {},
   "source": [
    "## Объединение данных"
   ]
  },
  {
   "cell_type": "markdown",
   "id": "fdbea1d2",
   "metadata": {},
   "source": [
    "### Объединение данных о пользователях, поездках и подписках\n",
    "\n",
    "Объединим данные пользователей и поездок, затем добавим информацию о подписках."
   ]
  },
  {
   "cell_type": "code",
   "execution_count": 25,
   "id": "cbe42566",
   "metadata": {},
   "outputs": [
    {
     "data": {
      "text/html": [
       "<div>\n",
       "<style scoped>\n",
       "    .dataframe tbody tr th:only-of-type {\n",
       "        vertical-align: middle;\n",
       "    }\n",
       "\n",
       "    .dataframe tbody tr th {\n",
       "        vertical-align: top;\n",
       "    }\n",
       "\n",
       "    .dataframe thead th {\n",
       "        text-align: right;\n",
       "    }\n",
       "</style>\n",
       "<table border=\"1\" class=\"dataframe\">\n",
       "  <thead>\n",
       "    <tr style=\"text-align: right;\">\n",
       "      <th></th>\n",
       "      <th>user_id</th>\n",
       "      <th>name</th>\n",
       "      <th>age</th>\n",
       "      <th>city</th>\n",
       "      <th>subscription_type</th>\n",
       "      <th>distance</th>\n",
       "      <th>duration</th>\n",
       "      <th>date</th>\n",
       "      <th>year</th>\n",
       "      <th>month</th>\n",
       "      <th>minute_price</th>\n",
       "      <th>start_ride_price</th>\n",
       "      <th>subscription_fee</th>\n",
       "    </tr>\n",
       "  </thead>\n",
       "  <tbody>\n",
       "    <tr>\n",
       "      <th>0</th>\n",
       "      <td>1</td>\n",
       "      <td>Кира</td>\n",
       "      <td>22</td>\n",
       "      <td>Тюмень</td>\n",
       "      <td>ultra</td>\n",
       "      <td>4409.919140</td>\n",
       "      <td>25.599769</td>\n",
       "      <td>2021-01-01</td>\n",
       "      <td>2021</td>\n",
       "      <td>1</td>\n",
       "      <td>6</td>\n",
       "      <td>0</td>\n",
       "      <td>199</td>\n",
       "    </tr>\n",
       "    <tr>\n",
       "      <th>1</th>\n",
       "      <td>1</td>\n",
       "      <td>Кира</td>\n",
       "      <td>22</td>\n",
       "      <td>Тюмень</td>\n",
       "      <td>ultra</td>\n",
       "      <td>2617.592153</td>\n",
       "      <td>15.816871</td>\n",
       "      <td>2021-01-18</td>\n",
       "      <td>2021</td>\n",
       "      <td>1</td>\n",
       "      <td>6</td>\n",
       "      <td>0</td>\n",
       "      <td>199</td>\n",
       "    </tr>\n",
       "    <tr>\n",
       "      <th>2</th>\n",
       "      <td>1</td>\n",
       "      <td>Кира</td>\n",
       "      <td>22</td>\n",
       "      <td>Тюмень</td>\n",
       "      <td>ultra</td>\n",
       "      <td>754.159807</td>\n",
       "      <td>6.232113</td>\n",
       "      <td>2021-04-20</td>\n",
       "      <td>2021</td>\n",
       "      <td>4</td>\n",
       "      <td>6</td>\n",
       "      <td>0</td>\n",
       "      <td>199</td>\n",
       "    </tr>\n",
       "    <tr>\n",
       "      <th>3</th>\n",
       "      <td>1</td>\n",
       "      <td>Кира</td>\n",
       "      <td>22</td>\n",
       "      <td>Тюмень</td>\n",
       "      <td>ultra</td>\n",
       "      <td>2694.783254</td>\n",
       "      <td>18.511000</td>\n",
       "      <td>2021-08-11</td>\n",
       "      <td>2021</td>\n",
       "      <td>8</td>\n",
       "      <td>6</td>\n",
       "      <td>0</td>\n",
       "      <td>199</td>\n",
       "    </tr>\n",
       "    <tr>\n",
       "      <th>4</th>\n",
       "      <td>1</td>\n",
       "      <td>Кира</td>\n",
       "      <td>22</td>\n",
       "      <td>Тюмень</td>\n",
       "      <td>ultra</td>\n",
       "      <td>4028.687306</td>\n",
       "      <td>26.265803</td>\n",
       "      <td>2021-08-28</td>\n",
       "      <td>2021</td>\n",
       "      <td>8</td>\n",
       "      <td>6</td>\n",
       "      <td>0</td>\n",
       "      <td>199</td>\n",
       "    </tr>\n",
       "  </tbody>\n",
       "</table>\n",
       "</div>"
      ],
      "text/plain": [
       "   user_id  name  age    city subscription_type     distance   duration  \\\n",
       "0        1  Кира   22  Тюмень             ultra  4409.919140  25.599769   \n",
       "1        1  Кира   22  Тюмень             ultra  2617.592153  15.816871   \n",
       "2        1  Кира   22  Тюмень             ultra   754.159807   6.232113   \n",
       "3        1  Кира   22  Тюмень             ultra  2694.783254  18.511000   \n",
       "4        1  Кира   22  Тюмень             ultra  4028.687306  26.265803   \n",
       "\n",
       "        date  year  month  minute_price  start_ride_price  subscription_fee  \n",
       "0 2021-01-01  2021      1             6                 0               199  \n",
       "1 2021-01-18  2021      1             6                 0               199  \n",
       "2 2021-04-20  2021      4             6                 0               199  \n",
       "3 2021-08-11  2021      8             6                 0               199  \n",
       "4 2021-08-28  2021      8             6                 0               199  "
      ]
     },
     "execution_count": 25,
     "metadata": {},
     "output_type": "execute_result"
    }
   ],
   "source": [
    "# Объединяем данные пользователей и поездок по user_id\n",
    "user_rides = users.merge(rides, on='user_id', how='inner')\n",
    "\n",
    "# Объединяем полученные данные с информацией о подписках по subscription_type\n",
    "all_data = user_rides.merge(subscriptions, on='subscription_type', how='inner')\n",
    "\n",
    "# Выводим первые строки объединенного датафрейма для проверки\n",
    "all_data.head()"
   ]
  },
  {
   "cell_type": "code",
   "execution_count": 26,
   "id": "dab8faa2",
   "metadata": {},
   "outputs": [
    {
     "name": "stdout",
     "output_type": "stream",
     "text": [
      "Количество строк в исходном датафрейме users: 1534\n",
      "Количество строк в исходном датафрейме rides: 18068\n",
      "Количество строк в исходном датафрейме subscriptions: 2\n",
      "Количество строк в объединенном датафрейме all_data: 18068\n"
     ]
    }
   ],
   "source": [
    "# Проверяем количество строк до объединения\n",
    "initial_user_count = users.shape[0]\n",
    "initial_rides_count = rides.shape[0]\n",
    "initial_subscriptions_count = subscriptions.shape[0]\n",
    "\n",
    "# Проверяем количество строк после объединения\n",
    "final_data_count = all_data.shape[0]\n",
    "\n",
    "print(\"Количество строк в исходном датафрейме users:\", initial_user_count)\n",
    "print(\"Количество строк в исходном датафрейме rides:\", initial_rides_count)\n",
    "print(\"Количество строк в исходном датафрейме subscriptions:\", initial_subscriptions_count)\n",
    "print(\"Количество строк в объединенном датафрейме all_data:\", final_data_count)"
   ]
  },
  {
   "cell_type": "markdown",
   "id": "1f6557e2",
   "metadata": {},
   "source": [
    "Все строки датасета `rides` вошли в объединенный датасет"
   ]
  },
  {
   "cell_type": "markdown",
   "id": "e289c0ae",
   "metadata": {},
   "source": [
    "##### Создание отдельных датафреймов для пользователей с подпиской и без подписки\n",
    "\n",
    "Разделим объединенный датафрейм на две категории: пользователи с подпиской и пользователи без подписки. Это нужно, чтобы в дальнейшем можно было изучать различия в поведении обеих групп."
   ]
  },
  {
   "cell_type": "code",
   "execution_count": 27,
   "id": "3726986d",
   "metadata": {},
   "outputs": [],
   "source": [
    "# Данные о пользователях без подписки\n",
    "no_subscription = all_data[all_data['subscription_type'] == 'free']\n",
    "\n",
    "# Данные о пользователях с подпиской\n",
    "has_subscription = all_data[all_data['subscription_type'] == 'ultra']"
   ]
  },
  {
   "cell_type": "code",
   "execution_count": 28,
   "id": "d8a67572",
   "metadata": {},
   "outputs": [
    {
     "data": {
      "text/html": [
       "<div>\n",
       "<style scoped>\n",
       "    .dataframe tbody tr th:only-of-type {\n",
       "        vertical-align: middle;\n",
       "    }\n",
       "\n",
       "    .dataframe tbody tr th {\n",
       "        vertical-align: top;\n",
       "    }\n",
       "\n",
       "    .dataframe thead th {\n",
       "        text-align: right;\n",
       "    }\n",
       "</style>\n",
       "<table border=\"1\" class=\"dataframe\">\n",
       "  <thead>\n",
       "    <tr style=\"text-align: right;\">\n",
       "      <th></th>\n",
       "      <th>user_id</th>\n",
       "      <th>name</th>\n",
       "      <th>age</th>\n",
       "      <th>city</th>\n",
       "      <th>subscription_type</th>\n",
       "      <th>distance</th>\n",
       "      <th>duration</th>\n",
       "      <th>date</th>\n",
       "      <th>year</th>\n",
       "      <th>month</th>\n",
       "      <th>minute_price</th>\n",
       "      <th>start_ride_price</th>\n",
       "      <th>subscription_fee</th>\n",
       "    </tr>\n",
       "  </thead>\n",
       "  <tbody>\n",
       "    <tr>\n",
       "      <th>6500</th>\n",
       "      <td>700</td>\n",
       "      <td>Айдар</td>\n",
       "      <td>22</td>\n",
       "      <td>Омск</td>\n",
       "      <td>free</td>\n",
       "      <td>2515.690719</td>\n",
       "      <td>14.944286</td>\n",
       "      <td>2021-01-02</td>\n",
       "      <td>2021</td>\n",
       "      <td>1</td>\n",
       "      <td>8</td>\n",
       "      <td>50</td>\n",
       "      <td>0</td>\n",
       "    </tr>\n",
       "    <tr>\n",
       "      <th>6501</th>\n",
       "      <td>700</td>\n",
       "      <td>Айдар</td>\n",
       "      <td>22</td>\n",
       "      <td>Омск</td>\n",
       "      <td>free</td>\n",
       "      <td>846.932642</td>\n",
       "      <td>16.234663</td>\n",
       "      <td>2021-02-01</td>\n",
       "      <td>2021</td>\n",
       "      <td>2</td>\n",
       "      <td>8</td>\n",
       "      <td>50</td>\n",
       "      <td>0</td>\n",
       "    </tr>\n",
       "    <tr>\n",
       "      <th>6502</th>\n",
       "      <td>700</td>\n",
       "      <td>Айдар</td>\n",
       "      <td>22</td>\n",
       "      <td>Омск</td>\n",
       "      <td>free</td>\n",
       "      <td>4004.434142</td>\n",
       "      <td>20.016628</td>\n",
       "      <td>2021-02-04</td>\n",
       "      <td>2021</td>\n",
       "      <td>2</td>\n",
       "      <td>8</td>\n",
       "      <td>50</td>\n",
       "      <td>0</td>\n",
       "    </tr>\n",
       "    <tr>\n",
       "      <th>6503</th>\n",
       "      <td>700</td>\n",
       "      <td>Айдар</td>\n",
       "      <td>22</td>\n",
       "      <td>Омск</td>\n",
       "      <td>free</td>\n",
       "      <td>1205.911290</td>\n",
       "      <td>9.782872</td>\n",
       "      <td>2021-02-10</td>\n",
       "      <td>2021</td>\n",
       "      <td>2</td>\n",
       "      <td>8</td>\n",
       "      <td>50</td>\n",
       "      <td>0</td>\n",
       "    </tr>\n",
       "    <tr>\n",
       "      <th>6504</th>\n",
       "      <td>700</td>\n",
       "      <td>Айдар</td>\n",
       "      <td>22</td>\n",
       "      <td>Омск</td>\n",
       "      <td>free</td>\n",
       "      <td>3047.379435</td>\n",
       "      <td>17.427673</td>\n",
       "      <td>2021-02-14</td>\n",
       "      <td>2021</td>\n",
       "      <td>2</td>\n",
       "      <td>8</td>\n",
       "      <td>50</td>\n",
       "      <td>0</td>\n",
       "    </tr>\n",
       "  </tbody>\n",
       "</table>\n",
       "</div>"
      ],
      "text/plain": [
       "      user_id   name  age  city subscription_type     distance   duration  \\\n",
       "6500      700  Айдар   22  Омск              free  2515.690719  14.944286   \n",
       "6501      700  Айдар   22  Омск              free   846.932642  16.234663   \n",
       "6502      700  Айдар   22  Омск              free  4004.434142  20.016628   \n",
       "6503      700  Айдар   22  Омск              free  1205.911290   9.782872   \n",
       "6504      700  Айдар   22  Омск              free  3047.379435  17.427673   \n",
       "\n",
       "           date  year  month  minute_price  start_ride_price  subscription_fee  \n",
       "6500 2021-01-02  2021      1             8                50                 0  \n",
       "6501 2021-02-01  2021      2             8                50                 0  \n",
       "6502 2021-02-04  2021      2             8                50                 0  \n",
       "6503 2021-02-10  2021      2             8                50                 0  \n",
       "6504 2021-02-14  2021      2             8                50                 0  "
      ]
     },
     "execution_count": 28,
     "metadata": {},
     "output_type": "execute_result"
    }
   ],
   "source": [
    "# Проверяем первые строки для категории без подписки\n",
    "no_subscription.head()"
   ]
  },
  {
   "cell_type": "code",
   "execution_count": 29,
   "id": "ae8ac056",
   "metadata": {},
   "outputs": [
    {
     "data": {
      "text/html": [
       "<div>\n",
       "<style scoped>\n",
       "    .dataframe tbody tr th:only-of-type {\n",
       "        vertical-align: middle;\n",
       "    }\n",
       "\n",
       "    .dataframe tbody tr th {\n",
       "        vertical-align: top;\n",
       "    }\n",
       "\n",
       "    .dataframe thead th {\n",
       "        text-align: right;\n",
       "    }\n",
       "</style>\n",
       "<table border=\"1\" class=\"dataframe\">\n",
       "  <thead>\n",
       "    <tr style=\"text-align: right;\">\n",
       "      <th></th>\n",
       "      <th>user_id</th>\n",
       "      <th>name</th>\n",
       "      <th>age</th>\n",
       "      <th>city</th>\n",
       "      <th>subscription_type</th>\n",
       "      <th>distance</th>\n",
       "      <th>duration</th>\n",
       "      <th>date</th>\n",
       "      <th>year</th>\n",
       "      <th>month</th>\n",
       "      <th>minute_price</th>\n",
       "      <th>start_ride_price</th>\n",
       "      <th>subscription_fee</th>\n",
       "    </tr>\n",
       "  </thead>\n",
       "  <tbody>\n",
       "    <tr>\n",
       "      <th>0</th>\n",
       "      <td>1</td>\n",
       "      <td>Кира</td>\n",
       "      <td>22</td>\n",
       "      <td>Тюмень</td>\n",
       "      <td>ultra</td>\n",
       "      <td>4409.919140</td>\n",
       "      <td>25.599769</td>\n",
       "      <td>2021-01-01</td>\n",
       "      <td>2021</td>\n",
       "      <td>1</td>\n",
       "      <td>6</td>\n",
       "      <td>0</td>\n",
       "      <td>199</td>\n",
       "    </tr>\n",
       "    <tr>\n",
       "      <th>1</th>\n",
       "      <td>1</td>\n",
       "      <td>Кира</td>\n",
       "      <td>22</td>\n",
       "      <td>Тюмень</td>\n",
       "      <td>ultra</td>\n",
       "      <td>2617.592153</td>\n",
       "      <td>15.816871</td>\n",
       "      <td>2021-01-18</td>\n",
       "      <td>2021</td>\n",
       "      <td>1</td>\n",
       "      <td>6</td>\n",
       "      <td>0</td>\n",
       "      <td>199</td>\n",
       "    </tr>\n",
       "    <tr>\n",
       "      <th>2</th>\n",
       "      <td>1</td>\n",
       "      <td>Кира</td>\n",
       "      <td>22</td>\n",
       "      <td>Тюмень</td>\n",
       "      <td>ultra</td>\n",
       "      <td>754.159807</td>\n",
       "      <td>6.232113</td>\n",
       "      <td>2021-04-20</td>\n",
       "      <td>2021</td>\n",
       "      <td>4</td>\n",
       "      <td>6</td>\n",
       "      <td>0</td>\n",
       "      <td>199</td>\n",
       "    </tr>\n",
       "    <tr>\n",
       "      <th>3</th>\n",
       "      <td>1</td>\n",
       "      <td>Кира</td>\n",
       "      <td>22</td>\n",
       "      <td>Тюмень</td>\n",
       "      <td>ultra</td>\n",
       "      <td>2694.783254</td>\n",
       "      <td>18.511000</td>\n",
       "      <td>2021-08-11</td>\n",
       "      <td>2021</td>\n",
       "      <td>8</td>\n",
       "      <td>6</td>\n",
       "      <td>0</td>\n",
       "      <td>199</td>\n",
       "    </tr>\n",
       "    <tr>\n",
       "      <th>4</th>\n",
       "      <td>1</td>\n",
       "      <td>Кира</td>\n",
       "      <td>22</td>\n",
       "      <td>Тюмень</td>\n",
       "      <td>ultra</td>\n",
       "      <td>4028.687306</td>\n",
       "      <td>26.265803</td>\n",
       "      <td>2021-08-28</td>\n",
       "      <td>2021</td>\n",
       "      <td>8</td>\n",
       "      <td>6</td>\n",
       "      <td>0</td>\n",
       "      <td>199</td>\n",
       "    </tr>\n",
       "  </tbody>\n",
       "</table>\n",
       "</div>"
      ],
      "text/plain": [
       "   user_id  name  age    city subscription_type     distance   duration  \\\n",
       "0        1  Кира   22  Тюмень             ultra  4409.919140  25.599769   \n",
       "1        1  Кира   22  Тюмень             ultra  2617.592153  15.816871   \n",
       "2        1  Кира   22  Тюмень             ultra   754.159807   6.232113   \n",
       "3        1  Кира   22  Тюмень             ultra  2694.783254  18.511000   \n",
       "4        1  Кира   22  Тюмень             ultra  4028.687306  26.265803   \n",
       "\n",
       "        date  year  month  minute_price  start_ride_price  subscription_fee  \n",
       "0 2021-01-01  2021      1             6                 0               199  \n",
       "1 2021-01-18  2021      1             6                 0               199  \n",
       "2 2021-04-20  2021      4             6                 0               199  \n",
       "3 2021-08-11  2021      8             6                 0               199  \n",
       "4 2021-08-28  2021      8             6                 0               199  "
      ]
     },
     "execution_count": 29,
     "metadata": {},
     "output_type": "execute_result"
    }
   ],
   "source": [
    "# Проверяем первые строки для категории с подпиской\n",
    "has_subscription.head()"
   ]
  },
  {
   "cell_type": "markdown",
   "id": "a8b8d8d7",
   "metadata": {},
   "source": [
    "### Визуализация информации о расстоянии и времени поездок для обеих категорий\n",
    "\n",
    "Теперь визуализируем данные о расстоянии и продолжительности поездок для пользователей с подпиской и без подписки. Это поможет понять, отличаются ли поведенческие паттерны между этими двумя группами."
   ]
  },
  {
   "cell_type": "code",
   "execution_count": 30,
   "id": "54508854",
   "metadata": {},
   "outputs": [
    {
     "data": {
      "image/png": "[encoded data removed]",
      "text/plain": [
       "<Figure size 720x432 with 1 Axes>"
      ]
     },
     "metadata": {
      "needs_background": "light"
     },
     "output_type": "display_data"
    }
   ],
   "source": [
    "# Визуализация: Расстояние поездок для пользователей без подписки\n",
    "plt.figure(figsize=(10, 6))\n",
    "sns.histplot(no_subscription['distance'], bins=20, kde=True)\n",
    "plt.title(\"Распределение расстояния поездок для пользователей без подписки\")\n",
    "plt.xlabel(\"Расстояние (метры)\")\n",
    "plt.ylabel(\"Количество поездок\")\n",
    "plt.show()"
   ]
  },
  {
   "cell_type": "code",
   "execution_count": 31,
   "id": "0b87182b",
   "metadata": {},
   "outputs": [
    {
     "data": {
      "image/png": "[encoded data removed]",
      "text/plain": [
       "<Figure size 720x432 with 1 Axes>"
      ]
     },
     "metadata": {
      "needs_background": "light"
     },
     "output_type": "display_data"
    }
   ],
   "source": [
    "# Визуализация: Расстояние поездок для пользователей с подпиской\n",
    "plt.figure(figsize=(10, 6))\n",
    "sns.histplot(has_subscription['distance'], bins=20, kde=True, color=\"orange\")\n",
    "plt.title(\"Распределение расстояния поездок для пользователей с подпиской\")\n",
    "plt.xlabel(\"Расстояние (метры)\")\n",
    "plt.ylabel(\"Количество поездок\")\n",
    "plt.show()"
   ]
  },
  {
   "cell_type": "code",
   "execution_count": 32,
   "id": "17bcb43b",
   "metadata": {},
   "outputs": [
    {
     "data": {
      "image/png": "[encoded data removed]",
      "text/plain": [
       "<Figure size 720x432 with 1 Axes>"
      ]
     },
     "metadata": {
      "needs_background": "light"
     },
     "output_type": "display_data"
    }
   ],
   "source": [
    "# Визуализация: Время поездок для пользователей без подписки\n",
    "plt.figure(figsize=(10, 6))\n",
    "sns.histplot(no_subscription['duration'], bins=20, kde=True)\n",
    "plt.title(\"Распределение времени поездок для пользователей без подписки\")\n",
    "plt.xlabel(\"Продолжительность (минуты)\")\n",
    "plt.ylabel(\"Количество поездок\")\n",
    "plt.show()"
   ]
  },
  {
   "cell_type": "code",
   "execution_count": 33,
   "id": "4ec29331",
   "metadata": {},
   "outputs": [
    {
     "data": {
      "image/png": "[encoded data removed]",
      "text/plain": [
       "<Figure size 720x432 with 1 Axes>"
      ]
     },
     "metadata": {
      "needs_background": "light"
     },
     "output_type": "display_data"
    }
   ],
   "source": [
    "# Визуализация: Время поездок для пользователей с подпиской\n",
    "plt.figure(figsize=(10, 6))\n",
    "sns.histplot(has_subscription['duration'], bins=20, kde=True, color=\"orange\")\n",
    "plt.title(\"Распределение времени поездок для пользователей с подпиской\")\n",
    "plt.xlabel(\"Продолжительность (минуты)\")\n",
    "plt.ylabel(\"Количество поездок\")\n",
    "plt.show()"
   ]
  },
  {
   "cell_type": "markdown",
   "id": "0830fc6c",
   "metadata": {},
   "source": [
    "1. **Пользователи без подписки**:\n",
    "    - Их распределение расстояний и времени поездок шире и выше, что указывает на более разнообразные паттерны использования. Некоторые из них, возможно, используют сервис для длинных поездок, не прибегая к подписке, и готовы платить за каждую минуту или километр отдельно.\n",
    "    - Это также может свидетельствовать о том, что они менее ограничены в использовании сервиса по сравнению с подписчиками, так как нет фиксированной платы за подписку, и они платят по мере необходимости.\n",
    "2. **Пользователи с подпиской**:\n",
    "    - Эти пользователи предпочитают поездки на расстояние от 2,5 до 4 км, что занимает у них от 10 до 25 минут. Это может указывать на то, что подписка удобна для поездок средней дальности.\n",
    "    - Вероятно, пользователи с подпиской ориентированы на более частые, но умеренные по продолжительности поездки, которые соответствуют условиям их подписки (бесплатный старт и сниженная стоимость за минуту).\n",
    "\n",
    "##### Промежуточный вывод:\n",
    "\n",
    "Анализ показал, что пользователи без подписки имеют более широкий диапазон расстояний и продолжительности поездок, возможно, потому что они менее ограничены и могут использовать сервис для более разнообразных поездок. В то же время пользователи с подпиской придерживаются среднего расстояния (около 2,5-4 км) и времени поездки (10-25 минут), что делает подписку для них экономически выгодной."
   ]
  },
  {
   "cell_type": "markdown",
   "id": "402d620f",
   "metadata": {},
   "source": [
    "## Подсчёт выручки"
   ]
  },
  {
   "cell_type": "markdown",
   "id": "c878f1f4",
   "metadata": {},
   "source": [
    "### Агрегация данных о поездках\n",
    "\n",
    "Начнем с группировки данных по `user_id` и `month`, чтобы получить общие показатели по расстоянию, количеству поездок и времени поездок для каждого пользователя в каждом месяце.\n",
    "- `total_distance` — общее расстояние поездок.\n",
    "- `total_rides` — количество поездок.\n",
    "- `total_duration` — общее время поездок."
   ]
  },
  {
   "cell_type": "code",
   "execution_count": 34,
   "id": "0190ae25",
   "metadata": {},
   "outputs": [
    {
     "data": {
      "text/html": [
       "<div>\n",
       "<style scoped>\n",
       "    .dataframe tbody tr th:only-of-type {\n",
       "        vertical-align: middle;\n",
       "    }\n",
       "\n",
       "    .dataframe tbody tr th {\n",
       "        vertical-align: top;\n",
       "    }\n",
       "\n",
       "    .dataframe thead th {\n",
       "        text-align: right;\n",
       "    }\n",
       "</style>\n",
       "<table border=\"1\" class=\"dataframe\">\n",
       "  <thead>\n",
       "    <tr style=\"text-align: right;\">\n",
       "      <th></th>\n",
       "      <th>user_id</th>\n",
       "      <th>month</th>\n",
       "      <th>total_distance</th>\n",
       "      <th>total_rides</th>\n",
       "      <th>total_duration</th>\n",
       "    </tr>\n",
       "  </thead>\n",
       "  <tbody>\n",
       "    <tr>\n",
       "      <th>0</th>\n",
       "      <td>1</td>\n",
       "      <td>1</td>\n",
       "      <td>7027.511294</td>\n",
       "      <td>2</td>\n",
       "      <td>41.416640</td>\n",
       "    </tr>\n",
       "    <tr>\n",
       "      <th>1</th>\n",
       "      <td>1</td>\n",
       "      <td>4</td>\n",
       "      <td>754.159807</td>\n",
       "      <td>1</td>\n",
       "      <td>6.232113</td>\n",
       "    </tr>\n",
       "    <tr>\n",
       "      <th>2</th>\n",
       "      <td>1</td>\n",
       "      <td>8</td>\n",
       "      <td>6723.470560</td>\n",
       "      <td>2</td>\n",
       "      <td>44.776802</td>\n",
       "    </tr>\n",
       "    <tr>\n",
       "      <th>3</th>\n",
       "      <td>1</td>\n",
       "      <td>10</td>\n",
       "      <td>5809.911100</td>\n",
       "      <td>2</td>\n",
       "      <td>31.578017</td>\n",
       "    </tr>\n",
       "    <tr>\n",
       "      <th>4</th>\n",
       "      <td>1</td>\n",
       "      <td>11</td>\n",
       "      <td>7003.499363</td>\n",
       "      <td>3</td>\n",
       "      <td>53.397424</td>\n",
       "    </tr>\n",
       "  </tbody>\n",
       "</table>\n",
       "</div>"
      ],
      "text/plain": [
       "   user_id  month  total_distance  total_rides  total_duration\n",
       "0        1      1     7027.511294            2       41.416640\n",
       "1        1      4      754.159807            1        6.232113\n",
       "2        1      8     6723.470560            2       44.776802\n",
       "3        1     10     5809.911100            2       31.578017\n",
       "4        1     11     7003.499363            3       53.397424"
      ]
     },
     "execution_count": 34,
     "metadata": {},
     "output_type": "execute_result"
    }
   ],
   "source": [
    "# Группировка данных по пользователям и месяцам\n",
    "monthly_aggregates = all_data.groupby(['user_id', 'month']).agg(\n",
    "    total_distance=('distance', 'sum'),       # Суммарное расстояние\n",
    "    total_rides=('distance', 'count'),        # Количество поездок\n",
    "    total_duration=('duration', 'sum')        # Суммарное время поездок\n",
    ").reset_index()\n",
    "\n",
    "# Просмотр результатов\n",
    "monthly_aggregates.head()"
   ]
  },
  {
   "cell_type": "code",
   "execution_count": 35,
   "id": "b80345e0",
   "metadata": {},
   "outputs": [
    {
     "name": "stdout",
     "output_type": "stream",
     "text": [
      "Length         11.331, 11331\n",
      "Переименуй один из столбцов Index(['user_id', 'month', 'total_distance', 'total_rides', 'total_duration'], dtype='object')\n",
      "user_id           9,190,134.0\n",
      "month                73,397.0\n",
      "total_distance   55,480,684.4\n",
      "total_rides          18,068.0\n",
      "total_duration      321,700.9\n",
      "dtype: float64\n"
     ]
    }
   ],
   "source": [
    "# Ревьюеру для проверки.\n",
    "pd.options.display.float_format = '{:,.1f}'.format\n",
    "df_aggregated = monthly_aggregates\n",
    "try:\n",
    "    print('Length         11.331,', len(df_aggregated))\n",
    "    print('Duration      330.708,', int(df_aggregated['sum_duration'].sum()))\n",
    "    print('Distance   55.480.684,', int(df_aggregated['sum_distance'].sum()))\n",
    "    print('Count          18.068,', int(df_aggregated['count_rides'].sum()))\n",
    "    print('Revenue     3.878.641,', int(df_aggregated['monthly_revenue'].sum()))\n",
    "except:\n",
    "    print('Переименуй один из столбцов', df_aggregated.columns)\n",
    "    print(df_aggregated.sum())"
   ]
  },
  {
   "cell_type": "markdown",
   "id": "62d71ca7",
   "metadata": {},
   "source": [
    "### Подсчет помесячной выручки для каждого пользователя\n",
    "\n",
    "Добавим расчет выручки, исходя из условий оплаты для пользователей с подпиской и без подписки.\n",
    "\n",
    "Для этого используем такие условия:\n",
    "- Пользователи без подписки оплачивают каждую минуту по 8 рублей и 50 рублей за начало каждой поездки.\n",
    "- Пользователи с подпиской платят 199 рублей в месяц, 6 рублей за минуту и не платят за старт поездки."
   ]
  },
  {
   "cell_type": "code",
   "execution_count": 36,
   "id": "0ff904d7",
   "metadata": {},
   "outputs": [
    {
     "data": {
      "text/html": [
       "<div>\n",
       "<style scoped>\n",
       "    .dataframe tbody tr th:only-of-type {\n",
       "        vertical-align: middle;\n",
       "    }\n",
       "\n",
       "    .dataframe tbody tr th {\n",
       "        vertical-align: top;\n",
       "    }\n",
       "\n",
       "    .dataframe thead th {\n",
       "        text-align: right;\n",
       "    }\n",
       "</style>\n",
       "<table border=\"1\" class=\"dataframe\">\n",
       "  <thead>\n",
       "    <tr style=\"text-align: right;\">\n",
       "      <th></th>\n",
       "      <th>user_id</th>\n",
       "      <th>month</th>\n",
       "      <th>total_distance</th>\n",
       "      <th>total_rides</th>\n",
       "      <th>total_duration</th>\n",
       "      <th>subscription_type</th>\n",
       "      <th>subscription_fee</th>\n",
       "      <th>minute_price</th>\n",
       "      <th>start_ride_price</th>\n",
       "      <th>monthly_revenue</th>\n",
       "    </tr>\n",
       "  </thead>\n",
       "  <tbody>\n",
       "    <tr>\n",
       "      <th>0</th>\n",
       "      <td>1</td>\n",
       "      <td>1</td>\n",
       "      <td>7,027.5</td>\n",
       "      <td>2</td>\n",
       "      <td>41.4</td>\n",
       "      <td>ultra</td>\n",
       "      <td>199</td>\n",
       "      <td>6</td>\n",
       "      <td>0</td>\n",
       "      <td>445</td>\n",
       "    </tr>\n",
       "    <tr>\n",
       "      <th>1</th>\n",
       "      <td>1</td>\n",
       "      <td>4</td>\n",
       "      <td>754.2</td>\n",
       "      <td>1</td>\n",
       "      <td>6.2</td>\n",
       "      <td>ultra</td>\n",
       "      <td>199</td>\n",
       "      <td>6</td>\n",
       "      <td>0</td>\n",
       "      <td>235</td>\n",
       "    </tr>\n",
       "    <tr>\n",
       "      <th>2</th>\n",
       "      <td>1</td>\n",
       "      <td>8</td>\n",
       "      <td>6,723.5</td>\n",
       "      <td>2</td>\n",
       "      <td>44.8</td>\n",
       "      <td>ultra</td>\n",
       "      <td>199</td>\n",
       "      <td>6</td>\n",
       "      <td>0</td>\n",
       "      <td>469</td>\n",
       "    </tr>\n",
       "    <tr>\n",
       "      <th>3</th>\n",
       "      <td>1</td>\n",
       "      <td>10</td>\n",
       "      <td>5,809.9</td>\n",
       "      <td>2</td>\n",
       "      <td>31.6</td>\n",
       "      <td>ultra</td>\n",
       "      <td>199</td>\n",
       "      <td>6</td>\n",
       "      <td>0</td>\n",
       "      <td>391</td>\n",
       "    </tr>\n",
       "    <tr>\n",
       "      <th>4</th>\n",
       "      <td>1</td>\n",
       "      <td>11</td>\n",
       "      <td>7,003.5</td>\n",
       "      <td>3</td>\n",
       "      <td>53.4</td>\n",
       "      <td>ultra</td>\n",
       "      <td>199</td>\n",
       "      <td>6</td>\n",
       "      <td>0</td>\n",
       "      <td>517</td>\n",
       "    </tr>\n",
       "  </tbody>\n",
       "</table>\n",
       "</div>"
      ],
      "text/plain": [
       "   user_id  month  total_distance  total_rides  total_duration  \\\n",
       "0        1      1         7,027.5            2            41.4   \n",
       "1        1      4           754.2            1             6.2   \n",
       "2        1      8         6,723.5            2            44.8   \n",
       "3        1     10         5,809.9            2            31.6   \n",
       "4        1     11         7,003.5            3            53.4   \n",
       "\n",
       "  subscription_type  subscription_fee  minute_price  start_ride_price  \\\n",
       "0             ultra               199             6                 0   \n",
       "1             ultra               199             6                 0   \n",
       "2             ultra               199             6                 0   \n",
       "3             ultra               199             6                 0   \n",
       "4             ultra               199             6                 0   \n",
       "\n",
       "   monthly_revenue  \n",
       "0              445  \n",
       "1              235  \n",
       "2              469  \n",
       "3              391  \n",
       "4              517  "
      ]
     },
     "execution_count": 36,
     "metadata": {},
     "output_type": "execute_result"
    }
   ],
   "source": [
    "# Объединяем с информацией о подписках, чтобы получить условия оплаты для каждого пользователя\n",
    "revenue_data = monthly_aggregates.merge(all_data[['user_id', 'subscription_type', 'subscription_fee', 'minute_price', 'start_ride_price']].drop_duplicates(), on='user_id', how='left')\n",
    "\n",
    "# Рассчитываем помесячную выручку с учетом условий подписки\n",
    "revenue_data['monthly_revenue'] = (\n",
    "    revenue_data['subscription_fee'] +                   # Ежемесячная плата за подписку\n",
    "    revenue_data['total_duration'].apply(lambda x: round(x)) * revenue_data['minute_price'] +  # Стоимость минут поездок\n",
    "    revenue_data['total_rides'] * revenue_data['start_ride_price']    # Стоимость начала поездок\n",
    ")\n",
    "\n",
    "# Просмотр результатов\n",
    "revenue_data.head()"
   ]
  },
  {
   "cell_type": "markdown",
   "id": "9e7cb17f",
   "metadata": {},
   "source": [
    "Мы можем построить несколько графиков:\n",
    "\n",
    "- **Гистограмма** для распределения месячной выручки среди всех пользователей.\n",
    "- **Сравнительная гистограмма** для пользователей с подпиской и без подписки.\n",
    "- **Средняя выручка по месяцам** для анализа сезонности, если такая информация полезна."
   ]
  },
  {
   "cell_type": "markdown",
   "id": "f24a238a",
   "metadata": {},
   "source": [
    "**1. Гистограмма для распределения месячной выручки среди всех пользователей**\n",
    "\n",
    "Это поможет увидеть общее распределение выручки, а также выявить, есть ли какие-то аномально высокие значения."
   ]
  },
  {
   "cell_type": "code",
   "execution_count": 37,
   "id": "84e59bf0",
   "metadata": {},
   "outputs": [
    {
     "data": {
      "image/png": "[encoded data removed]",
      "text/plain": [
       "<Figure size 720x432 with 1 Axes>"
      ]
     },
     "metadata": {
      "needs_background": "light"
     },
     "output_type": "display_data"
    }
   ],
   "source": [
    "# Гистограмма для распределения месячной выручки среди всех пользователей\n",
    "plt.figure(figsize=(10, 6))\n",
    "sns.histplot(revenue_data['monthly_revenue'], bins=20, kde=True)\n",
    "plt.title(\"Распределение месячной выручки среди всех пользователей\")\n",
    "plt.xlabel(\"Месячная выручка (руб)\")\n",
    "plt.ylabel(\"Количество пользователей\")\n",
    "plt.show()"
   ]
  },
  {
   "cell_type": "markdown",
   "id": "d1fd476a",
   "metadata": {},
   "source": [
    "1. **Левостороннее смещение**: Большинство пользователей генерируют относительно небольшую выручку. Это говорит о том, что большая часть пользователей, возможно, не использует сервис активно и совершает лишь несколько поездок в месяц или выбирает короткие поездки, которые не приносят значительного дохода.\n",
    "2. **Пик около 300 рублей**: Большинство пользователей генерирует месячную выручку около 300 рублей, что выше стоимости подписки Ultra (199 рублей). Это может означать, что хотя многие пользователи предпочитают платить за поездки по базовому тарифу, их ежемесячные расходы иногда превышают стоимость подписки.\n",
    "    - **Пользовательский паттерн**: Возможно, некоторые пользователи совершают поездки нерегулярно и полагают, что подписка им не нужна, хотя их расходы в итоге оказываются выше, чем если бы они оформили подписку.\n",
    "    - **Недостаточная информированность**: Есть вероятность, что часть пользователей просто не осознает, что при их уровне использования подписка могла бы быть более выгодной.\n",
    "3. **Длинный \"хвост\" вправо**: Некоторая часть пользователей все же генерирует значительно больше выручки, что может быть связано с частыми поездками и использованием сервиса для более длинных расстояний. Эти пользователи, вероятно, являются более активными, и, возможно, они чаще выбирают подписку.\n",
    "\n",
    "Основная масса пользователей приносит сервису около 300 рублей в месяц, что указывает на нерегулярное использование. Однако длинный \"хвост\" вправо указывает на присутствие группы активных пользователей, которые генерируют более высокую выручку. Это распределение может послужить основой для дальнейшего анализа стратегии подписки и возможного введения дополнительных тарифов, чтобы лучше удовлетворить потребности как редких, так и частых пользователей."
   ]
  },
  {
   "cell_type": "markdown",
   "id": "164f4078",
   "metadata": {},
   "source": [
    "**2. Сравнительная гистограмма для пользователей с подпиской и без подписки**\n",
    "\n",
    "Построим две гистограммы на одном графике, чтобы сравнить выручку от подписчиков и неподписчиков. Это покажет, как подписка влияет на распределение выручки."
   ]
  },
  {
   "cell_type": "code",
   "execution_count": 38,
   "id": "e8e36381",
   "metadata": {},
   "outputs": [
    {
     "data": {
      "image/png": "[encoded data removed]",
      "text/plain": [
       "<Figure size 720x432 with 1 Axes>"
      ]
     },
     "metadata": {
      "needs_background": "light"
     },
     "output_type": "display_data"
    }
   ],
   "source": [
    "# Разделяем данные на две группы\n",
    "revenue_no_subscription = revenue_data[revenue_data['subscription_type'] == 'free']\n",
    "revenue_subscription = revenue_data[revenue_data['subscription_type'] == 'ultra']\n",
    "\n",
    "# Сравнительная гистограмма\n",
    "plt.figure(figsize=(10, 6))\n",
    "sns.histplot(revenue_no_subscription['monthly_revenue'], bins=20, kde=True, color=\"blue\", label=\"Без подписки\")\n",
    "sns.histplot(revenue_subscription['monthly_revenue'], bins=20, kde=True, color=\"orange\", label=\"С подпиской\")\n",
    "plt.title(\"Сравнение месячной выручки пользователей с подпиской и без подписки\")\n",
    "plt.xlabel(\"Месячная выручка (руб)\")\n",
    "plt.ylabel(\"Количество пользователей\")\n",
    "plt.legend()\n",
    "plt.show()"
   ]
  },
  {
   "cell_type": "markdown",
   "id": "975bdea8",
   "metadata": {},
   "source": [
    "1. **Больше пользователей без подписки**: Количество пользователей без подписки заметно выше. Основная масса таких пользователей приносит примерно 200 рублей в месяц. Это может указывать на то, что большинство пользователей без подписки используют сервис нечасто или для коротких поездок, что приводит к относительно низкой месячной выручке.\n",
    "2. **Пик для пользователей с подпиской**: Пик выручки для пользователей с подпиской находится на отметке около 300 рублей. Это выше, чем стоимость самой подписки (199 рублей), что указывает на то, что подписчики используют сервис достаточно активно, чтобы окупить подписку и принести дополнительный доход. Подписчики, возможно, ценят преимущества подписки, такие как отсутствие платы за старт и скидка на минуту поездки, и используют сервис чаще.\n",
    "3. **Длинный \"хвост\" у пользователей без подписки**: Это указывает на наличие группы очень активных пользователей без подписки, которые генерируют высокую выручку, несмотря на отсутствие подписки. Это интересное наблюдение, так как оно показывает, что среди пользователей без подписки есть те, кто мог бы выиграть от ее оформления, особенно если их частые поездки приводят к значительным тратам.\n",
    "\n",
    "Сравнение выручки пользователей с подпиской и без показало несколько интересных моментов. Пользователи без подписки составляют большинство и приносят меньшую выручку в среднем, однако среди них есть активные пользователи, которые генерируют высокий доход. Пользователи с подпиской приносят более стабильный доход, так как их расходы выше базовой стоимости подписки. Возможно, компании GoFast имеет смысл нацелиться на активных пользователей без подписки и предложить им выгодные условия для перехода на подписку, что может повысить их лояльность и увеличить общий доход."
   ]
  },
  {
   "cell_type": "markdown",
   "id": "7b7bb2f1",
   "metadata": {},
   "source": [
    "**3. Средняя выручка по месяцам для анализа сезонности**\n",
    "\n",
    "Проанализируем, есть ли сезонные колебания в выручке. Мы будем группировать данные по `month` и строить линию тренда."
   ]
  },
  {
   "cell_type": "code",
   "execution_count": 39,
   "id": "caf985d0",
   "metadata": {},
   "outputs": [
    {
     "data": {
      "image/png": "[encoded data removed]",
      "text/plain": [
       "<Figure size 720x432 with 1 Axes>"
      ]
     },
     "metadata": {
      "needs_background": "light"
     },
     "output_type": "display_data"
    }
   ],
   "source": [
    "# Средняя выручка по месяцам\n",
    "monthly_avg_revenue = revenue_data.groupby('month')['monthly_revenue'].mean()\n",
    "\n",
    "# Линейный график средней выручки по месяцам\n",
    "plt.figure(figsize=(10, 6))\n",
    "sns.lineplot(x=monthly_avg_revenue.index, y=monthly_avg_revenue.values, marker='o')\n",
    "plt.title(\"Средняя месячная выручка по месяцам\")\n",
    "plt.xlabel(\"Месяц\")\n",
    "plt.ylabel(\"Средняя месячная выручка (руб)\")\n",
    "plt.xticks(monthly_avg_revenue.index)\n",
    "plt.show()"
   ]
  },
  {
   "cell_type": "markdown",
   "id": "e2076666",
   "metadata": {},
   "source": [
    "1. **Низкая выручка в феврале**: Февраль — короткий месяц и часто холодный. Вполне объяснимо, что у пользователей может наблюдаться сниженное желание пользоваться самокатами (но повышенное желание доставать чернил и плакать). Также низкая выручка может быть связана с возможными ошибками или неполными данными, так как провал в выручке, все же, выглядит подозрительным.\n",
    "2. **Высокая выручка в апреле**: Этот всплеск вполне логичен. С приходом весны люди чаще выходят на улицу, и самокаты становятся более привлекательным видом транспорта. Вероятно, это момент, когда многие пользователи начинают активно пользоваться сервисом после зимнего затишья.\n",
    "3. **Колебания в летние месяцы**: Спад в июне, затем новый пик в сентябре и снова спад — такие колебания, вероятно, также связаны с погодными условиями и сезонными изменениями в образе жизни. Летом многие люди уезжают в отпуска, что может объяснить падение активности в июне и июле. В сентябре активность снова возрастает с началом учебного и рабочего сезона.\n",
    "4. **Спад в ноябре**: Как и в феврале может быть связан с погодными условиями. Однако, здесь мы не наблюдаем такого стремительного падения выручки, что может свидетельствовать о проблемных данных за февраль.\n",
    "5. **Всплеск в декабре**: Этот всплеск может быть связан с предпраздничной суетой, когда город насыщен людьми, и самокаты могут стать удобным способом передвижения на фоне высокого автомобильного трафика.\n",
    "\n",
    "### Промежуточный вывод\n",
    "\n",
    "- Основная масса пользователей без подписки приносит выручку около 200 рублей, но есть небольшая группа активных пользователей, которые генерируют высокие доходы без подписки. Пользователи с подпиской стабильно приносят больше 300 рублей, что говорит о том, что они используют сервис более активно.\n",
    "- Сезонные колебания выручки показали, что активность увеличивается весной, достигает пика в апреле и снова возрастает осенью, что связано с погодными условиями и изменениями в образе жизни. В декабре также наблюдается небольшой всплеск, который, вероятно, связан с предпраздничным периодом."
   ]
  },
  {
   "cell_type": "markdown",
   "id": "41545ac0",
   "metadata": {},
   "source": [
    "## Проверка гипотез"
   ]
  },
  {
   "cell_type": "markdown",
   "id": "63ac86d2",
   "metadata": {},
   "source": [
    "В этом шаге мы проверим три гипотезы, которые помогут ответить на вопросы бизнеса. Для каждой гипотезы будут сформулированы нулевая и альтернативная гипотезы."
   ]
  },
  {
   "cell_type": "markdown",
   "id": "e446a8a2",
   "metadata": {},
   "source": [
    "### Гипотеза 1: Тратят ли пользователи с подпиской больше времени на поездки?\n",
    "\n",
    "**Вопрос:** Тратят ли пользователи с подпиской больше времени на поездки?\n",
    "\n",
    "**Нулевая гипотеза (Н0):** Пользователи с подпиской тратят столько же времени на поездки, сколько и пользователи без подписки.\n",
    "\n",
    "**Альтернативная гипотеза (Н1):** Пользователи с подпиской тратят больше времени на поездки, чем пользователи без подписки.\n",
    "\n",
    "Для проверки этой гипотезы используем **двухвыборочный t-критерий Стьюдента** с аргументом `alternative='greater'`, чтобы учесть направление в альтернативной гипотезе."
   ]
  },
  {
   "cell_type": "code",
   "execution_count": 40,
   "id": "29040966",
   "metadata": {},
   "outputs": [
    {
     "name": "stdout",
     "output_type": "stream",
     "text": [
      "t-статистика: 12.683043751946238\n",
      "p-значение: 5.6757813771289775e-37\n",
      "Разница статистически значима: пользователи с подпиской действительно тратят больше времени на поездки.\n"
     ]
    }
   ],
   "source": [
    "# Разделяем данные на две группы\n",
    "duration_no_subscription = all_data[all_data['subscription_type'] == 'free']['duration']\n",
    "duration_subscription = all_data[all_data['subscription_type'] == 'ultra']['duration']\n",
    "\n",
    "# Выполняем t-тест\n",
    "t_stat, p_value = stats.ttest_ind(duration_subscription, duration_no_subscription,\n",
    "                                  alternative='greater', equal_var=False)\n",
    "\n",
    "print(\"t-статистика:\", t_stat)\n",
    "print(\"p-значение:\", p_value)\n",
    "\n",
    "# Интерпретация результата\n",
    "alpha = 0.05\n",
    "if p_value < alpha:\n",
    "    print(\"Разница статистически значима: пользователи с подпиской действительно тратят больше времени на поездки.\")\n",
    "else:\n",
    "    print(\"Разница не является статистически значимой: пользователи с подпиской не тратят больше времени на поездки.\")"
   ]
  },
  {
   "cell_type": "markdown",
   "id": "50f7180d",
   "metadata": {},
   "source": [
    "Пользователи с подпиской могут чувствовать себя более свободно в плане времени поездки, так как им не нужно платить за старт, и стоимость за минуту для них ниже. Это делает поездки для них более доступными и привлекательными для более длительного использования."
   ]
  },
  {
   "cell_type": "markdown",
   "id": "2bfa3b6a",
   "metadata": {},
   "source": [
    "###  Гипотеза 2: Превышает ли среднее расстояние поездок пользователей с подпиской 3130 метров?\n",
    "\n",
    "**Вопрос:** Превышает ли среднее расстояние, которое проезжают пользователи с подпиской, оптимальное значение в 3130 метров?\n",
    "\n",
    "**Нулевая гипотеза (Н0):** Среднее расстояние поездок пользователей с подпиской не превышает 3130 метров.\n",
    "\n",
    "**Альтернативная гипотеза (Н1):** Среднее расстояние поездок пользователей с подпиской превышает 3130 метров.\n",
    "\n",
    "Для этой проверки используем одновыборочный t-тест с указанием, что альтернативная гипотеза направлена на превышение."
   ]
  },
  {
   "cell_type": "code",
   "execution_count": 41,
   "id": "a5ad95dd",
   "metadata": {},
   "outputs": [
    {
     "name": "stdout",
     "output_type": "stream",
     "text": [
      "t-статистика: -1.402123166869486\n",
      "p-значение: 0.9195368847849785\n",
      "Среднее расстояние поездок пользователей с подпиской не превышает 3130 метров.\n"
     ]
    }
   ],
   "source": [
    "# Расстояния для пользователей с подпиской\n",
    "distance_subscription = all_data[all_data['subscription_type'] == 'ultra']['distance']\n",
    "\n",
    "# Выполняем t-тест для одной выборки\n",
    "t_stat, p_value = stats.ttest_1samp(distance_subscription, 3130, alternative='greater')\n",
    "\n",
    "print(\"t-статистика:\", t_stat)\n",
    "print(\"p-значение:\", p_value)\n",
    "\n",
    "# Интерпретация результата\n",
    "if p_value < alpha and t_stat > 0:\n",
    "    print(\"Среднее расстояние поездок пользователей с подпиской превышает 3130 метров.\")\n",
    "else:\n",
    "    print(\"Среднее расстояние поездок пользователей с подпиской не превышает 3130 метров.\")"
   ]
  },
  {
   "cell_type": "markdown",
   "id": "e9f9c2e3",
   "metadata": {},
   "source": [
    "Пользователи с подпиской, несмотря на более низкую стоимость поездок, не ездят на расстояния, значительно превышающие 3130 метров. Это может указывать на то, что даже подписчики используют самокаты для средних или коротких поездок, что, вероятно, связано с удобством и характером использования самокатов (для коротких поездок в черте города)."
   ]
  },
  {
   "cell_type": "markdown",
   "id": "6ec037a7",
   "metadata": {},
   "source": [
    "### Гипотеза 3: Помесячная выручка от пользователей с подпиской выше, чем от пользователей без подписки?\n",
    "\n",
    "**Вопрос:** Превышает ли помесячная выручка от пользователей с подпиской выручку от пользователей без подписки?\n",
    "\n",
    "**Нулевая гипотеза (Н0):** Помесячная выручка от пользователей с подпиской равна или меньше выручки от пользователей без подписки.\n",
    "\n",
    "**Альтернативная гипотеза (Н1):** Помесячная выручка от пользователей с подпиской выше, чем выручка от пользователей без подписки.\n",
    "\n",
    "Для этой гипотезы также применяем двухвыборочный t-критерий Стьюдента с направленной альтернативой."
   ]
  },
  {
   "cell_type": "code",
   "execution_count": 42,
   "id": "f114ac13",
   "metadata": {},
   "outputs": [
    {
     "name": "stdout",
     "output_type": "stream",
     "text": [
      "t-статистика: 14.479039431068728\n",
      "p-значение: 2.3492186178087955e-47\n",
      "Разница статистически значима: помесячная выручка от пользователей с подпиской выше.\n"
     ]
    }
   ],
   "source": [
    "# Помесячная выручка для пользователей без подписки и с подпиской\n",
    "monthly_revenue_no_subscription = \\\n",
    "    revenue_data[revenue_data['subscription_type'] == 'free']['monthly_revenue']\n",
    "monthly_revenue_subscription = \\\n",
    "    revenue_data[revenue_data['subscription_type'] == 'ultra']['monthly_revenue']\n",
    "\n",
    "# Выполняем t-тест\n",
    "t_stat, p_value = stats.ttest_ind(monthly_revenue_subscription, \n",
    "                                  monthly_revenue_no_subscription, alternative='greater',\n",
    "                                  equal_var=False)\n",
    "\n",
    "print(\"t-статистика:\", t_stat)\n",
    "print(\"p-значение:\", p_value)\n",
    "\n",
    "# Интерпретация результата\n",
    "if p_value < alpha:\n",
    "    print(\"Разница статистически значима: помесячная выручка от пользователей с подпиской выше.\")\n",
    "else:\n",
    "    print(\"Разница не является статистически значимой: помесячная выручка от пользователей с подпиской не выше.\")"
   ]
  },
  {
   "cell_type": "markdown",
   "id": "e7ddf1d8",
   "metadata": {},
   "source": [
    "Пользователи с подпиской приносят компании GoFast более стабильный и высокий доход. Это подтверждает, что подписка не только выгодна пользователям, но и создает более предсказуемый и прибыльный источник дохода для компании."
   ]
  },
  {
   "cell_type": "markdown",
   "id": "e1ce8c93",
   "metadata": {},
   "source": [
    "##### Выбор теста для проверки гипотезы о снижении обращений в техподдержку\n",
    "\n",
    "Предположим, что у нас есть данные о количестве обращений в техподдержку до и после обновления серверов. В этом случае мы можем использовать **парный t-тест**, так как у нас есть две связанные выборки (до и после) для одного и того же пользователя.\n",
    "Предположим, что до и после обновления сохранены в списках (например, support_before и support_after)\n",
    "\n",
    "```\n",
    "# Выполняем парный t-тест\n",
    "t_stat, p_value = stats.ttest_rel(support_before, support_after)\n",
    "\n",
    "print(\"t-статистика:\", t_stat)\n",
    "print(\"p-значение:\", p_value)\n",
    "\n",
    "# Интерпретация результата\n",
    "if p_value < alpha:\n",
    "    print(\"Снижение количества обращений статистически значимо.\")\n",
    "else:\n",
    "    print(\"Снижение количества обращений не является статистически значимым.\")\n",
    "```"
   ]
  },
  {
   "cell_type": "markdown",
   "id": "451ab263",
   "metadata": {},
   "source": [
    "##### Промежуточные выводы\n",
    "\n",
    "Проверка гипотез показала:\n",
    "\n",
    "- Пользователи с подпиской действительно проводят больше времени на поездках, что может быть связано с более выгодными условиями подписки (бесплатный старт и снижение стоимости за минуту).\n",
    "- Среднее расстояние поездок подписчиков не превышает 3130 метров, что указывает на популярность самокатов для коротких и средних поездок.\n",
    "- Помесячная выручка от пользователей с подпиской статистически значимо выше, чем от пользователей без подписки, что делает подписку выгодным инструментом как для пользователей, так и для компании.\n",
    "\n",
    "Эти выводы подчеркивают важность продвижения подписки, так как она увеличивает время поездок и генерирует более высокий доход. На основе этих результатов компания GoFast может рассмотреть дополнительные стратегии для увеличения числа подписчиков и оптимизации выручки."
   ]
  },
  {
   "cell_type": "markdown",
   "id": "61213c5e",
   "metadata": {},
   "source": [
    "## Распределения"
   ]
  },
  {
   "cell_type": "markdown",
   "id": "c97a4580",
   "metadata": {},
   "source": [
    "### Минимальное количество промокодов\n",
    "\n",
    "Используем **биномиальное распределение**, так как нам нужно определить вероятность продления подписки (да/нет) для каждого пользователя, который получил промокод.\n",
    "\n",
    "**Условия:**\n",
    "\n",
    "- Вероятность продления подписки после пробного месяца: $p = 0.1$.\n",
    "- Требуемое количество успешных продлений: 100.\n",
    "- Необходимая вероятность выполнения плана (достичь 100 продлений): 95%.\n",
    "\n",
    "Будем увеличивать количество разосланных промокодов $n$, пока вероятность достижения цели (100 продлений) не достигнет 95%."
   ]
  },
  {
   "cell_type": "code",
   "execution_count": 43,
   "id": "47a68ec6",
   "metadata": {},
   "outputs": [
    {
     "name": "stdout",
     "output_type": "stream",
     "text": [
      "Минимальное количество промокодов, которое нужно разослать: 1161\n"
     ]
    }
   ],
   "source": [
    "p = 0.1  # Вероятность продления подписки\n",
    "k = 100  # Требуемое количество продлений\n",
    "target_probability = 0.95  # Целевая вероятность\n",
    "\n",
    "# Поиск минимального количества промокодов\n",
    "n = k\n",
    "while True:\n",
    "    # Вероятность получить менее 100 продлений из n\n",
    "    probability = binom.cdf(k - 1, n, p)\n",
    "    \n",
    "    if probability < 1 - target_probability:\n",
    "        break\n",
    "    n += 1\n",
    "\n",
    "print(f\"Минимальное количество промокодов, которое нужно разослать: {n}\")"
   ]
  },
  {
   "cell_type": "markdown",
   "id": "ea780273",
   "metadata": {},
   "source": [
    "Результат в 1161 промокод выглядит реалистичным. Это означает, что для того, чтобы с вероятностью 95% как минимум 100 пользователей продлили подписку после пробного месяца, необходимо разослать 1161 промокод, учитывая, что вероятность продления составляет всего 10%.\n",
    "\n",
    "Требуемое количество промокодов (1161) значительно выше 100, потому что вероятность продления подписки невелика (10%). Это говорит о том, что для достижения целевого количества продлений (100) требуется охватить гораздо большее число пользователей.\n",
    "\n",
    "Разослать 1161 промокод — это стратегия, направленная на преодоление вероятности низкой конверсии, чтобы достичь необходимого уровня продлений."
   ]
  },
  {
   "cell_type": "markdown",
   "id": "1a659df1",
   "metadata": {},
   "source": [
    "### Вероятность того, что не более 399,500 уведомлений будет открыто из 1 млн разосланных\n",
    "\n",
    "Здесь мы снова используем биномиальное распределение, так как каждое уведомление может быть либо открыто, либо нет. Однако, поскольку количество уведомлений велико, а вероятность открытия фиксирована, можно аппроксимировать биномиальное распределение **нормальным распределением** для упрощения расчетов.\n",
    "\n",
    "**Условия:**\n",
    "\n",
    "- Общее количество разосланных уведомлений: $n=1,000,000$.\n",
    "- Вероятность открытия уведомления: $p=0.4$.\n",
    "- Требуемое количество открытых уведомлений: не более 399,500."
   ]
  },
  {
   "cell_type": "code",
   "execution_count": 44,
   "id": "dd910c12",
   "metadata": {},
   "outputs": [
    {
     "name": "stdout",
     "output_type": "stream",
     "text": [
      "Вероятность того, что не более 399,500 уведомлений будет открыто: 0.1537\n"
     ]
    }
   ],
   "source": [
    "# Условия задачи\n",
    "n = 1000000  # Общее количество уведомлений\n",
    "p = 0.4      # Вероятность открытия уведомления\n",
    "k = 399500   # Ограничение на количество открытых уведомлений\n",
    "\n",
    "# Параметры нормального распределения\n",
    "mean = n * p\n",
    "std_dev = (n * p * (1 - p)) ** 0.5\n",
    "\n",
    "# Вычисление вероятности с использованием нормального распределения\n",
    "probability = norm.cdf(k, mean, std_dev)\n",
    "\n",
    "print(f\"Вероятность того, что не более 399,500 уведомлений будет открыто: {probability:.4f}\")"
   ]
  },
  {
   "cell_type": "markdown",
   "id": "498b7016",
   "metadata": {},
   "source": [
    "Вероятность того, что менее 399,500 уведомлений будет открыто, составляет лишь 15.37%, что говорит о том, что с гораздо большей вероятностью количество открытий будет превышать 399,500.\n",
    "\n",
    "При 40%-ной вероятности открытия уведомления, в среднем можно ожидать около 400,000 открытий из 1 миллиона отправленных, что довольно близко к нашему пороговому значению 399,500. Однако низкая вероятность 0.1537 говорит о том, что значения ниже этого порога являются редкими.\n",
    "\n",
    "Таким образом, маркетинговая команда может рассчитывать на то, что большинство кампаний с отправкой 1 млн уведомлений приведет к числу открытий, близкому или превышающему 399,500."
   ]
  },
  {
   "cell_type": "markdown",
   "id": "405fec75",
   "metadata": {},
   "source": [
    "### Промежуточные выводы\n",
    "\n",
    "В этом шаге мы провели анализ вероятностных распределений для двух важных задач маркетинговой команды GoFast, связанных с рассылками промокодов и push-уведомлений.\n",
    "\n",
    "**1. Расчет минимального количества промокодов для достижения цели продлений**\n",
    "\n",
    "- **Цель**: Обеспечить 100 продлений подписки с вероятностью 95%, учитывая, что средняя вероятность продления после пробного периода составляет 10%.\n",
    "- **Результат**: Для того чтобы достичь цели, необходимо разослать **1161 промокод**.\n",
    "- Достаточно высокая вероятность того, что пользователь не продлит подписку (90%) требует охвата большого количества пользователей, чтобы достигнуть необходимого уровня продлений. Это подчеркивает важность точного таргетинга при выборе аудитории для промокодов, чтобы повысить вероятность успеха.\n",
    "\n",
    "**2. Оценка вероятности открытия push-уведомлений**\n",
    "\n",
    "- **Цель**: Определить вероятность того, что не более 399,500 из 1 млн отправленных push-уведомлений будет открыто, если вероятность открытия составляет 40%.\n",
    "- **Результат**: Вероятность того, что не более 399,500 уведомлений будет открыто, составила **15.37%**.\n",
    "- Данная вероятность показывает, что в большинстве случаев количество открытых уведомлений будет превышать 399,500. Это означает, что маркетинговая команда может рассчитывать на относительно высокие уровни взаимодействия с push-уведомлениями, если вероятность открытия каждого уведомления остается на уровне 40%.\n",
    "\n",
    "Эти результаты помогают компании принимать обоснованные решения в области маркетинга и оптимизировать ресурсы для достижения поставленных целей."
   ]
  },
  {
   "cell_type": "markdown",
   "id": "fa9ce55e",
   "metadata": {},
   "source": [
    "## Выводы\n",
    "\n",
    "В рамках данного проекта мы провели комплексный анализ данных пользователей и их взаимодействия с сервисом GoFast. В ходе работы были выполнены несколько ключевых шагов, направленных на исследование поведения клиентов, оценку выручки и проверку гипотез для поддержки маркетинговых и продуктовых решений.\n",
    "\n",
    "### Основные итоги работы\n",
    "\n",
    "1. **Анализ данных пользователей и поездок**:\n",
    "    - Мы выявили, что наибольшая часть пользователей сервиса находится в Пятигорске, а наименьшая — в Москве, что может сигнализировать о возможности расширения в крупные города.\n",
    "    - Основная целевая аудитория сервиса — молодые люди в возрасте от 20 до 30 лет, что позволяет GoFast лучше ориентировать свои маркетинговые кампании.\n",
    "    - Пики расстояний поездок находятся около 500 метров и 3 км, что показывает, что пользователи часто используют сервис как для коротких, так и для умеренно длинных поездок.\n",
    "2. **Сравнение пользователей с подпиской и без подписки**:\n",
    "    - Пользователи с подпиской проводят больше времени на поездках и генерируют более стабильную выручку для компании, тогда как пользователи без подписки приносят меньше дохода, но среди них есть активные пользователи, которые могли бы выиграть от подписки.\n",
    "    - Это открывает возможности для продвижения подписки среди активных пользователей без подписки, что может привести к повышению доходов.\n",
    "3. **Анализ выручки и сезонных колебаний**:\n",
    "    - Основная масса пользователей приносит месячную выручку около 300 рублей, что немного превышает стоимость подписки. Это указывает на потенциальный интерес пользователей к подписке, если они поймут ее выгоды.\n",
    "    - Сезонные колебания показали, что выручка возрастает весной и осенью, а также наблюдается пик в декабре, вероятно, из-за предпраздничной активности. Понимание сезонности позволяет планировать маркетинговые активности в периоды высокой и низкой активности пользователей.\n",
    "4. **Проверка гипотез**:\n",
    "    - Гипотезы показали, что пользователи с подпиской проводят больше времени в поездках и приносят больше месячной выручки, однако среднее расстояние их поездок не превышает 3130 метров.\n",
    "    - Это знание позволяет компании более эффективно адаптировать предложения для обеих категорий пользователей, например, предлагая подписку с акцентом на частоту и продолжительность поездок.\n",
    "5. **Анализ вероятностей и распределений для маркетинговых задач**:\n",
    "    - Для обеспечения 100 продлений подписки с вероятностью 95% необходимо разослать 1161 промокод, что подчеркивает важность охвата большой аудитории для достижения целей с низкой вероятностью конверсии.\n",
    "    - Вероятность того, что из 1 млн разосланных push-уведомлений не более 399,500 будет открыто, составляет 15.37%, что указывает на высокую вероятность открытия уведомлений, если вероятность открытия каждого составляет 40%.\n",
    "\n",
    "### Общий вывод\n",
    "\n",
    "Анализ данных, проведенный в этом проекте, предоставил GoFast ценные инсайты о поведении пользователей, выручке и возможности для увеличения подписок и улучшения маркетинговых стратегий. Эти данные позволяют компании:\n",
    "\n",
    "- Разрабатывать таргетированные маркетинговые кампании с учетом особенностей целевой аудитории и сезонных колебаний.\n",
    "- Привлекать активных пользователей без подписки, предлагая им персонализированные условия для перехода на подписку.\n",
    "- Оптимально распределять ресурсы для рассылок промокодов и push-уведомлений, опираясь на вероятностные оценки."
   ]
  },
  {
   "cell_type": "code",
   "execution_count": null,
   "id": "36cf4380",
   "metadata": {},
   "outputs": [],
   "source": []
  }
 ],
 "metadata": {
  "ExecuteTimeLog": [
   {
    "duration": 1329,
    "start_time": "2024-11-02T11:44:36.283Z"
   },
   {
    "duration": 336,
    "start_time": "2024-11-02T11:45:20.261Z"
   },
   {
    "duration": 17,
    "start_time": "2024-11-02T11:45:31.211Z"
   },
   {
    "duration": 9,
    "start_time": "2024-11-02T11:45:42.390Z"
   },
   {
    "duration": 7,
    "start_time": "2024-11-02T11:45:53.719Z"
   },
   {
    "duration": 12,
    "start_time": "2024-11-02T11:46:04.118Z"
   },
   {
    "duration": 11,
    "start_time": "2024-11-02T11:46:17.176Z"
   },
   {
    "duration": 9,
    "start_time": "2024-11-02T11:46:27.865Z"
   },
   {
    "duration": 7,
    "start_time": "2024-11-02T11:46:59.882Z"
   },
   {
    "duration": 11,
    "start_time": "2024-11-02T11:47:09.448Z"
   },
   {
    "duration": 5,
    "start_time": "2024-11-02T11:47:38.392Z"
   },
   {
    "duration": 9,
    "start_time": "2024-11-02T11:47:46.216Z"
   },
   {
    "duration": 6,
    "start_time": "2024-11-02T11:48:12.317Z"
   },
   {
    "duration": 7,
    "start_time": "2024-11-02T11:48:21.672Z"
   },
   {
    "duration": 6,
    "start_time": "2024-11-02T11:48:31.080Z"
   },
   {
    "duration": 12,
    "start_time": "2024-11-02T11:49:14.054Z"
   },
   {
    "duration": 5,
    "start_time": "2024-11-02T11:49:34.804Z"
   },
   {
    "duration": 5,
    "start_time": "2024-11-02T11:49:44.781Z"
   },
   {
    "duration": 180,
    "start_time": "2024-11-02T11:50:22.149Z"
   },
   {
    "duration": 85,
    "start_time": "2024-11-02T11:51:03.398Z"
   },
   {
    "duration": 181,
    "start_time": "2024-11-02T11:51:42.911Z"
   },
   {
    "duration": 440,
    "start_time": "2024-11-02T11:52:15.222Z"
   },
   {
    "duration": 388,
    "start_time": "2024-11-02T11:52:58.682Z"
   },
   {
    "duration": 34,
    "start_time": "2024-11-02T11:53:55.409Z"
   },
   {
    "duration": 11,
    "start_time": "2024-11-02T11:54:21.975Z"
   },
   {
    "duration": 12,
    "start_time": "2024-11-02T11:54:31.558Z"
   },
   {
    "duration": 11,
    "start_time": "2024-11-02T11:54:43.463Z"
   },
   {
    "duration": 429,
    "start_time": "2024-11-02T11:55:05.647Z"
   },
   {
    "duration": 213,
    "start_time": "2024-11-02T11:55:18.255Z"
   },
   {
    "duration": 382,
    "start_time": "2024-11-02T11:55:30.408Z"
   },
   {
    "duration": 294,
    "start_time": "2024-11-02T11:55:44.434Z"
   },
   {
    "duration": 30,
    "start_time": "2024-11-02T11:56:28.182Z"
   },
   {
    "duration": 27,
    "start_time": "2024-11-02T11:56:52.192Z"
   },
   {
    "duration": 482,
    "start_time": "2024-11-02T11:57:31.800Z"
   },
   {
    "duration": 327,
    "start_time": "2024-11-02T11:58:15.631Z"
   },
   {
    "duration": 203,
    "start_time": "2024-11-02T11:58:50.634Z"
   },
   {
    "duration": 11,
    "start_time": "2024-11-02T11:59:37.337Z"
   },
   {
    "duration": 13,
    "start_time": "2024-11-02T12:00:25.276Z"
   },
   {
    "duration": 14,
    "start_time": "2024-11-02T12:01:49.694Z"
   },
   {
    "duration": 207,
    "start_time": "2024-11-02T12:03:08.096Z"
   },
   {
    "duration": 20,
    "start_time": "2024-11-02T12:03:41.374Z"
   },
   {
    "duration": 1177,
    "start_time": "2024-11-02T17:08:29.039Z"
   },
   {
    "duration": 277,
    "start_time": "2024-11-02T17:08:30.218Z"
   },
   {
    "duration": 11,
    "start_time": "2024-11-02T17:08:30.497Z"
   },
   {
    "duration": 28,
    "start_time": "2024-11-02T17:08:30.510Z"
   },
   {
    "duration": 25,
    "start_time": "2024-11-02T17:08:30.541Z"
   },
   {
    "duration": 24,
    "start_time": "2024-11-02T17:08:30.567Z"
   },
   {
    "duration": 26,
    "start_time": "2024-11-02T17:08:30.593Z"
   },
   {
    "duration": 10,
    "start_time": "2024-11-02T17:08:30.620Z"
   },
   {
    "duration": 24,
    "start_time": "2024-11-02T17:08:30.632Z"
   },
   {
    "duration": 13,
    "start_time": "2024-11-02T17:08:30.657Z"
   },
   {
    "duration": 12,
    "start_time": "2024-11-02T17:08:30.671Z"
   },
   {
    "duration": 50,
    "start_time": "2024-11-02T17:08:30.684Z"
   },
   {
    "duration": 19,
    "start_time": "2024-11-02T17:08:30.736Z"
   },
   {
    "duration": 9,
    "start_time": "2024-11-02T17:08:30.758Z"
   },
   {
    "duration": 24,
    "start_time": "2024-11-02T17:08:30.768Z"
   },
   {
    "duration": 20,
    "start_time": "2024-11-02T17:08:30.793Z"
   },
   {
    "duration": 10,
    "start_time": "2024-11-02T17:08:30.814Z"
   },
   {
    "duration": 20,
    "start_time": "2024-11-02T17:08:30.825Z"
   },
   {
    "duration": 191,
    "start_time": "2024-11-02T17:08:30.847Z"
   },
   {
    "duration": 96,
    "start_time": "2024-11-02T17:08:31.040Z"
   },
   {
    "duration": 190,
    "start_time": "2024-11-02T17:08:31.143Z"
   },
   {
    "duration": 478,
    "start_time": "2024-11-02T17:08:31.335Z"
   },
   {
    "duration": 378,
    "start_time": "2024-11-02T17:08:31.817Z"
   },
   {
    "duration": 32,
    "start_time": "2024-11-02T17:08:32.197Z"
   },
   {
    "duration": 11,
    "start_time": "2024-11-02T17:08:32.231Z"
   },
   {
    "duration": 21,
    "start_time": "2024-11-02T17:08:32.244Z"
   },
   {
    "duration": 25,
    "start_time": "2024-11-02T17:08:32.267Z"
   },
   {
    "duration": 532,
    "start_time": "2024-11-02T17:08:32.294Z"
   },
   {
    "duration": 219,
    "start_time": "2024-11-02T17:08:32.827Z"
   },
   {
    "duration": 436,
    "start_time": "2024-11-02T17:08:33.050Z"
   },
   {
    "duration": 285,
    "start_time": "2024-11-02T17:08:33.487Z"
   },
   {
    "duration": 24,
    "start_time": "2024-11-02T17:08:33.774Z"
   },
   {
    "duration": 39,
    "start_time": "2024-11-02T17:08:33.799Z"
   },
   {
    "duration": 386,
    "start_time": "2024-11-02T17:08:33.840Z"
   },
   {
    "duration": 331,
    "start_time": "2024-11-02T17:08:34.228Z"
   },
   {
    "duration": 193,
    "start_time": "2024-11-02T17:08:34.561Z"
   },
   {
    "duration": 12,
    "start_time": "2024-11-02T17:08:34.756Z"
   },
   {
    "duration": 21,
    "start_time": "2024-11-02T17:08:34.770Z"
   },
   {
    "duration": 10,
    "start_time": "2024-11-02T17:08:34.792Z"
   },
   {
    "duration": 147,
    "start_time": "2024-11-02T17:08:34.803Z"
   },
   {
    "duration": 5,
    "start_time": "2024-11-02T17:08:34.955Z"
   },
   {
    "duration": 1168,
    "start_time": "2024-11-02T17:11:58.907Z"
   },
   {
    "duration": 67,
    "start_time": "2024-11-02T17:12:00.077Z"
   },
   {
    "duration": 12,
    "start_time": "2024-11-02T17:12:00.146Z"
   },
   {
    "duration": 33,
    "start_time": "2024-11-02T17:12:00.159Z"
   },
   {
    "duration": 39,
    "start_time": "2024-11-02T17:12:00.195Z"
   },
   {
    "duration": 31,
    "start_time": "2024-11-02T17:12:00.235Z"
   },
   {
    "duration": 30,
    "start_time": "2024-11-02T17:12:00.269Z"
   },
   {
    "duration": 27,
    "start_time": "2024-11-02T17:12:00.301Z"
   },
   {
    "duration": 31,
    "start_time": "2024-11-02T17:12:00.330Z"
   },
   {
    "duration": 29,
    "start_time": "2024-11-02T17:12:00.363Z"
   },
   {
    "duration": 32,
    "start_time": "2024-11-02T17:12:00.394Z"
   },
   {
    "duration": 34,
    "start_time": "2024-11-02T17:12:00.428Z"
   },
   {
    "duration": 35,
    "start_time": "2024-11-02T17:12:00.463Z"
   },
   {
    "duration": 21,
    "start_time": "2024-11-02T17:12:00.502Z"
   },
   {
    "duration": 22,
    "start_time": "2024-11-02T17:12:00.525Z"
   },
   {
    "duration": 26,
    "start_time": "2024-11-02T17:12:00.549Z"
   },
   {
    "duration": 17,
    "start_time": "2024-11-02T17:12:00.577Z"
   },
   {
    "duration": 23,
    "start_time": "2024-11-02T17:12:00.596Z"
   },
   {
    "duration": 199,
    "start_time": "2024-11-02T17:12:00.620Z"
   },
   {
    "duration": 80,
    "start_time": "2024-11-02T17:12:00.821Z"
   },
   {
    "duration": 204,
    "start_time": "2024-11-02T17:12:00.903Z"
   },
   {
    "duration": 434,
    "start_time": "2024-11-02T17:12:01.109Z"
   },
   {
    "duration": 368,
    "start_time": "2024-11-02T17:12:01.545Z"
   },
   {
    "duration": 23,
    "start_time": "2024-11-02T17:12:01.918Z"
   },
   {
    "duration": 28,
    "start_time": "2024-11-02T17:12:01.942Z"
   },
   {
    "duration": 58,
    "start_time": "2024-11-02T17:12:01.972Z"
   },
   {
    "duration": 31,
    "start_time": "2024-11-02T17:12:02.032Z"
   },
   {
    "duration": 596,
    "start_time": "2024-11-02T17:12:02.064Z"
   },
   {
    "duration": 500,
    "start_time": "2024-11-02T17:12:02.662Z"
   },
   {
    "duration": 693,
    "start_time": "2024-11-02T17:12:03.164Z"
   },
   {
    "duration": 383,
    "start_time": "2024-11-02T17:12:03.859Z"
   },
   {
    "duration": 23,
    "start_time": "2024-11-02T17:12:04.243Z"
   },
   {
    "duration": 29,
    "start_time": "2024-11-02T17:12:04.268Z"
   },
   {
    "duration": 451,
    "start_time": "2024-11-02T17:12:04.299Z"
   },
   {
    "duration": 315,
    "start_time": "2024-11-02T17:12:04.752Z"
   },
   {
    "duration": 191,
    "start_time": "2024-11-02T17:12:05.069Z"
   },
   {
    "duration": 12,
    "start_time": "2024-11-02T17:12:05.262Z"
   },
   {
    "duration": 14,
    "start_time": "2024-11-02T17:12:05.276Z"
   },
   {
    "duration": 8,
    "start_time": "2024-11-02T17:12:05.291Z"
   },
   {
    "duration": 152,
    "start_time": "2024-11-02T17:12:05.301Z"
   },
   {
    "duration": 4,
    "start_time": "2024-11-02T17:12:05.458Z"
   },
   {
    "duration": 4,
    "start_time": "2024-11-02T17:22:22.461Z"
   },
   {
    "duration": 8,
    "start_time": "2024-11-02T17:24:26.045Z"
   },
   {
    "duration": 50,
    "start_time": "2024-11-02T18:27:29.445Z"
   },
   {
    "duration": 1334,
    "start_time": "2024-11-02T18:27:46.802Z"
   },
   {
    "duration": 405,
    "start_time": "2024-11-02T18:27:53.966Z"
   },
   {
    "duration": 11,
    "start_time": "2024-11-02T18:27:56.657Z"
   },
   {
    "duration": 2,
    "start_time": "2024-11-02T18:28:15.539Z"
   },
   {
    "duration": 110,
    "start_time": "2024-11-02T18:28:15.544Z"
   },
   {
    "duration": 8,
    "start_time": "2024-11-02T18:28:15.656Z"
   },
   {
    "duration": 12,
    "start_time": "2024-11-02T18:28:15.666Z"
   },
   {
    "duration": 10,
    "start_time": "2024-11-02T18:28:15.680Z"
   },
   {
    "duration": 15,
    "start_time": "2024-11-02T18:28:15.691Z"
   },
   {
    "duration": 13,
    "start_time": "2024-11-02T18:28:15.708Z"
   },
   {
    "duration": 20,
    "start_time": "2024-11-02T18:28:15.722Z"
   },
   {
    "duration": 11,
    "start_time": "2024-11-02T18:28:15.743Z"
   },
   {
    "duration": 91,
    "start_time": "2024-11-02T18:28:15.755Z"
   },
   {
    "duration": 6,
    "start_time": "2024-11-02T18:28:18.205Z"
   },
   {
    "duration": 3,
    "start_time": "2024-11-02T18:31:54.800Z"
   },
   {
    "duration": 81,
    "start_time": "2024-11-02T18:31:54.806Z"
   },
   {
    "duration": 9,
    "start_time": "2024-11-02T18:31:54.889Z"
   },
   {
    "duration": 14,
    "start_time": "2024-11-02T18:31:54.899Z"
   },
   {
    "duration": 15,
    "start_time": "2024-11-02T18:31:54.915Z"
   },
   {
    "duration": 11,
    "start_time": "2024-11-02T18:31:54.931Z"
   },
   {
    "duration": 16,
    "start_time": "2024-11-02T18:31:54.944Z"
   },
   {
    "duration": 11,
    "start_time": "2024-11-02T18:31:54.961Z"
   },
   {
    "duration": 100,
    "start_time": "2024-11-02T18:31:54.973Z"
   },
   {
    "duration": 19,
    "start_time": "2024-11-02T18:31:55.075Z"
   },
   {
    "duration": 6,
    "start_time": "2024-11-02T18:31:55.096Z"
   },
   {
    "duration": 4,
    "start_time": "2024-11-02T18:31:55.103Z"
   },
   {
    "duration": 12,
    "start_time": "2024-11-02T18:31:55.109Z"
   },
   {
    "duration": 8,
    "start_time": "2024-11-02T18:31:55.122Z"
   },
   {
    "duration": 8,
    "start_time": "2024-11-02T18:31:55.131Z"
   },
   {
    "duration": 46,
    "start_time": "2024-11-02T18:31:55.140Z"
   },
   {
    "duration": 22,
    "start_time": "2024-11-02T18:31:55.187Z"
   },
   {
    "duration": 4,
    "start_time": "2024-11-02T18:31:55.210Z"
   },
   {
    "duration": 6,
    "start_time": "2024-11-02T18:31:55.216Z"
   },
   {
    "duration": 202,
    "start_time": "2024-11-02T18:31:57.197Z"
   },
   {
    "duration": 162,
    "start_time": "2024-11-02T18:32:40.074Z"
   },
   {
    "duration": 158,
    "start_time": "2024-11-02T18:32:45.536Z"
   },
   {
    "duration": 63,
    "start_time": "2024-11-02T18:35:17.091Z"
   },
   {
    "duration": 3,
    "start_time": "2024-11-02T18:35:23.410Z"
   },
   {
    "duration": 105,
    "start_time": "2024-11-02T18:35:23.416Z"
   },
   {
    "duration": 7,
    "start_time": "2024-11-02T18:35:23.523Z"
   },
   {
    "duration": 70,
    "start_time": "2024-11-02T18:35:23.532Z"
   },
   {
    "duration": 8,
    "start_time": "2024-11-02T18:35:23.604Z"
   },
   {
    "duration": 19,
    "start_time": "2024-11-02T18:35:23.613Z"
   },
   {
    "duration": 9,
    "start_time": "2024-11-02T18:35:23.633Z"
   },
   {
    "duration": 8,
    "start_time": "2024-11-02T18:35:23.643Z"
   },
   {
    "duration": 11,
    "start_time": "2024-11-02T18:35:23.652Z"
   },
   {
    "duration": 8,
    "start_time": "2024-11-02T18:35:23.664Z"
   },
   {
    "duration": 5,
    "start_time": "2024-11-02T18:35:23.674Z"
   },
   {
    "duration": 8,
    "start_time": "2024-11-02T18:35:23.680Z"
   },
   {
    "duration": 8,
    "start_time": "2024-11-02T18:35:23.689Z"
   },
   {
    "duration": 5,
    "start_time": "2024-11-02T18:35:23.720Z"
   },
   {
    "duration": 4,
    "start_time": "2024-11-02T18:35:23.727Z"
   },
   {
    "duration": 4,
    "start_time": "2024-11-02T18:35:23.733Z"
   },
   {
    "duration": 10,
    "start_time": "2024-11-02T18:35:23.738Z"
   },
   {
    "duration": 3,
    "start_time": "2024-11-02T18:35:23.749Z"
   },
   {
    "duration": 5,
    "start_time": "2024-11-02T18:35:23.754Z"
   },
   {
    "duration": 186,
    "start_time": "2024-11-02T18:35:23.760Z"
   },
   {
    "duration": 83,
    "start_time": "2024-11-02T18:35:23.947Z"
   },
   {
    "duration": 170,
    "start_time": "2024-11-02T18:35:24.032Z"
   },
   {
    "duration": 409,
    "start_time": "2024-11-02T18:35:24.203Z"
   },
   {
    "duration": 404,
    "start_time": "2024-11-02T18:35:24.614Z"
   },
   {
    "duration": 23,
    "start_time": "2024-11-02T18:35:25.020Z"
   },
   {
    "duration": 4,
    "start_time": "2024-11-02T18:35:27.717Z"
   },
   {
    "duration": 19,
    "start_time": "2024-11-02T18:42:04.747Z"
   },
   {
    "duration": 4,
    "start_time": "2024-11-02T18:42:10.137Z"
   },
   {
    "duration": 85,
    "start_time": "2024-11-02T18:42:10.142Z"
   },
   {
    "duration": 9,
    "start_time": "2024-11-02T18:42:10.229Z"
   },
   {
    "duration": 15,
    "start_time": "2024-11-02T18:42:10.239Z"
   },
   {
    "duration": 8,
    "start_time": "2024-11-02T18:42:10.256Z"
   },
   {
    "duration": 17,
    "start_time": "2024-11-02T18:42:10.265Z"
   },
   {
    "duration": 11,
    "start_time": "2024-11-02T18:42:10.283Z"
   },
   {
    "duration": 29,
    "start_time": "2024-11-02T18:42:10.295Z"
   },
   {
    "duration": 9,
    "start_time": "2024-11-02T18:42:10.326Z"
   },
   {
    "duration": 13,
    "start_time": "2024-11-02T18:42:10.336Z"
   },
   {
    "duration": 6,
    "start_time": "2024-11-02T18:42:10.441Z"
   },
   {
    "duration": 11,
    "start_time": "2024-11-02T18:42:10.448Z"
   },
   {
    "duration": 12,
    "start_time": "2024-11-02T18:42:10.460Z"
   },
   {
    "duration": 7,
    "start_time": "2024-11-02T18:42:10.474Z"
   },
   {
    "duration": 9,
    "start_time": "2024-11-02T18:42:10.483Z"
   },
   {
    "duration": 6,
    "start_time": "2024-11-02T18:42:10.493Z"
   },
   {
    "duration": 29,
    "start_time": "2024-11-02T18:42:10.500Z"
   },
   {
    "duration": 10,
    "start_time": "2024-11-02T18:42:10.530Z"
   },
   {
    "duration": 5,
    "start_time": "2024-11-02T18:42:10.542Z"
   },
   {
    "duration": 175,
    "start_time": "2024-11-02T18:42:10.549Z"
   },
   {
    "duration": 74,
    "start_time": "2024-11-02T18:42:10.726Z"
   },
   {
    "duration": 182,
    "start_time": "2024-11-02T18:42:10.802Z"
   },
   {
    "duration": 433,
    "start_time": "2024-11-02T18:42:10.985Z"
   },
   {
    "duration": 399,
    "start_time": "2024-11-02T18:42:11.420Z"
   },
   {
    "duration": 23,
    "start_time": "2024-11-02T18:42:11.821Z"
   },
   {
    "duration": 5,
    "start_time": "2024-11-02T18:42:11.846Z"
   },
   {
    "duration": 13,
    "start_time": "2024-11-02T18:42:11.853Z"
   },
   {
    "duration": 11,
    "start_time": "2024-11-02T18:42:11.868Z"
   },
   {
    "duration": 14,
    "start_time": "2024-11-02T18:42:11.883Z"
   },
   {
    "duration": 392,
    "start_time": "2024-11-02T18:42:11.921Z"
   },
   {
    "duration": 208,
    "start_time": "2024-11-02T18:42:12.315Z"
   },
   {
    "duration": 398,
    "start_time": "2024-11-02T18:42:12.524Z"
   },
   {
    "duration": 204,
    "start_time": "2024-11-02T18:42:12.924Z"
   },
   {
    "duration": 23,
    "start_time": "2024-11-02T18:42:13.129Z"
   },
   {
    "duration": 7,
    "start_time": "2024-11-02T18:42:13.153Z"
   },
   {
    "duration": 24,
    "start_time": "2024-11-02T18:42:13.161Z"
   },
   {
    "duration": 424,
    "start_time": "2024-11-02T18:42:13.186Z"
   },
   {
    "duration": 311,
    "start_time": "2024-11-02T18:42:13.611Z"
   },
   {
    "duration": 257,
    "start_time": "2024-11-02T18:42:13.924Z"
   },
   {
    "duration": 14,
    "start_time": "2024-11-02T18:42:18.573Z"
   },
   {
    "duration": 11,
    "start_time": "2024-11-02T18:42:28.393Z"
   },
   {
    "duration": 13,
    "start_time": "2024-11-02T18:43:27.330Z"
   },
   {
    "duration": 53,
    "start_time": "2024-11-02T18:45:14.335Z"
   },
   {
    "duration": 9,
    "start_time": "2024-11-02T18:45:25.703Z"
   },
   {
    "duration": 55,
    "start_time": "2024-11-02T18:48:21.969Z"
   },
   {
    "duration": 10,
    "start_time": "2024-11-02T18:49:36.164Z"
   },
   {
    "duration": 1149,
    "start_time": "2024-11-03T08:50:05.419Z"
   },
   {
    "duration": 289,
    "start_time": "2024-11-03T08:50:06.570Z"
   },
   {
    "duration": 11,
    "start_time": "2024-11-03T08:50:06.861Z"
   },
   {
    "duration": 24,
    "start_time": "2024-11-03T08:50:06.874Z"
   },
   {
    "duration": 58,
    "start_time": "2024-11-03T08:50:06.899Z"
   },
   {
    "duration": 32,
    "start_time": "2024-11-03T08:50:06.958Z"
   },
   {
    "duration": 48,
    "start_time": "2024-11-03T08:50:06.991Z"
   },
   {
    "duration": 24,
    "start_time": "2024-11-03T08:50:07.040Z"
   },
   {
    "duration": 22,
    "start_time": "2024-11-03T08:50:07.066Z"
   },
   {
    "duration": 25,
    "start_time": "2024-11-03T08:50:07.091Z"
   },
   {
    "duration": 28,
    "start_time": "2024-11-03T08:50:07.118Z"
   },
   {
    "duration": 38,
    "start_time": "2024-11-03T08:50:07.148Z"
   },
   {
    "duration": 59,
    "start_time": "2024-11-03T08:50:07.189Z"
   },
   {
    "duration": 29,
    "start_time": "2024-11-03T08:50:07.249Z"
   },
   {
    "duration": 22,
    "start_time": "2024-11-03T08:50:07.279Z"
   },
   {
    "duration": 19,
    "start_time": "2024-11-03T08:50:07.302Z"
   },
   {
    "duration": 27,
    "start_time": "2024-11-03T08:50:07.322Z"
   },
   {
    "duration": 17,
    "start_time": "2024-11-03T08:50:07.351Z"
   },
   {
    "duration": 40,
    "start_time": "2024-11-03T08:50:07.370Z"
   },
   {
    "duration": 210,
    "start_time": "2024-11-03T08:50:07.411Z"
   },
   {
    "duration": 76,
    "start_time": "2024-11-03T08:50:07.623Z"
   },
   {
    "duration": 183,
    "start_time": "2024-11-03T08:50:07.701Z"
   },
   {
    "duration": 450,
    "start_time": "2024-11-03T08:50:07.886Z"
   },
   {
    "duration": 431,
    "start_time": "2024-11-03T08:50:08.337Z"
   },
   {
    "duration": 27,
    "start_time": "2024-11-03T08:50:08.770Z"
   },
   {
    "duration": 5,
    "start_time": "2024-11-03T08:50:08.798Z"
   },
   {
    "duration": 61,
    "start_time": "2024-11-03T08:50:08.804Z"
   },
   {
    "duration": 16,
    "start_time": "2024-11-03T08:50:08.868Z"
   },
   {
    "duration": 21,
    "start_time": "2024-11-03T08:50:08.886Z"
   },
   {
    "duration": 427,
    "start_time": "2024-11-03T08:50:08.909Z"
   },
   {
    "duration": 201,
    "start_time": "2024-11-03T08:50:09.338Z"
   },
   {
    "duration": 399,
    "start_time": "2024-11-03T08:50:09.542Z"
   },
   {
    "duration": 304,
    "start_time": "2024-11-03T08:50:09.946Z"
   },
   {
    "duration": 29,
    "start_time": "2024-11-03T08:50:10.252Z"
   },
   {
    "duration": 7,
    "start_time": "2024-11-03T08:50:10.283Z"
   },
   {
    "duration": 56,
    "start_time": "2024-11-03T08:50:10.292Z"
   },
   {
    "duration": 478,
    "start_time": "2024-11-03T08:50:10.350Z"
   },
   {
    "duration": 308,
    "start_time": "2024-11-03T08:50:10.829Z"
   },
   {
    "duration": 171,
    "start_time": "2024-11-03T08:50:11.139Z"
   },
   {
    "duration": 10,
    "start_time": "2024-11-03T08:50:11.312Z"
   },
   {
    "duration": 20,
    "start_time": "2024-11-03T08:50:11.323Z"
   },
   {
    "duration": 9,
    "start_time": "2024-11-03T08:50:11.344Z"
   },
   {
    "duration": 140,
    "start_time": "2024-11-03T08:50:11.355Z"
   },
   {
    "duration": 5,
    "start_time": "2024-11-03T08:50:11.496Z"
   }
  ],
  "kernelspec": {
   "display_name": "Python 3 (ipykernel)",
   "language": "python",
   "name": "python3"
  },
  "language_info": {
   "codemirror_mode": {
    "name": "ipython",
    "version": 3
   },
   "file_extension": ".py",
   "mimetype": "text/x-python",
   "name": "python",
   "nbconvert_exporter": "python",
   "pygments_lexer": "ipython3",
   "version": "3.12.4"
  },
  "toc": {
   "base_numbering": 1,
   "nav_menu": {},
   "number_sections": true,
   "sideBar": true,
   "skip_h1_title": true,
   "title_cell": "Table of Contents",
   "title_sidebar": "Contents",
   "toc_cell": false,
   "toc_position": {},
   "toc_section_display": true,
   "toc_window_display": true
  }
 },
 "nbformat": 4,
 "nbformat_minor": 5
}
