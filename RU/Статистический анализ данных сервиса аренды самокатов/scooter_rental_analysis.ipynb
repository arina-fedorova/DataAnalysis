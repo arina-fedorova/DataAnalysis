{
 "cells": [
  {
   "cell_type": "markdown",
   "id": "8ac96665-2303-47e0-9514-494ce4cee93e",
   "metadata": {},
   "source": [
    "# Статистический анализ данных сервиса аренды самокатов"
   ]
  },
  {
   "cell_type": "markdown",
   "id": "4e7d65b5-9a5c-4ae1-96e8-69c1a2546406",
   "metadata": {},
   "source": [
    "- **Описание**: Цель проекта — провести статистический анализ данных пользователей и их поездок для сервиса аренды самокатов. В рамках исследования анализируются данные о подписках, поездках и пользователях из разных городов. Основной задачей является выявление паттернов поведения пользователей и проверка гипотез, чтобы помочь бизнесу повысить доходность и оптимизировать маркетинговые стратегии.\n",
    "- **Задачи исследования**:\n",
    "    1. Исследовать демографические данные пользователей и их поведенческие паттерны.\n",
    "    2. Сравнить пользователей с подпиской и без подписки по ключевым показателям (выручка, время и расстояние поездок).\n",
    "    3. Оценить сезонные колебания выручки для оптимизации маркетинговых активностей.\n",
    "    4. Проверить гипотезы о поведении пользователей с подпиской и без подписки.\n",
    "    5. Определить оптимальные параметры для рассылок промокодов и push-уведомлений."
   ]
  },
  {
   "cell_type": "code",
   "execution_count": 1,
   "id": "516fec82-1232-4f19-9141-965bb9607a8e",
   "metadata": {},
   "outputs": [],
   "source": [
    "import pandas as pd\n",
    "import matplotlib.pyplot as plt\n",
    "import seaborn as sns\n",
    "from scipy import stats\n",
    "from scipy.stats import binom\n",
    "from scipy.stats import norm"
   ]
  },
  {
   "cell_type": "markdown",
   "id": "a0ac7821-b847-4387-8bb5-225acebe80c4",
   "metadata": {},
   "source": [
    "## Загрузка данных"
   ]
  },
  {
   "cell_type": "markdown",
   "id": "4703d587-af95-419d-a135-a5311f455dc9",
   "metadata": {},
   "source": [
    "- Загрузим каждый CSV-файл в отдельный датафрейм, используя библиотеку pandas.\n",
    "- Выведем первые строки каждого датафрейма для знакомства с данными.\n",
    "- Получим общую информацию о каждом датафрейме, чтобы понять структуру и типы данных.\n",
    "\n",
    "**Описание данных**:\n",
    "\n",
    "В основных данных есть информация о пользователях, их поездках и подписках.\n",
    "\n",
    "- **Пользователи — `users_go.csv`**:\n",
    "    - `user_id` — уникальный идентификатор пользователя.\n",
    "    - `name` — имя пользователя.\n",
    "    - `age` — возраст пользователя.\n",
    "    - `city` — город проживания пользователя.\n",
    "    - `subscription_type` — тип подписки (free или ultra).\n",
    "- **Поездки — `rides_go.csv`**:\n",
    "    - `user_id` — уникальный идентификатор пользователя.\n",
    "    - `distance` — расстояние поездки (в метрах).\n",
    "    - `duration` — продолжительность поездки (в минутах).\n",
    "    - `date` — дата поездки.\n",
    "- **Подписки** — **`subscriptions_go.csv`**:\n",
    "    - `subscription_type` — тип подписки.\n",
    "    - `minute_price` — стоимость одной минуты поездки для данного типа подписки.\n",
    "    - `start_ride_price` — стоимость начала поездки.\n",
    "    - `subscription_fee` — ежемесячная плата за подписку."
   ]
  },
  {
   "cell_type": "code",
   "execution_count": 3,
   "id": "6c83df09-9be2-4d0d-a4cc-e1608bd140df",
   "metadata": {},
   "outputs": [],
   "source": [
    "# Загрузим данные из датасетов\n",
    "users = pd.read_csv('datasets/users_go.csv')\n",
    "rides = pd.read_csv('datasets/rides_go.csv')\n",
    "subscriptions = pd.read_csv('datasets/subscriptions_go.csv')"
   ]
  },
  {
   "cell_type": "code",
   "execution_count": 4,
   "id": "ea39fe0d-953f-408e-9bba-312ed6036810",
   "metadata": {},
   "outputs": [
    {
     "data": {
      "text/html": [
       "<div>\n",
       "<style scoped>\n",
       "    .dataframe tbody tr th:only-of-type {\n",
       "        vertical-align: middle;\n",
       "    }\n",
       "\n",
       "    .dataframe tbody tr th {\n",
       "        vertical-align: top;\n",
       "    }\n",
       "\n",
       "    .dataframe thead th {\n",
       "        text-align: right;\n",
       "    }\n",
       "</style>\n",
       "<table border=\"1\" class=\"dataframe\">\n",
       "  <thead>\n",
       "    <tr style=\"text-align: right;\">\n",
       "      <th></th>\n",
       "      <th>user_id</th>\n",
       "      <th>name</th>\n",
       "      <th>age</th>\n",
       "      <th>city</th>\n",
       "      <th>subscription_type</th>\n",
       "    </tr>\n",
       "  </thead>\n",
       "  <tbody>\n",
       "    <tr>\n",
       "      <th>0</th>\n",
       "      <td>1</td>\n",
       "      <td>Кира</td>\n",
       "      <td>22</td>\n",
       "      <td>Тюмень</td>\n",
       "      <td>ultra</td>\n",
       "    </tr>\n",
       "    <tr>\n",
       "      <th>1</th>\n",
       "      <td>2</td>\n",
       "      <td>Станислав</td>\n",
       "      <td>31</td>\n",
       "      <td>Омск</td>\n",
       "      <td>ultra</td>\n",
       "    </tr>\n",
       "    <tr>\n",
       "      <th>2</th>\n",
       "      <td>3</td>\n",
       "      <td>Алексей</td>\n",
       "      <td>20</td>\n",
       "      <td>Москва</td>\n",
       "      <td>ultra</td>\n",
       "    </tr>\n",
       "    <tr>\n",
       "      <th>3</th>\n",
       "      <td>4</td>\n",
       "      <td>Константин</td>\n",
       "      <td>26</td>\n",
       "      <td>Ростов-на-Дону</td>\n",
       "      <td>ultra</td>\n",
       "    </tr>\n",
       "    <tr>\n",
       "      <th>4</th>\n",
       "      <td>5</td>\n",
       "      <td>Адель</td>\n",
       "      <td>28</td>\n",
       "      <td>Омск</td>\n",
       "      <td>ultra</td>\n",
       "    </tr>\n",
       "  </tbody>\n",
       "</table>\n",
       "</div>"
      ],
      "text/plain": [
       "   user_id        name  age            city subscription_type\n",
       "0        1        Кира   22          Тюмень             ultra\n",
       "1        2   Станислав   31            Омск             ultra\n",
       "2        3     Алексей   20          Москва             ultra\n",
       "3        4  Константин   26  Ростов-на-Дону             ultra\n",
       "4        5       Адель   28            Омск             ultra"
      ]
     },
     "execution_count": 4,
     "metadata": {},
     "output_type": "execute_result"
    }
   ],
   "source": [
    "# Взглянем на первые строки датафрейма users\n",
    "users.head()"
   ]
  },
  {
   "cell_type": "code",
   "execution_count": 5,
   "id": "6911120b-863c-4c93-b99e-910742757e37",
   "metadata": {},
   "outputs": [
    {
     "data": {
      "text/html": [
       "<div>\n",
       "<style scoped>\n",
       "    .dataframe tbody tr th:only-of-type {\n",
       "        vertical-align: middle;\n",
       "    }\n",
       "\n",
       "    .dataframe tbody tr th {\n",
       "        vertical-align: top;\n",
       "    }\n",
       "\n",
       "    .dataframe thead th {\n",
       "        text-align: right;\n",
       "    }\n",
       "</style>\n",
       "<table border=\"1\" class=\"dataframe\">\n",
       "  <thead>\n",
       "    <tr style=\"text-align: right;\">\n",
       "      <th></th>\n",
       "      <th>user_id</th>\n",
       "      <th>distance</th>\n",
       "      <th>duration</th>\n",
       "      <th>date</th>\n",
       "    </tr>\n",
       "  </thead>\n",
       "  <tbody>\n",
       "    <tr>\n",
       "      <th>0</th>\n",
       "      <td>1</td>\n",
       "      <td>4409.919140</td>\n",
       "      <td>25.599769</td>\n",
       "      <td>2021-01-01</td>\n",
       "    </tr>\n",
       "    <tr>\n",
       "      <th>1</th>\n",
       "      <td>1</td>\n",
       "      <td>2617.592153</td>\n",
       "      <td>15.816871</td>\n",
       "      <td>2021-01-18</td>\n",
       "    </tr>\n",
       "    <tr>\n",
       "      <th>2</th>\n",
       "      <td>1</td>\n",
       "      <td>754.159807</td>\n",
       "      <td>6.232113</td>\n",
       "      <td>2021-04-20</td>\n",
       "    </tr>\n",
       "    <tr>\n",
       "      <th>3</th>\n",
       "      <td>1</td>\n",
       "      <td>2694.783254</td>\n",
       "      <td>18.511000</td>\n",
       "      <td>2021-08-11</td>\n",
       "    </tr>\n",
       "    <tr>\n",
       "      <th>4</th>\n",
       "      <td>1</td>\n",
       "      <td>4028.687306</td>\n",
       "      <td>26.265803</td>\n",
       "      <td>2021-08-28</td>\n",
       "    </tr>\n",
       "  </tbody>\n",
       "</table>\n",
       "</div>"
      ],
      "text/plain": [
       "   user_id     distance   duration        date\n",
       "0        1  4409.919140  25.599769  2021-01-01\n",
       "1        1  2617.592153  15.816871  2021-01-18\n",
       "2        1   754.159807   6.232113  2021-04-20\n",
       "3        1  2694.783254  18.511000  2021-08-11\n",
       "4        1  4028.687306  26.265803  2021-08-28"
      ]
     },
     "execution_count": 5,
     "metadata": {},
     "output_type": "execute_result"
    }
   ],
   "source": [
    "# Взглянем на первые строки датафрейма rides\n",
    "rides.head()"
   ]
  },
  {
   "cell_type": "code",
   "execution_count": 6,
   "id": "e71db594-7456-4eed-86e9-f89c018bac86",
   "metadata": {},
   "outputs": [
    {
     "data": {
      "text/html": [
       "<div>\n",
       "<style scoped>\n",
       "    .dataframe tbody tr th:only-of-type {\n",
       "        vertical-align: middle;\n",
       "    }\n",
       "\n",
       "    .dataframe tbody tr th {\n",
       "        vertical-align: top;\n",
       "    }\n",
       "\n",
       "    .dataframe thead th {\n",
       "        text-align: right;\n",
       "    }\n",
       "</style>\n",
       "<table border=\"1\" class=\"dataframe\">\n",
       "  <thead>\n",
       "    <tr style=\"text-align: right;\">\n",
       "      <th></th>\n",
       "      <th>subscription_type</th>\n",
       "      <th>minute_price</th>\n",
       "      <th>start_ride_price</th>\n",
       "      <th>subscription_fee</th>\n",
       "    </tr>\n",
       "  </thead>\n",
       "  <tbody>\n",
       "    <tr>\n",
       "      <th>0</th>\n",
       "      <td>free</td>\n",
       "      <td>8</td>\n",
       "      <td>50</td>\n",
       "      <td>0</td>\n",
       "    </tr>\n",
       "    <tr>\n",
       "      <th>1</th>\n",
       "      <td>ultra</td>\n",
       "      <td>6</td>\n",
       "      <td>0</td>\n",
       "      <td>199</td>\n",
       "    </tr>\n",
       "  </tbody>\n",
       "</table>\n",
       "</div>"
      ],
      "text/plain": [
       "  subscription_type  minute_price  start_ride_price  subscription_fee\n",
       "0              free             8                50                 0\n",
       "1             ultra             6                 0               199"
      ]
     },
     "execution_count": 6,
     "metadata": {},
     "output_type": "execute_result"
    }
   ],
   "source": [
    "# Взглянем на первые строки датайрейма subscriptions\n",
    "subscriptions.head()"
   ]
  },
  {
   "cell_type": "code",
   "execution_count": 7,
   "id": "1bc87b4c-1f6e-4aac-b6ac-9720145a47a7",
   "metadata": {},
   "outputs": [
    {
     "name": "stdout",
     "output_type": "stream",
     "text": [
      "<class 'pandas.core.frame.DataFrame'>\n",
      "RangeIndex: 1565 entries, 0 to 1564\n",
      "Data columns (total 5 columns):\n",
      " #   Column             Non-Null Count  Dtype \n",
      "---  ------             --------------  ----- \n",
      " 0   user_id            1565 non-null   int64 \n",
      " 1   name               1565 non-null   object\n",
      " 2   age                1565 non-null   int64 \n",
      " 3   city               1565 non-null   object\n",
      " 4   subscription_type  1565 non-null   object\n",
      "dtypes: int64(2), object(3)\n",
      "memory usage: 61.3+ KB\n"
     ]
    }
   ],
   "source": [
    "# Изучим общую информацию о датафрейме users\n",
    "users.info()"
   ]
  },
  {
   "cell_type": "code",
   "execution_count": 8,
   "id": "9003bffb-0714-439b-b628-bcdc1b77b6b7",
   "metadata": {},
   "outputs": [
    {
     "name": "stdout",
     "output_type": "stream",
     "text": [
      "<class 'pandas.core.frame.DataFrame'>\n",
      "RangeIndex: 18068 entries, 0 to 18067\n",
      "Data columns (total 4 columns):\n",
      " #   Column    Non-Null Count  Dtype  \n",
      "---  ------    --------------  -----  \n",
      " 0   user_id   18068 non-null  int64  \n",
      " 1   distance  18068 non-null  float64\n",
      " 2   duration  18068 non-null  float64\n",
      " 3   date      18068 non-null  object \n",
      "dtypes: float64(2), int64(1), object(1)\n",
      "memory usage: 564.8+ KB\n"
     ]
    }
   ],
   "source": [
    "# Изучим общую информацию о датафрейме rides\n",
    "rides.info()"
   ]
  },
  {
   "cell_type": "code",
   "execution_count": 9,
   "id": "d7735a82-5e85-48ca-a17a-a8c6ba8cc0f7",
   "metadata": {},
   "outputs": [
    {
     "name": "stdout",
     "output_type": "stream",
     "text": [
      "<class 'pandas.core.frame.DataFrame'>\n",
      "RangeIndex: 2 entries, 0 to 1\n",
      "Data columns (total 4 columns):\n",
      " #   Column             Non-Null Count  Dtype \n",
      "---  ------             --------------  ----- \n",
      " 0   subscription_type  2 non-null      object\n",
      " 1   minute_price       2 non-null      int64 \n",
      " 2   start_ride_price   2 non-null      int64 \n",
      " 3   subscription_fee   2 non-null      int64 \n",
      "dtypes: int64(3), object(1)\n",
      "memory usage: 196.0+ bytes\n"
     ]
    }
   ],
   "source": [
    "# Изучим общую информацию о датафрейме subscriptions\n",
    "subscriptions.info()"
   ]
  },
  {
   "cell_type": "markdown",
   "id": "d0df2bf5-fb8c-478d-bcd8-3a653ffcae79",
   "metadata": {},
   "source": [
    "После загрузки данных мы изучили структуру каждого из датасетов (`users`, `rides`, `subscriptions`) для лучшего понимания информации, с которой будем работать.\n",
    "\n",
    "Датасет `users`:\n",
    "\n",
    "- Содержит информацию о пользователях: уникальный идентификатор, имя, возраст, город и тип подписки.\n",
    "- **Количество записей**: 1565.\n",
    "- **Пропущенные значения**: Нет пропущенных значений.\n",
    "- **Типы данных**: числовые (`int64`) для идентификатора и возраста, текстовые (`object`) для имени, города и типа подписки.\n",
    "\n",
    "Датасет `rides`:\n",
    "\n",
    "- Включает данные о поездках: идентификатор пользователя, пройденное расстояние, продолжительность поездки и дату.\n",
    "- **Количество записей**: 18,068.\n",
    "- **Пропущенные значения**: Нет пропущенных значений.\n",
    "- **Типы данных**: числовые (`float64` для расстояния и продолжительности, `int64` для идентификатора), текстовый формат для даты (`object`), который требует преобразования для удобства временного анализа.\n",
    "\n",
    "Датасет `subscriptions`:\n",
    "\n",
    "- Содержит условия подписки, включая тип подписки, стоимость минуты, стоимость начала поездки и ежемесячную плату.\n",
    "- **Количество записей**: 2, так как в сервисе доступны только два типа подписки (free и ultra).\n",
    "- **Пропущенные значения**: Нет пропущенных значений.\n",
    "- **Типы данных**: числовые (`int64`) для стоимости минуты, стоимости начала поездки и ежемесячной платы, текстовый формат (`object`) для типа подписки.\n",
    "\n",
    "**Общие наблюдения**\n",
    "\n",
    "- Датасет `rides` включает большое количество записей.\n",
    "- Формат даты в `rides` требует преобразования для дальнейшего анализа.\n",
    "- Данные в `subscriptions` статичны (только 2 типа подписки), что упрощает анализ и использование информации при расчетах выручки."
   ]
  },
  {
   "cell_type": "markdown",
   "id": "537bf320-f20d-4ea3-ac01-5cb642aa1446",
   "metadata": {},
   "source": [
    "## Предобработка данных"
   ]
  },
  {
   "cell_type": "markdown",
   "id": "b4e99e10-99b0-4d28-8c0b-9c5a414152fb",
   "metadata": {},
   "source": [
    "### Приведение типов"
   ]
  },
  {
   "cell_type": "code",
   "execution_count": 10,
   "id": "1f66d2e0-4517-460d-a8f4-831634144017",
   "metadata": {},
   "outputs": [],
   "source": [
    "# Преобразуем тип колонки date датафрейма rides в datetime\n",
    "rides['date'] = pd.to_datetime(rides['date'], format='%Y-%m-%d')"
   ]
  },
  {
   "cell_type": "code",
   "execution_count": 11,
   "id": "76b4c104-8493-4adc-b71c-3e905dbc94f8",
   "metadata": {},
   "outputs": [
    {
     "name": "stdout",
     "output_type": "stream",
     "text": [
      "<class 'pandas.core.frame.DataFrame'>\n",
      "RangeIndex: 18068 entries, 0 to 18067\n",
      "Data columns (total 4 columns):\n",
      " #   Column    Non-Null Count  Dtype         \n",
      "---  ------    --------------  -----         \n",
      " 0   user_id   18068 non-null  int64         \n",
      " 1   distance  18068 non-null  float64       \n",
      " 2   duration  18068 non-null  float64       \n",
      " 3   date      18068 non-null  datetime64[ns]\n",
      "dtypes: datetime64[ns](1), float64(2), int64(1)\n",
      "memory usage: 564.8 KB\n"
     ]
    }
   ],
   "source": [
    "# Проверим результат\n",
    "rides.info()"
   ]
  },
  {
   "cell_type": "markdown",
   "id": "f2524007-df55-406a-9340-a91d5c10ba0b",
   "metadata": {},
   "source": [
    "Создадим новый столбец с номером месяца на основе столбца date."
   ]
  },
  {
   "cell_type": "code",
   "execution_count": 12,
   "id": "295a71cd-577c-47d9-87d4-2b01b737393e",
   "metadata": {},
   "outputs": [
    {
     "name": "stdout",
     "output_type": "stream",
     "text": [
      "Уникальные годы в данных: [2021]\n"
     ]
    }
   ],
   "source": [
    "# Проверим уникальные годы в данных\n",
    "rides['year'] = rides['date'].dt.year  # Создаем столбец с годом\n",
    "unique_years = rides['year'].unique()\n",
    "print(\"Уникальные годы в данных:\", unique_years)"
   ]
  },
  {
   "cell_type": "markdown",
   "id": "bb98ebe6-45d0-40e5-906b-dd65726abf0a",
   "metadata": {},
   "source": [
    "В датасете представлены данные только за один год - 2021. Мы можем безопасно использовать столбец `month` для анализа помесячных тенденций."
   ]
  },
  {
   "cell_type": "code",
   "execution_count": 13,
   "id": "7a9154fa-34c4-4e04-a8aa-118856349d46",
   "metadata": {},
   "outputs": [],
   "source": [
    "# Добавим новый столбец содержащий информацию о месяце\n",
    "rides['month'] = rides['date'].dt.month"
   ]
  },
  {
   "cell_type": "code",
   "execution_count": 14,
   "id": "2350031c-5978-4c5f-b088-b967389008be",
   "metadata": {},
   "outputs": [
    {
     "data": {
      "text/html": [
       "<div>\n",
       "<style scoped>\n",
       "    .dataframe tbody tr th:only-of-type {\n",
       "        vertical-align: middle;\n",
       "    }\n",
       "\n",
       "    .dataframe tbody tr th {\n",
       "        vertical-align: top;\n",
       "    }\n",
       "\n",
       "    .dataframe thead th {\n",
       "        text-align: right;\n",
       "    }\n",
       "</style>\n",
       "<table border=\"1\" class=\"dataframe\">\n",
       "  <thead>\n",
       "    <tr style=\"text-align: right;\">\n",
       "      <th></th>\n",
       "      <th>user_id</th>\n",
       "      <th>distance</th>\n",
       "      <th>duration</th>\n",
       "      <th>date</th>\n",
       "      <th>year</th>\n",
       "      <th>month</th>\n",
       "    </tr>\n",
       "  </thead>\n",
       "  <tbody>\n",
       "    <tr>\n",
       "      <th>0</th>\n",
       "      <td>1</td>\n",
       "      <td>4409.919140</td>\n",
       "      <td>25.599769</td>\n",
       "      <td>2021-01-01</td>\n",
       "      <td>2021</td>\n",
       "      <td>1</td>\n",
       "    </tr>\n",
       "    <tr>\n",
       "      <th>1</th>\n",
       "      <td>1</td>\n",
       "      <td>2617.592153</td>\n",
       "      <td>15.816871</td>\n",
       "      <td>2021-01-18</td>\n",
       "      <td>2021</td>\n",
       "      <td>1</td>\n",
       "    </tr>\n",
       "    <tr>\n",
       "      <th>2</th>\n",
       "      <td>1</td>\n",
       "      <td>754.159807</td>\n",
       "      <td>6.232113</td>\n",
       "      <td>2021-04-20</td>\n",
       "      <td>2021</td>\n",
       "      <td>4</td>\n",
       "    </tr>\n",
       "    <tr>\n",
       "      <th>3</th>\n",
       "      <td>1</td>\n",
       "      <td>2694.783254</td>\n",
       "      <td>18.511000</td>\n",
       "      <td>2021-08-11</td>\n",
       "      <td>2021</td>\n",
       "      <td>8</td>\n",
       "    </tr>\n",
       "    <tr>\n",
       "      <th>4</th>\n",
       "      <td>1</td>\n",
       "      <td>4028.687306</td>\n",
       "      <td>26.265803</td>\n",
       "      <td>2021-08-28</td>\n",
       "      <td>2021</td>\n",
       "      <td>8</td>\n",
       "    </tr>\n",
       "  </tbody>\n",
       "</table>\n",
       "</div>"
      ],
      "text/plain": [
       "   user_id     distance   duration       date  year  month\n",
       "0        1  4409.919140  25.599769 2021-01-01  2021      1\n",
       "1        1  2617.592153  15.816871 2021-01-18  2021      1\n",
       "2        1   754.159807   6.232113 2021-04-20  2021      4\n",
       "3        1  2694.783254  18.511000 2021-08-11  2021      8\n",
       "4        1  4028.687306  26.265803 2021-08-28  2021      8"
      ]
     },
     "execution_count": 14,
     "metadata": {},
     "output_type": "execute_result"
    }
   ],
   "source": [
    "# Проверим результат\n",
    "rides.head()"
   ]
  },
  {
   "cell_type": "markdown",
   "id": "741faa6d-d9a8-4ec6-9fdb-057bcda1992d",
   "metadata": {},
   "source": [
    "### Обработка пропусков"
   ]
  },
  {
   "cell_type": "code",
   "execution_count": 15,
   "id": "e74fc1e4-a132-42e4-91bd-28ea3193ebf1",
   "metadata": {},
   "outputs": [
    {
     "data": {
      "text/plain": [
       "user_id              0\n",
       "name                 0\n",
       "age                  0\n",
       "city                 0\n",
       "subscription_type    0\n",
       "dtype: int64"
      ]
     },
     "execution_count": 15,
     "metadata": {},
     "output_type": "execute_result"
    }
   ],
   "source": [
    "# Проверим наличие пропусков в датафрейме users\n",
    "users.isna().sum()"
   ]
  },
  {
   "cell_type": "code",
   "execution_count": 16,
   "id": "d42d6164-1192-4c17-8a1e-579f059a7e58",
   "metadata": {},
   "outputs": [
    {
     "data": {
      "text/plain": [
       "user_id     0\n",
       "distance    0\n",
       "duration    0\n",
       "date        0\n",
       "year        0\n",
       "month       0\n",
       "dtype: int64"
      ]
     },
     "execution_count": 16,
     "metadata": {},
     "output_type": "execute_result"
    }
   ],
   "source": [
    "# Проверим наличие пропусков в датафрейме rides\n",
    "rides.isna().sum()"
   ]
  },
  {
   "cell_type": "code",
   "execution_count": 17,
   "id": "8d892d4a-3a59-4f01-9e1b-bc42a95b28ce",
   "metadata": {},
   "outputs": [
    {
     "data": {
      "text/plain": [
       "subscription_type    0\n",
       "minute_price         0\n",
       "start_ride_price     0\n",
       "subscription_fee     0\n",
       "dtype: int64"
      ]
     },
     "execution_count": 17,
     "metadata": {},
     "output_type": "execute_result"
    }
   ],
   "source": [
    "# Проверим наоичие пропусков в датафрейме subscriptions\n",
    "subscriptions.isna().sum()"
   ]
  },
  {
   "cell_type": "markdown",
   "id": "5eb6a9e4-1b97-4ca2-b0c3-1a9b6d24576b",
   "metadata": {},
   "source": [
    "Ни в одном из датафреймов не было обнаружено пропущенных значений."
   ]
  },
  {
   "cell_type": "markdown",
   "id": "a943d9e3-b055-4ee9-99b8-d1de29fefbbf",
   "metadata": {},
   "source": [
    "### Обработка дубликатов"
   ]
  },
  {
   "cell_type": "code",
   "execution_count": 19,
   "id": "d38ddcc7-8ee8-4638-8d02-288c81dcb8bc",
   "metadata": {},
   "outputs": [
    {
     "name": "stdout",
     "output_type": "stream",
     "text": [
      "Количество дубликатов в датафрейме users: 31\n",
      "Количество дубликатов в датафрейме rides: 0\n",
      "Количество дубликатов в датафрейме subscriptions: 0\n"
     ]
    }
   ],
   "source": [
    "# Проверим наличие дубликатов в датафреймах\n",
    "print(f'Количество дубликатов в датафрейме users: {users.duplicated().sum()}')\n",
    "print(f'Количество дубликатов в датафрейме rides: {rides.duplicated().sum()}')\n",
    "print(f'Количество дубликатов в датафрейме subscriptions: {subscriptions.duplicated().sum()}')"
   ]
  },
  {
   "cell_type": "markdown",
   "id": "b23fcfb3-606c-4bbf-be51-2190ca57d5cf",
   "metadata": {},
   "source": [
    "Дубликаты присустствуют только в датафрейме users. Избавимся от явных дубликатов в этом датасете"
   ]
  },
  {
   "cell_type": "code",
   "execution_count": 20,
   "id": "1a92cbd1-99e4-4ae3-977e-e779e77e3e2c",
   "metadata": {},
   "outputs": [],
   "source": [
    "# Избавимся от явных дубликатов в датафрейме users\n",
    "users = users.drop_duplicates()"
   ]
  },
  {
   "cell_type": "code",
   "execution_count": 21,
   "id": "758bbb71-40db-4aab-b3bd-b23f6b888593",
   "metadata": {},
   "outputs": [
    {
     "data": {
      "text/plain": [
       "0"
      ]
     },
     "execution_count": 21,
     "metadata": {},
     "output_type": "execute_result"
    }
   ],
   "source": [
    "# Проверим результат\n",
    "users.duplicated().sum()"
   ]
  },
  {
   "cell_type": "markdown",
   "id": "7db0cc91-839d-497a-a861-37234b4425d8",
   "metadata": {},
   "source": [
    "На этом шаге мы выполнили основные пункты предобработки данных:\n",
    "- Сконвертировали столбец date в датафрейме rides в datetime\n",
    "- Добавили новую колонку с порядковым номером месяца\n",
    "- Проверили наличие пропусков и дубликатов. Избавились от явных дубликатов в данных."
   ]
  },
  {
   "cell_type": "code",
   "execution_count": null,
   "id": "97229e54-db42-4ae0-9ec0-779b9636a7a4",
   "metadata": {},
   "outputs": [],
   "source": []
  }
 ],
 "metadata": {
  "kernelspec": {
   "display_name": "Python 3 (ipykernel)",
   "language": "python",
   "name": "python3"
  },
  "language_info": {
   "codemirror_mode": {
    "name": "ipython",
    "version": 3
   },
   "file_extension": ".py",
   "mimetype": "text/x-python",
   "name": "python",
   "nbconvert_exporter": "python",
   "pygments_lexer": "ipython3",
   "version": "3.12.4"
  }
 },
 "nbformat": 4,
 "nbformat_minor": 5
}
