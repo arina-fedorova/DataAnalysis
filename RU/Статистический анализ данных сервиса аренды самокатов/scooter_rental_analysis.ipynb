{
 "cells": [
  {
   "cell_type": "markdown",
   "id": "8ac96665-2303-47e0-9514-494ce4cee93e",
   "metadata": {},
   "source": [
    "# Статистический анализ данных сервиса аренды самокатов"
   ]
  },
  {
   "cell_type": "markdown",
   "id": "4e7d65b5-9a5c-4ae1-96e8-69c1a2546406",
   "metadata": {},
   "source": [
    "- **Описание**: Цель проекта — провести статистический анализ данных пользователей и их поездок для сервиса аренды самокатов. В рамках исследования анализируются данные о подписках, поездках и пользователях из разных городов. Основной задачей является выявление паттернов поведения пользователей и проверка гипотез, чтобы помочь бизнесу повысить доходность и оптимизировать маркетинговые стратегии.\n",
    "- **Задачи исследования**:\n",
    "    1. Исследовать демографические данные пользователей и их поведенческие паттерны.\n",
    "    2. Сравнить пользователей с подпиской и без подписки по ключевым показателям (выручка, время и расстояние поездок).\n",
    "    3. Оценить сезонные колебания выручки для оптимизации маркетинговых активностей.\n",
    "    4. Проверить гипотезы о поведении пользователей с подпиской и без подписки.\n",
    "    5. Определить оптимальные параметры для рассылок промокодов и push-уведомлений."
   ]
  },
  {
   "cell_type": "code",
   "execution_count": 1,
   "id": "516fec82-1232-4f19-9141-965bb9607a8e",
   "metadata": {},
   "outputs": [],
   "source": [
    "import pandas as pd\n",
    "import matplotlib.pyplot as plt\n",
    "import seaborn as sns\n",
    "from scipy import stats\n",
    "from scipy.stats import binom\n",
    "from scipy.stats import norm"
   ]
  },
  {
   "cell_type": "markdown",
   "id": "a0ac7821-b847-4387-8bb5-225acebe80c4",
   "metadata": {},
   "source": [
    "## Загрузка данных"
   ]
  },
  {
   "cell_type": "markdown",
   "id": "4703d587-af95-419d-a135-a5311f455dc9",
   "metadata": {},
   "source": [
    "- Загрузим каждый CSV-файл в отдельный датафрейм, используя библиотеку pandas.\n",
    "- Выведем первые строки каждого датафрейма для знакомства с данными.\n",
    "- Получим общую информацию о каждом датафрейме, чтобы понять структуру и типы данных.\n",
    "\n",
    "**Описание данных**:\n",
    "\n",
    "В основных данных есть информация о пользователях, их поездках и подписках.\n",
    "\n",
    "- **Пользователи — `users_go.csv`**:\n",
    "    - `user_id` — уникальный идентификатор пользователя.\n",
    "    - `name` — имя пользователя.\n",
    "    - `age` — возраст пользователя.\n",
    "    - `city` — город проживания пользователя.\n",
    "    - `subscription_type` — тип подписки (free или ultra).\n",
    "- **Поездки — `rides_go.csv`**:\n",
    "    - `user_id` — уникальный идентификатор пользователя.\n",
    "    - `distance` — расстояние поездки (в метрах).\n",
    "    - `duration` — продолжительность поездки (в минутах).\n",
    "    - `date` — дата поездки.\n",
    "- **Подписки** — **`subscriptions_go.csv`**:\n",
    "    - `subscription_type` — тип подписки.\n",
    "    - `minute_price` — стоимость одной минуты поездки для данного типа подписки.\n",
    "    - `start_ride_price` — стоимость начала поездки.\n",
    "    - `subscription_fee` — ежемесячная плата за подписку."
   ]
  },
  {
   "cell_type": "code",
   "execution_count": 3,
   "id": "6c83df09-9be2-4d0d-a4cc-e1608bd140df",
   "metadata": {},
   "outputs": [],
   "source": [
    "# Загрузим данные из датасетов\n",
    "users = pd.read_csv('datasets/users_go.csv')\n",
    "rides = pd.read_csv('datasets/rides_go.csv')\n",
    "subscriptions = pd.read_csv('datasets/subscriptions_go.csv')"
   ]
  },
  {
   "cell_type": "code",
   "execution_count": 4,
   "id": "ea39fe0d-953f-408e-9bba-312ed6036810",
   "metadata": {},
   "outputs": [
    {
     "data": {
      "text/html": [
       "<div>\n",
       "<style scoped>\n",
       "    .dataframe tbody tr th:only-of-type {\n",
       "        vertical-align: middle;\n",
       "    }\n",
       "\n",
       "    .dataframe tbody tr th {\n",
       "        vertical-align: top;\n",
       "    }\n",
       "\n",
       "    .dataframe thead th {\n",
       "        text-align: right;\n",
       "    }\n",
       "</style>\n",
       "<table border=\"1\" class=\"dataframe\">\n",
       "  <thead>\n",
       "    <tr style=\"text-align: right;\">\n",
       "      <th></th>\n",
       "      <th>user_id</th>\n",
       "      <th>name</th>\n",
       "      <th>age</th>\n",
       "      <th>city</th>\n",
       "      <th>subscription_type</th>\n",
       "    </tr>\n",
       "  </thead>\n",
       "  <tbody>\n",
       "    <tr>\n",
       "      <th>0</th>\n",
       "      <td>1</td>\n",
       "      <td>Кира</td>\n",
       "      <td>22</td>\n",
       "      <td>Тюмень</td>\n",
       "      <td>ultra</td>\n",
       "    </tr>\n",
       "    <tr>\n",
       "      <th>1</th>\n",
       "      <td>2</td>\n",
       "      <td>Станислав</td>\n",
       "      <td>31</td>\n",
       "      <td>Омск</td>\n",
       "      <td>ultra</td>\n",
       "    </tr>\n",
       "    <tr>\n",
       "      <th>2</th>\n",
       "      <td>3</td>\n",
       "      <td>Алексей</td>\n",
       "      <td>20</td>\n",
       "      <td>Москва</td>\n",
       "      <td>ultra</td>\n",
       "    </tr>\n",
       "    <tr>\n",
       "      <th>3</th>\n",
       "      <td>4</td>\n",
       "      <td>Константин</td>\n",
       "      <td>26</td>\n",
       "      <td>Ростов-на-Дону</td>\n",
       "      <td>ultra</td>\n",
       "    </tr>\n",
       "    <tr>\n",
       "      <th>4</th>\n",
       "      <td>5</td>\n",
       "      <td>Адель</td>\n",
       "      <td>28</td>\n",
       "      <td>Омск</td>\n",
       "      <td>ultra</td>\n",
       "    </tr>\n",
       "  </tbody>\n",
       "</table>\n",
       "</div>"
      ],
      "text/plain": [
       "   user_id        name  age            city subscription_type\n",
       "0        1        Кира   22          Тюмень             ultra\n",
       "1        2   Станислав   31            Омск             ultra\n",
       "2        3     Алексей   20          Москва             ultra\n",
       "3        4  Константин   26  Ростов-на-Дону             ultra\n",
       "4        5       Адель   28            Омск             ultra"
      ]
     },
     "execution_count": 4,
     "metadata": {},
     "output_type": "execute_result"
    }
   ],
   "source": [
    "# Взглянем на первые строки датафрейма users\n",
    "users.head()"
   ]
  },
  {
   "cell_type": "code",
   "execution_count": 5,
   "id": "6911120b-863c-4c93-b99e-910742757e37",
   "metadata": {},
   "outputs": [
    {
     "data": {
      "text/html": [
       "<div>\n",
       "<style scoped>\n",
       "    .dataframe tbody tr th:only-of-type {\n",
       "        vertical-align: middle;\n",
       "    }\n",
       "\n",
       "    .dataframe tbody tr th {\n",
       "        vertical-align: top;\n",
       "    }\n",
       "\n",
       "    .dataframe thead th {\n",
       "        text-align: right;\n",
       "    }\n",
       "</style>\n",
       "<table border=\"1\" class=\"dataframe\">\n",
       "  <thead>\n",
       "    <tr style=\"text-align: right;\">\n",
       "      <th></th>\n",
       "      <th>user_id</th>\n",
       "      <th>distance</th>\n",
       "      <th>duration</th>\n",
       "      <th>date</th>\n",
       "    </tr>\n",
       "  </thead>\n",
       "  <tbody>\n",
       "    <tr>\n",
       "      <th>0</th>\n",
       "      <td>1</td>\n",
       "      <td>4409.919140</td>\n",
       "      <td>25.599769</td>\n",
       "      <td>2021-01-01</td>\n",
       "    </tr>\n",
       "    <tr>\n",
       "      <th>1</th>\n",
       "      <td>1</td>\n",
       "      <td>2617.592153</td>\n",
       "      <td>15.816871</td>\n",
       "      <td>2021-01-18</td>\n",
       "    </tr>\n",
       "    <tr>\n",
       "      <th>2</th>\n",
       "      <td>1</td>\n",
       "      <td>754.159807</td>\n",
       "      <td>6.232113</td>\n",
       "      <td>2021-04-20</td>\n",
       "    </tr>\n",
       "    <tr>\n",
       "      <th>3</th>\n",
       "      <td>1</td>\n",
       "      <td>2694.783254</td>\n",
       "      <td>18.511000</td>\n",
       "      <td>2021-08-11</td>\n",
       "    </tr>\n",
       "    <tr>\n",
       "      <th>4</th>\n",
       "      <td>1</td>\n",
       "      <td>4028.687306</td>\n",
       "      <td>26.265803</td>\n",
       "      <td>2021-08-28</td>\n",
       "    </tr>\n",
       "  </tbody>\n",
       "</table>\n",
       "</div>"
      ],
      "text/plain": [
       "   user_id     distance   duration        date\n",
       "0        1  4409.919140  25.599769  2021-01-01\n",
       "1        1  2617.592153  15.816871  2021-01-18\n",
       "2        1   754.159807   6.232113  2021-04-20\n",
       "3        1  2694.783254  18.511000  2021-08-11\n",
       "4        1  4028.687306  26.265803  2021-08-28"
      ]
     },
     "execution_count": 5,
     "metadata": {},
     "output_type": "execute_result"
    }
   ],
   "source": [
    "# Взглянем на первые строки датафрейма rides\n",
    "rides.head()"
   ]
  },
  {
   "cell_type": "code",
   "execution_count": 6,
   "id": "e71db594-7456-4eed-86e9-f89c018bac86",
   "metadata": {},
   "outputs": [
    {
     "data": {
      "text/html": [
       "<div>\n",
       "<style scoped>\n",
       "    .dataframe tbody tr th:only-of-type {\n",
       "        vertical-align: middle;\n",
       "    }\n",
       "\n",
       "    .dataframe tbody tr th {\n",
       "        vertical-align: top;\n",
       "    }\n",
       "\n",
       "    .dataframe thead th {\n",
       "        text-align: right;\n",
       "    }\n",
       "</style>\n",
       "<table border=\"1\" class=\"dataframe\">\n",
       "  <thead>\n",
       "    <tr style=\"text-align: right;\">\n",
       "      <th></th>\n",
       "      <th>subscription_type</th>\n",
       "      <th>minute_price</th>\n",
       "      <th>start_ride_price</th>\n",
       "      <th>subscription_fee</th>\n",
       "    </tr>\n",
       "  </thead>\n",
       "  <tbody>\n",
       "    <tr>\n",
       "      <th>0</th>\n",
       "      <td>free</td>\n",
       "      <td>8</td>\n",
       "      <td>50</td>\n",
       "      <td>0</td>\n",
       "    </tr>\n",
       "    <tr>\n",
       "      <th>1</th>\n",
       "      <td>ultra</td>\n",
       "      <td>6</td>\n",
       "      <td>0</td>\n",
       "      <td>199</td>\n",
       "    </tr>\n",
       "  </tbody>\n",
       "</table>\n",
       "</div>"
      ],
      "text/plain": [
       "  subscription_type  minute_price  start_ride_price  subscription_fee\n",
       "0              free             8                50                 0\n",
       "1             ultra             6                 0               199"
      ]
     },
     "execution_count": 6,
     "metadata": {},
     "output_type": "execute_result"
    }
   ],
   "source": [
    "# Взглянем на первые строки датайрейма subscriptions\n",
    "subscriptions.head()"
   ]
  },
  {
   "cell_type": "code",
   "execution_count": 7,
   "id": "1bc87b4c-1f6e-4aac-b6ac-9720145a47a7",
   "metadata": {},
   "outputs": [
    {
     "name": "stdout",
     "output_type": "stream",
     "text": [
      "<class 'pandas.core.frame.DataFrame'>\n",
      "RangeIndex: 1565 entries, 0 to 1564\n",
      "Data columns (total 5 columns):\n",
      " #   Column             Non-Null Count  Dtype \n",
      "---  ------             --------------  ----- \n",
      " 0   user_id            1565 non-null   int64 \n",
      " 1   name               1565 non-null   object\n",
      " 2   age                1565 non-null   int64 \n",
      " 3   city               1565 non-null   object\n",
      " 4   subscription_type  1565 non-null   object\n",
      "dtypes: int64(2), object(3)\n",
      "memory usage: 61.3+ KB\n"
     ]
    }
   ],
   "source": [
    "# Изучим общую информацию о датафрейме users\n",
    "users.info()"
   ]
  },
  {
   "cell_type": "code",
   "execution_count": 8,
   "id": "9003bffb-0714-439b-b628-bcdc1b77b6b7",
   "metadata": {},
   "outputs": [
    {
     "name": "stdout",
     "output_type": "stream",
     "text": [
      "<class 'pandas.core.frame.DataFrame'>\n",
      "RangeIndex: 18068 entries, 0 to 18067\n",
      "Data columns (total 4 columns):\n",
      " #   Column    Non-Null Count  Dtype  \n",
      "---  ------    --------------  -----  \n",
      " 0   user_id   18068 non-null  int64  \n",
      " 1   distance  18068 non-null  float64\n",
      " 2   duration  18068 non-null  float64\n",
      " 3   date      18068 non-null  object \n",
      "dtypes: float64(2), int64(1), object(1)\n",
      "memory usage: 564.8+ KB\n"
     ]
    }
   ],
   "source": [
    "# Изучим общую информацию о датафрейме rides\n",
    "rides.info()"
   ]
  },
  {
   "cell_type": "code",
   "execution_count": 9,
   "id": "d7735a82-5e85-48ca-a17a-a8c6ba8cc0f7",
   "metadata": {},
   "outputs": [
    {
     "name": "stdout",
     "output_type": "stream",
     "text": [
      "<class 'pandas.core.frame.DataFrame'>\n",
      "RangeIndex: 2 entries, 0 to 1\n",
      "Data columns (total 4 columns):\n",
      " #   Column             Non-Null Count  Dtype \n",
      "---  ------             --------------  ----- \n",
      " 0   subscription_type  2 non-null      object\n",
      " 1   minute_price       2 non-null      int64 \n",
      " 2   start_ride_price   2 non-null      int64 \n",
      " 3   subscription_fee   2 non-null      int64 \n",
      "dtypes: int64(3), object(1)\n",
      "memory usage: 196.0+ bytes\n"
     ]
    }
   ],
   "source": [
    "# Изучим общую информацию о датафрейме subscriptions\n",
    "subscriptions.info()"
   ]
  },
  {
   "cell_type": "markdown",
   "id": "d0df2bf5-fb8c-478d-bcd8-3a653ffcae79",
   "metadata": {},
   "source": [
    "После загрузки данных мы изучили структуру каждого из датасетов (`users`, `rides`, `subscriptions`) для лучшего понимания информации, с которой будем работать.\n",
    "\n",
    "Датасет `users`:\n",
    "\n",
    "- Содержит информацию о пользователях: уникальный идентификатор, имя, возраст, город и тип подписки.\n",
    "- **Количество записей**: 1565.\n",
    "- **Пропущенные значения**: Нет пропущенных значений.\n",
    "- **Типы данных**: числовые (`int64`) для идентификатора и возраста, текстовые (`object`) для имени, города и типа подписки.\n",
    "\n",
    "Датасет `rides`:\n",
    "\n",
    "- Включает данные о поездках: идентификатор пользователя, пройденное расстояние, продолжительность поездки и дату.\n",
    "- **Количество записей**: 18,068.\n",
    "- **Пропущенные значения**: Нет пропущенных значений.\n",
    "- **Типы данных**: числовые (`float64` для расстояния и продолжительности, `int64` для идентификатора), текстовый формат для даты (`object`), который требует преобразования для удобства временного анализа.\n",
    "\n",
    "Датасет `subscriptions`:\n",
    "\n",
    "- Содержит условия подписки, включая тип подписки, стоимость минуты, стоимость начала поездки и ежемесячную плату.\n",
    "- **Количество записей**: 2, так как в сервисе доступны только два типа подписки (free и ultra).\n",
    "- **Пропущенные значения**: Нет пропущенных значений.\n",
    "- **Типы данных**: числовые (`int64`) для стоимости минуты, стоимости начала поездки и ежемесячной платы, текстовый формат (`object`) для типа подписки.\n",
    "\n",
    "**Общие наблюдения**\n",
    "\n",
    "- Датасет `rides` включает большое количество записей.\n",
    "- Формат даты в `rides` требует преобразования для дальнейшего анализа.\n",
    "- Данные в `subscriptions` статичны (только 2 типа подписки), что упрощает анализ и использование информации при расчетах выручки."
   ]
  },
  {
   "cell_type": "markdown",
   "id": "537bf320-f20d-4ea3-ac01-5cb642aa1446",
   "metadata": {},
   "source": [
    "## Предобработка данных"
   ]
  },
  {
   "cell_type": "code",
   "execution_count": null,
   "id": "0aeba11e-1116-4e5e-8c05-296c126f8536",
   "metadata": {},
   "outputs": [],
   "source": []
  }
 ],
 "metadata": {
  "kernelspec": {
   "display_name": "Python 3 (ipykernel)",
   "language": "python",
   "name": "python3"
  },
  "language_info": {
   "codemirror_mode": {
    "name": "ipython",
    "version": 3
   },
   "file_extension": ".py",
   "mimetype": "text/x-python",
   "name": "python",
   "nbconvert_exporter": "python",
   "pygments_lexer": "ipython3",
   "version": "3.12.4"
  }
 },
 "nbformat": 4,
 "nbformat_minor": 5
}
