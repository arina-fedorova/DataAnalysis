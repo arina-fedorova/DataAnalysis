{
 "cells": [
  {
   "cell_type": "markdown",
   "id": "9b6468f2",
   "metadata": {},
   "source": [
    "# Data Analysis Project\n",
    "Author: [Your Name]\n",
    "Date: [Date]"
   ]
  },
  {
   "cell_type": "markdown",
   "id": "fbf33969",
   "metadata": {},
   "source": [
    "## Project Description\n",
    "**Goal**: [State the analysis goal]\n",
    "\n",
    "**Data**: [Source and description of the data]"
   ]
  },
  {
   "cell_type": "markdown",
   "id": "ec4cac9c",
   "metadata": {},
   "source": [
    "## 1. Import Libraries"
   ]
  },
  {
   "cell_type": "code",
   "execution_count": null,
   "id": "82740c58",
   "metadata": {},
   "outputs": [],
   "source": [
    "import pandas as pd\n",
    "import numpy as np\n",
    "import matplotlib.pyplot as plt\n",
    "import seaborn as sns\n",
    "\n",
    "from sklearn.model_selection import train_test_split\n",
    "from sklearn.preprocessing import StandardScaler, OneHotEncoder\n",
    "from sklearn.compose import ColumnTransformer\n",
    "from sklearn.pipeline import Pipeline\n",
    "from sklearn.impute import SimpleImputer\n",
    "from sklearn.ensemble import RandomForestRegressor\n",
    "from sklearn.metrics import mean_squared_error\n",
    "\n",
    "# Utility\n",
    "import warnings\n",
    "warnings.filterwarnings('ignore')"
   ]
  },
  {
   "cell_type": "markdown",
   "id": "121fa175",
   "metadata": {},
   "source": [
    "## 2. Data Loading and Initial Analysis"
   ]
  },
  {
   "cell_type": "code",
   "execution_count": null,
   "id": "59c6c804",
   "metadata": {},
   "outputs": [],
   "source": [
    "# data = pd.read_csv('your_data.csv')\n",
    "# data.head()\n",
    "# data.info()\n",
    "# data.describe()"
   ]
  },
  {
   "cell_type": "markdown",
   "id": "75d2e8ca",
   "metadata": {},
   "source": [
    "## 3. Data Preprocessing"
   ]
  },
  {
   "cell_type": "markdown",
   "id": "40834f24",
   "metadata": {},
   "source": [
    "### 3.1 Handling missing values"
   ]
  },
  {
   "cell_type": "code",
   "execution_count": null,
   "id": "df509d13",
   "metadata": {},
   "outputs": [],
   "source": [
    "# Your code here"
   ]
  },
  {
   "cell_type": "markdown",
   "id": "2c7c4ca2",
   "metadata": {},
   "source": [
    "### 3.2 Handling anomalies"
   ]
  },
  {
   "cell_type": "code",
   "execution_count": null,
   "id": "e094cc06",
   "metadata": {},
   "outputs": [],
   "source": [
    "# Your code here"
   ]
  },
  {
   "cell_type": "markdown",
   "id": "6701a231",
   "metadata": {},
   "source": [
    "### 3.3 Feature engineering (if needed)"
   ]
  },
  {
   "cell_type": "code",
   "execution_count": null,
   "id": "99509e3a",
   "metadata": {},
   "outputs": [],
   "source": [
    "# Your code here"
   ]
  },
  {
   "cell_type": "markdown",
   "id": "83baa5b6-0bed-4582-af91-04842c56e9a7",
   "metadata": {},
   "source": [
    "### 3.4 Conclusions"
   ]
  },
  {
   "cell_type": "markdown",
   "id": "88d2d2a4-ca53-4302-b9f8-9ddb86043869",
   "metadata": {},
   "source": []
  },
  {
   "cell_type": "markdown",
   "id": "2b78d585",
   "metadata": {},
   "source": [
    "## 4. Exploratory Data Analysis (EDA)"
   ]
  },
  {
   "cell_type": "markdown",
   "id": "75c1c8b3",
   "metadata": {},
   "source": [
    "### 4.1 Feature distributions"
   ]
  },
  {
   "cell_type": "code",
   "execution_count": null,
   "id": "0f1c2f7b",
   "metadata": {},
   "outputs": [],
   "source": [
    "# Your code here"
   ]
  },
  {
   "cell_type": "markdown",
   "id": "bca02114",
   "metadata": {},
   "source": [
    "### 4.2 Relationships between features"
   ]
  },
  {
   "cell_type": "code",
   "execution_count": null,
   "id": "50b20c85",
   "metadata": {},
   "outputs": [],
   "source": [
    "# Your code here"
   ]
  },
  {
   "cell_type": "markdown",
   "id": "da27905c",
   "metadata": {},
   "source": [
    "### 4.3 Identifying patterns and anomalies"
   ]
  },
  {
   "cell_type": "code",
   "execution_count": null,
   "id": "eec32440",
   "metadata": {},
   "outputs": [],
   "source": [
    "# Your code here"
   ]
  },
  {
   "cell_type": "markdown",
   "id": "5722a78b-bccc-47d3-aa94-fe1370f6e6f4",
   "metadata": {},
   "source": [
    "### 4.4 Conclusions"
   ]
  },
  {
   "cell_type": "markdown",
   "id": "060bc47e-31d3-432f-ae6e-2379739e67bd",
   "metadata": {},
   "source": []
  },
  {
   "cell_type": "markdown",
   "id": "dfa17edf",
   "metadata": {},
   "source": [
    "## 5. Dataset Splitting"
   ]
  },
  {
   "cell_type": "code",
   "execution_count": null,
   "id": "c90c7429",
   "metadata": {},
   "outputs": [],
   "source": [
    "X = data.drop('target_column', axis=1)\n",
    "y = data['target_column']\n",
    "\n",
    "X_train, X_valid, y_train, y_valid = train_test_split(X, y, test_size=0.2, random_state=42)"
   ]
  },
  {
   "cell_type": "markdown",
   "id": "8554945c",
   "metadata": {},
   "source": [
    "## 6. Model Building with Pipeline"
   ]
  },
  {
   "cell_type": "code",
   "execution_count": null,
   "id": "064a213b",
   "metadata": {},
   "outputs": [],
   "source": [
    "# Example pipeline\n",
    "\n",
    "num_features = ['num_feature1', 'num_feature2']\n",
    "cat_features = ['cat_feature1', 'cat_feature2']\n",
    "\n",
    "num_transformer = Pipeline(steps=[\n",
    "    ('imputer', SimpleImputer(strategy='median')),\n",
    "    ('scaler', StandardScaler())\n",
    "])\n",
    "\n",
    "cat_transformer = Pipeline(steps=[\n",
    "    ('imputer', SimpleImputer(strategy='most_frequent')),\n",
    "    ('encoder', OneHotEncoder(handle_unknown='ignore'))\n",
    "])\n",
    "\n",
    "preprocessor = ColumnTransformer(transformers=[\n",
    "    ('num', num_transformer, num_features),\n",
    "    ('cat', cat_transformer, cat_features)\n",
    "])\n",
    "\n",
    "model = Pipeline(steps=[\n",
    "    ('preprocessor', preprocessor),\n",
    "    ('regressor', RandomForestRegressor(random_state=42))\n",
    "])\n",
    "\n",
    "model.fit(X_train, y_train)\n",
    "predictions = model.predict(X_valid)\n",
    "\n",
    "rmse = mean_squared_error(y_valid, predictions, squared=False)\n",
    "print('RMSE:', rmse)"
   ]
  },
  {
   "cell_type": "markdown",
   "id": "8927b10b",
   "metadata": {},
   "source": [
    "## 7. Conclusions and Recommendations"
   ]
  },
  {
   "cell_type": "markdown",
   "id": "f5eed9f8",
   "metadata": {},
   "source": [
    "### 7.1 Main results of the analysis"
   ]
  },
  {
   "cell_type": "code",
   "execution_count": null,
   "id": "88d9aab1",
   "metadata": {},
   "outputs": [],
   "source": [
    "# Your conclusions here"
   ]
  },
  {
   "cell_type": "markdown",
   "id": "b0939ca1",
   "metadata": {},
   "source": [
    "### 7.2 Which approaches performed best"
   ]
  },
  {
   "cell_type": "code",
   "execution_count": null,
   "id": "b873500f",
   "metadata": {},
   "outputs": [],
   "source": [
    "# Your conclusions here"
   ]
  },
  {
   "cell_type": "markdown",
   "id": "a41f15e5",
   "metadata": {},
   "source": [
    "### 7.3 Potential directions for further work"
   ]
  },
  {
   "cell_type": "code",
   "execution_count": null,
   "id": "a16573ea",
   "metadata": {},
   "outputs": [],
   "source": [
    "# Your ideas here"
   ]
  },
  {
   "cell_type": "markdown",
   "id": "d6dc60d0",
   "metadata": {},
   "source": [
    "## 8. Appendices (optional)"
   ]
  },
  {
   "cell_type": "code",
   "execution_count": null,
   "id": "9c189c33",
   "metadata": {},
   "outputs": [],
   "source": [
    "# Feature importance, additional plots, etc."
   ]
  }
 ],
 "metadata": {
  "kernelspec": {
   "display_name": "Python 3 (ipykernel)",
   "language": "python",
   "name": "python3"
  },
  "language_info": {
   "codemirror_mode": {
    "name": "ipython",
    "version": 3
   },
   "file_extension": ".py",
   "mimetype": "text/x-python",
   "name": "python",
   "nbconvert_exporter": "python",
   "pygments_lexer": "ipython3",
   "version": "3.12.4"
  }
 },
 "nbformat": 4,
 "nbformat_minor": 5
}
